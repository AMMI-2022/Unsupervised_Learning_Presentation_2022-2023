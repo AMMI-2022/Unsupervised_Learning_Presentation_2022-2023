{
  "nbformat": 4,
  "nbformat_minor": 0,
  "metadata": {
    "colab": {
      "provenance": []
    },
    "kernelspec": {
      "name": "python3",
      "display_name": "Python 3"
    },
    "language_info": {
      "name": "python"
    }
  },
  "cells": [
    {
      "cell_type": "markdown",
      "source": [
        "# Feature Selection\n",
        "\n",
        "* As a data scientist, it is crucial to understand the importance of feature selection when buliding a machine learning problem\n",
        "\n",
        "* It is almost rare that all the variables in the dataset are useful for buildin a model.\n",
        "\n",
        "* Feature selection looks at different methods one can use to select the best set of features to build optimized models.\n",
        "\n",
        "## Types\n",
        "1. Wrapper - Forward feature selection, Backward feature selection\n",
        "2. Lasso\n",
        "3. Filter - Pearson, ANOVA, Chi-squared\n",
        "\n",
        "We will create three classes for each feature selection method"
      ],
      "metadata": {
        "id": "sRE1uTea1WLL"
      }
    },
    {
      "cell_type": "markdown",
      "source": [
        "#### Let us import the various libraries we will use"
      ],
      "metadata": {
        "id": "6ndeUrgrgpfw"
      }
    },
    {
      "cell_type": "code",
      "source": [
        "from sklearn.datasets import load_wine, load_breast_cancer, load_diabetes\n",
        "from sklearn.model_selection import cross_val_score, KFold\n",
        "from sklearn.linear_model import LogisticRegression, LinearRegression\n",
        "from sklearn.preprocessing import StandardScaler\n",
        "from sklearn.linear_model import Lasso\n",
        "from sklearn import datasets\n",
        "from scipy.stats import f_oneway\n",
        "from scipy.stats import chi2_contingency\n",
        "\n",
        "import pandas as pd\n",
        "import numpy as np\n",
        "import matplotlib.pyplot as plt\n",
        "import seaborn as sns"
      ],
      "metadata": {
        "id": "zM6JxaMLiSx9"
      },
      "execution_count": 1,
      "outputs": []
    },
    {
      "cell_type": "markdown",
      "source": [
        "## Wrapper Method Class"
      ],
      "metadata": {
        "id": "rVe9oy28gwTc"
      }
    },
    {
      "cell_type": "code",
      "execution_count": 2,
      "metadata": {
        "id": "0lXZAh3VgbtL"
      },
      "outputs": [],
      "source": [
        "class Wrapper():\n",
        "\n",
        "  def __init__(self):\n",
        "    pass\n",
        "\n",
        "\n",
        "  def forward_feature_selection(self, X, y, k, num_final_features):\n",
        "    '''\n",
        "    This method takes the features part of the dataset X, the output y, the number of k-folds k and the desired number of features,\n",
        "    num_final_features.\n",
        "    '''\n",
        "    self.X = X\n",
        "    self.y = y\n",
        "    self.k = k\n",
        "    self.num_final_features = num_final_features\n",
        "\n",
        "    # Standardize the features\n",
        "    scaler = StandardScaler()\n",
        "    self.X = scaler.fit_transform(self.X)\n",
        "\n",
        "    # Initialize a list to store the selected feature indices\n",
        "    selected_features = []\n",
        "\n",
        "    # Loop until the desired number of final features is reached\n",
        "    while len(selected_features) < self.num_final_features:\n",
        "      # Initialize a list to store the accuracy scores for each candidate feature\n",
        "      candidate_scores = []\n",
        "\n",
        "      # Loop over all remaining candidate features\n",
        "      for feature in range(self.X.shape[1]):\n",
        "        if feature not in selected_features:\n",
        "            # Create a logistic regression model using the selected features and the candidate feature\n",
        "            selected_indices = selected_features + [feature]\n",
        "            X_subset = self.X[:, selected_indices]\n",
        "            model = LogisticRegression()\n",
        "            \n",
        "            # Perform k-fold cross-validation and compute the mean accuracy score\n",
        "            kf = KFold(n_splits=self.k, shuffle=True, random_state=42)\n",
        "            scores = cross_val_score(model, X_subset, self.y, cv=kf)\n",
        "            accuracy = scores.mean()\n",
        "            \n",
        "            # Append the accuracy score to the list\n",
        "            candidate_scores.append(accuracy)\n",
        "\n",
        "      # Select the candidate feature with the highest accuracy score\n",
        "      best_feature_index = candidate_scores.index(max(candidate_scores))\n",
        "    \n",
        "      # Add the best feature to the list of selected features\n",
        "      selected_features.append(best_feature_index)\n",
        "      \n",
        "      # Print the selected features and their accuracy scores\n",
        "      print(f\"Selected features: {selected_features}\")\n",
        "      print(f\"Accuracy scores: {candidate_scores}\")\n",
        "\n",
        "    # Print the final selected feature indices\n",
        "    print(f\"Final selected features: {selected_features}\")\n",
        "    \n",
        "    return selected_features\n",
        "\n",
        "\n",
        "  def backward_feature_selection(self, X, y, k, num_final_features):\n",
        "\n",
        "    '''\n",
        "    This method takes the features part of the dataset X, the output y, the number of k-folds k and the desired number of features,\n",
        "    num_final_features.\n",
        "    '''\n",
        "\n",
        "    self.X = X\n",
        "    self.y = y\n",
        "    self.k = k\n",
        "    self.num_final_features = num_final_features\n",
        "\n",
        "    # Standardize the features\n",
        "    scaler = StandardScaler()\n",
        "    X = scaler.fit_transform(X)\n",
        "\n",
        "    ''' For backward feature selection, before we start reducing the features, we want to train with the entire set of features and get the accuracy. We do this using k-fold cross validation '''\n",
        "    # Train a logistic regression model using all features\n",
        "    model = LogisticRegression()\n",
        "\n",
        "    # Perform k-fold cross-validation and compute the mean accuracy score\n",
        "    kf = KFold(n_splits = k, shuffle=True, random_state=42)\n",
        "    scores = cross_val_score(model, X, y, cv=kf)\n",
        "    accuracy_all_features = scores.mean()\n",
        "    print(\"Accuracy using all features:\", accuracy_all_features)\n",
        "\n",
        "    '''  We begin the backward_feature algorithm at this point now '''\n",
        "    # Initialize a list to store the selected feature indices\n",
        "    selected_features = list(range(X.shape[1]))\n",
        "\n",
        "    # Loop until the desired number of final features is reached\n",
        "    while len(selected_features) > num_final_features:\n",
        "        # Initialize a list to store the accuracy scores for each feature to remove\n",
        "        remove_scores = []\n",
        "        \n",
        "        # Loop over all selected features\n",
        "        for j in selected_features:\n",
        "            # Create a copy of the selected features list without the current feature\n",
        "            remaining_features = [x for x in selected_features if x != j]\n",
        "            #print(remaining_features)\n",
        "            \n",
        "            # Create a logistic regression model using the remaining features\n",
        "            X_subset = X[:, remaining_features]\n",
        "            model = LogisticRegression()\n",
        "            \n",
        "            # Perform k-fold cross-validation and compute the mean accuracy score\n",
        "            kf = KFold(n_splits=k, shuffle=True, random_state=42)\n",
        "            scores = cross_val_score(model, X_subset, y, cv=kf)\n",
        "            accuracy = scores.mean()\n",
        "            \n",
        "            # Append the accuracy score to the list\n",
        "            remove_scores.append(accuracy)\n",
        "        \n",
        "        # Select the feature to remove with the lowest accuracy score\n",
        "        worst_feature_index = remove_scores.index(min(remove_scores))\n",
        "        \n",
        "        # Remove the worst feature from the list of selected features\n",
        "        selected_features.pop(worst_feature_index)\n",
        "        \n",
        "        # Print the selected features and their accuracy scores\n",
        "        print(f\"Selected features: {selected_features}\")\n",
        "        print(f\"Accuracy scores: {remove_scores}\")\n",
        "\n",
        "    # Print the final selected feature indices\n",
        "    print(f\"Final selected features: {selected_features}\")\n",
        "\n",
        "    return selected_features\n",
        "  \n",
        "\n"
      ]
    },
    {
      "cell_type": "markdown",
      "source": [
        "#### Testing the methods in the wrapper class"
      ],
      "metadata": {
        "id": "_v9B0AYsm1rV"
      }
    },
    {
      "cell_type": "markdown",
      "source": [
        "##### Forward Feature Selection"
      ],
      "metadata": {
        "id": "czeiA73f2wFT"
      }
    },
    {
      "cell_type": "code",
      "source": [
        "wrapper = Wrapper()"
      ],
      "metadata": {
        "id": "hO-uOltnlkUB"
      },
      "execution_count": 3,
      "outputs": []
    },
    {
      "cell_type": "code",
      "source": [
        "''' Testing the FORWARD feature selection method \n",
        "    We use the WINE dataset for this implementation. The WINE dataset has 178 samples, 12 features, and a target feature. The target feature has 3 classes  '''\n",
        "\n",
        "# Load the WINE dataset\n",
        "X, y = load_wine(return_X_y=True)\n",
        "\n",
        "####    CALLING THE \"FORWARD FEATURE SELECTION METHOD NOW\"     ####\n",
        "selected_features = wrapper.forward_feature_selection(X, y, k = 5, num_final_features = 4)\n",
        "\n",
        "# Create a logistic regression model using the final selected features\n",
        "X_final = X[:, selected_features]\n",
        "\n",
        "# Standardize the features\n",
        "scaler = StandardScaler()\n",
        "X_final = scaler.fit_transform(X_final)\n",
        "\n",
        "model = LogisticRegression()\n",
        "\n",
        "# Perform k-fold cross-validation and compute the mean accuracy score\n",
        "kf = KFold(n_splits=wrapper.k, shuffle=True, random_state=42)\n",
        "scores = cross_val_score(model, X_final, y, cv=kf)\n",
        "mean_accuracy = scores.mean()\n",
        "\n",
        "# Print the mean accuracy score\n",
        "print(f\"Mean accuracy score: {mean_accuracy}\")"
      ],
      "metadata": {
        "colab": {
          "base_uri": "https://localhost:8080/"
        },
        "id": "KvGKCLp5kj0J",
        "outputId": "06113879-7108-4d4f-a7a7-5d04e2522402"
      },
      "execution_count": 4,
      "outputs": [
        {
          "output_type": "stream",
          "name": "stdout",
          "text": [
            "Selected features: [6]\n",
            "Accuracy scores: [0.6742857142857143, 0.5165079365079366, 0.4774603174603175, 0.5288888888888889, 0.5055555555555555, 0.6457142857142857, 0.7861904761904762, 0.4996825396825397, 0.5396825396825397, 0.724920634920635, 0.5788888888888889, 0.6287301587301587, 0.6742857142857143]\n",
            "Selected features: [6, 0]\n",
            "Accuracy scores: [0.9212698412698412, 0.7582539682539682, 0.8426984126984127, 0.82, 0.7982539682539682, 0.7582539682539682, 0.763968253968254, 0.7917460317460318, 0.8936507936507937, 0.8426984126984127, 0.8206349206349206, 0.8984126984126984]\n",
            "Selected features: [6, 0, 10]\n",
            "Accuracy scores: [0.9155555555555555, 0.926984126984127, 0.9268253968253969, 0.9155555555555555, 0.9041269841269841, 0.9155555555555555, 0.9099999999999999, 0.9323809523809523, 0.9380952380952381, 0.915873015873016, 0.9547619047619047]\n",
            "Selected features: [6, 0, 10, 9]\n",
            "Accuracy scores: [0.9380952380952381, 0.9325396825396826, 0.9380952380952381, 0.9271428571428573, 0.9380952380952381, 0.9325396825396826, 0.9325396825396826, 0.9380952380952381, 0.9380952380952381, 0.9719047619047618]\n",
            "Final selected features: [6, 0, 10, 9]\n",
            "Mean accuracy score: 0.9380952380952381\n"
          ]
        }
      ]
    },
    {
      "cell_type": "markdown",
      "source": [
        "##### Backward Feature Selection"
      ],
      "metadata": {
        "id": "WQbUW4aX3Cni"
      }
    },
    {
      "cell_type": "code",
      "source": [
        "''' Testing the BACKWARD feature selection method \n",
        "   We use the BREAST CANCER dataset for this implementation. The BREAST CANCER dataset has 569 instances or samples, 30 features or attributes and a target feature.  '''\n",
        "\n",
        "# Load the BREAST dataset\n",
        "X, y = load_breast_cancer(return_X_y=True)\n",
        "\n",
        "####    CALLING THE \"BACKWARD FEATURE SELECTION METHOD NOW\"     ####\n",
        "selected_features = wrapper.backward_feature_selection(X, y, k = 5, num_final_features = 10)\n",
        "\n",
        "# Create a logistic regression model using the final selected features\n",
        "X_final = X[:, selected_features]\n",
        "\n",
        "# Standardize the features\n",
        "scaler = StandardScaler()\n",
        "X_final = scaler.fit_transform(X_final)\n",
        "\n",
        "model = LogisticRegression()\n",
        "\n",
        "# Perform k-fold cross-validation and compute the mean accuracy score\n",
        "kf = KFold(n_splits=wrapper.k, shuffle=True, random_state=42)\n",
        "scores = cross_val_score(model, X_final, y, cv=kf)\n",
        "mean_accuracy = scores.mean()\n",
        "\n",
        "# Print the mean accuracy score\n",
        "print(f\"Mean accuracy score: {mean_accuracy}\")"
      ],
      "metadata": {
        "colab": {
          "base_uri": "https://localhost:8080/"
        },
        "id": "UVMqZbM3mMC0",
        "outputId": "bca142ed-67ef-4a15-9336-4171b70784c1"
      },
      "execution_count": 5,
      "outputs": [
        {
          "output_type": "stream",
          "name": "stdout",
          "text": [
            "Accuracy using all features: 0.9771464058376029\n",
            "Selected features: [0, 2, 3, 4, 5, 6, 7, 8, 9, 10, 11, 12, 13, 14, 15, 16, 17, 18, 19, 20, 21, 22, 23, 24, 25, 26, 27, 28, 29]\n",
            "Accuracy scores: [0.9789007918025152, 0.9736065828287532, 0.9789007918025152, 0.9789007918025152, 0.9771464058376029, 0.9824095637323398, 0.9771464058376029, 0.9806396522279149, 0.9789007918025151, 0.9789007918025152, 0.9771464058376029, 0.9771464058376029, 0.9789007918025151, 0.9771464058376029, 0.9789007918025151, 0.9753920198726906, 0.9789007918025152, 0.9771308802980903, 0.9789007918025151, 0.9771153547585778, 0.9789007918025152, 0.9753920198726906, 0.9789007918025152, 0.9789007918025152, 0.9771308802980905, 0.9771464058376029, 0.9753920198726906, 0.9753920198726906, 0.9788852662630025, 0.982425089271852]\n",
            "Selected features: [0, 2, 3, 4, 5, 6, 7, 8, 9, 10, 11, 12, 13, 14, 15, 16, 17, 18, 19, 20, 22, 23, 24, 25, 26, 27, 28, 29]\n",
            "Accuracy scores: [0.9736065828287532, 0.9736065828287532, 0.9736065828287532, 0.9771464058376029, 0.9753609687936654, 0.9753609687936654, 0.9771153547585778, 0.9736065828287532, 0.9753764943331781, 0.9753609687936654, 0.9771153547585778, 0.9788852662630025, 0.9753764943331781, 0.9753609687936654, 0.9753609687936654, 0.9736065828287532, 0.9753609687936654, 0.9789007918025151, 0.9771153547585778, 0.9771464058376029, 0.9700978108989287, 0.9753764943331781, 0.9771464058376029, 0.9753454432541531, 0.9736065828287532, 0.9736065828287532, 0.9753764943331781, 0.9771308802980903, 0.9789007918025151]\n",
            "Selected features: [0, 2, 3, 4, 5, 6, 7, 8, 9, 10, 12, 13, 14, 15, 16, 17, 18, 19, 20, 22, 23, 24, 25, 26, 27, 28, 29]\n",
            "Accuracy scores: [0.9700978108989287, 0.9700978108989287, 0.9700978108989287, 0.9683434249340165, 0.9683434249340165, 0.9683434249340165, 0.9665890389691041, 0.9630647414997672, 0.9648346530041918, 0.9648346530041918, 0.95954044403043, 0.9683434249340165, 0.9665890389691041, 0.9683434249340165, 0.9683434249340165, 0.9700978108989287, 0.9700978108989287, 0.9700978108989287, 0.9665890389691041, 0.9683434249340165, 0.9665890389691041, 0.9683434249340165, 0.9665890389691041, 0.9700978108989287, 0.9665890389691041, 0.964834653004192, 0.9630647414997672, 0.9700978108989287]\n",
            "Selected features: [0, 2, 3, 4, 5, 6, 8, 9, 10, 12, 13, 14, 15, 16, 17, 18, 19, 20, 22, 23, 24, 25, 26, 27, 28, 29]\n",
            "Accuracy scores: [0.9612948299953423, 0.9612948299953423, 0.9612948299953423, 0.95954044403043, 0.95954044403043, 0.95954044403043, 0.956016146561093, 0.95954044403043, 0.9630647414997672, 0.95954044403043, 0.95954044403043, 0.9577860580655176, 0.9577705325260052, 0.9595559695699425, 0.95954044403043, 0.95954044403043, 0.9613103555348548, 0.9630492159602545, 0.9630492159602546, 0.9612948299953423, 0.9612948299953423, 0.9612948299953423, 0.95954044403043, 0.9560316721006055, 0.956016146561093, 0.9578015836050303, 0.9577705325260052]\n",
            "Selected features: [0, 2, 3, 4, 5, 8, 9, 10, 12, 13, 14, 15, 16, 17, 18, 19, 20, 22, 23, 24, 25, 26, 27, 28, 29]\n",
            "Accuracy scores: [0.9595249184909175, 0.9595249184909175, 0.9577705325260053, 0.95954044403043, 0.9577705325260052, 0.9524918490917559, 0.95954044403043, 0.95954044403043, 0.95954044403043, 0.9595249184909175, 0.95954044403043, 0.956016146561093, 0.9577705325260052, 0.9577705325260052, 0.9577705325260053, 0.9577705325260052, 0.9612948299953423, 0.9577705325260053, 0.956016146561093, 0.9577705325260053, 0.959509392951405, 0.9595249184909175, 0.9577860580655176, 0.9560006210215803, 0.9595559695699427, 0.9577705325260052]\n",
            "Selected features: [0, 2, 3, 4, 5, 8, 9, 10, 12, 13, 14, 16, 17, 18, 19, 20, 22, 23, 24, 25, 26, 27, 28, 29]\n",
            "Accuracy scores: [0.9524918490917559, 0.9524918490917559, 0.9524918490917559, 0.9560316721006055, 0.9560006210215806, 0.9595249184909175, 0.956016146561093, 0.9612793044558299, 0.959509392951405, 0.9577705325260053, 0.9525073746312683, 0.9507529886663562, 0.9524918490917559, 0.9524918490917559, 0.9612793044558299, 0.9612793044558299, 0.9612793044558299, 0.9577705325260053, 0.9577705325260053, 0.9560006210215806, 0.9542462350566682, 0.952522900170781, 0.9577550069864926, 0.9560316721006055, 0.956016146561093]\n",
            "Selected features: [0, 2, 3, 4, 5, 8, 9, 10, 12, 13, 14, 16, 17, 18, 19, 20, 22, 23, 24, 25, 26, 27, 29]\n",
            "Accuracy scores: [0.9507529886663562, 0.9507529886663562, 0.9507529886663562, 0.9525073746312686, 0.9542617605961807, 0.95954044403043, 0.9525073746312683, 0.9560316721006055, 0.956016146561093, 0.9542617605961807, 0.9525073746312683, 0.9525073746312686, 0.9525073746312683, 0.956016146561093, 0.956016146561093, 0.9525073746312683, 0.9542617605961807, 0.9525073746312683, 0.95954044403043, 0.9525073746312686, 0.9525384257102936, 0.956016146561093, 0.9490141282409563, 0.9542617605961807]\n",
            "Selected features: [0, 2, 3, 4, 5, 8, 9, 10, 12, 13, 14, 16, 17, 18, 20, 22, 23, 24, 25, 26, 27, 29]\n",
            "Accuracy scores: [0.9490141282409563, 0.9490141282409563, 0.9507685142058685, 0.9507840397453812, 0.9542772861356932, 0.9525229001707809, 0.9542772861356932, 0.9560316721006055, 0.9525229001707809, 0.9525384257102936, 0.9490141282409563, 0.9507685142058685, 0.9507685142058685, 0.952522900170781, 0.947259742276044, 0.9490296537804689, 0.9525384257102936, 0.9490296537804689, 0.9577860580655176, 0.9490141282409563, 0.9490141282409563, 0.9542617605961807, 0.9542772861356932]\n",
            "Selected features: [2, 3, 4, 5, 8, 9, 10, 12, 13, 14, 16, 17, 18, 20, 22, 23, 24, 25, 26, 27, 29]\n",
            "Accuracy scores: [0.947259742276044, 0.947259742276044, 0.947259742276044, 0.9490296537804689, 0.9490141282409563, 0.9507840397453812, 0.9490141282409563, 0.9490141282409563, 0.9507685142058687, 0.9525384257102933, 0.947259742276044, 0.9490141282409563, 0.9490296537804689, 0.9490141282409563, 0.9507840397453812, 0.9507840397453812, 0.9507840397453812, 0.9525384257102933, 0.947259742276044, 0.9490141282409562, 0.9542772861356932, 0.9542928116752056]\n",
            "Selected features: [3, 4, 5, 8, 9, 10, 12, 13, 14, 16, 17, 18, 20, 22, 23, 24, 25, 26, 27, 29]\n",
            "Accuracy scores: [0.947259742276044, 0.947259742276044, 0.9490296537804689, 0.9490141282409563, 0.9507840397453812, 0.9490141282409563, 0.9490141282409563, 0.9507685142058687, 0.9525384257102933, 0.947259742276044, 0.9490141282409563, 0.947259742276044, 0.9490141282409563, 0.9507840397453812, 0.9507840397453812, 0.9507840397453812, 0.9525384257102933, 0.947259742276044, 0.9490141282409562, 0.9542772861356932, 0.9525229001707809]\n",
            "Selected features: [4, 5, 8, 9, 10, 12, 13, 14, 16, 17, 18, 20, 22, 23, 24, 25, 26, 27, 29]\n",
            "Accuracy scores: [0.947259742276044, 0.9490296537804689, 0.9490141282409563, 0.9490141282409563, 0.9525229001707809, 0.9490141282409563, 0.9507685142058685, 0.9525384257102933, 0.9490141282409563, 0.9490141282409563, 0.947259742276044, 0.9490141282409563, 0.9525384257102933, 0.9507840397453812, 0.9507840397453812, 0.9525384257102933, 0.947259742276044, 0.9490141282409562, 0.9525229001707809, 0.9525229001707809]\n",
            "Selected features: [4, 5, 8, 9, 10, 12, 13, 14, 17, 18, 20, 22, 23, 24, 25, 26, 27, 29]\n",
            "Accuracy scores: [0.9490141282409563, 0.9490141282409563, 0.9507685142058687, 0.9525229001707809, 0.9490141282409563, 0.9507685142058685, 0.9507840397453812, 0.9507685142058685, 0.947259742276044, 0.9490141282409563, 0.9507685142058685, 0.9542928116752056, 0.956047197640118, 0.9525384257102933, 0.956047197640118, 0.947259742276044, 0.9525384257102933, 0.9525073746312683, 0.9490141282409563]\n",
            "Selected features: [4, 5, 8, 9, 10, 12, 14, 17, 18, 20, 22, 23, 24, 25, 26, 27, 29]\n",
            "Accuracy scores: [0.947259742276044, 0.9542772861356932, 0.9507685142058687, 0.9542772861356932, 0.9490141282409563, 0.9507685142058687, 0.9437509703462194, 0.9490141282409562, 0.9507685142058685, 0.9542772861356932, 0.9525229001707809, 0.9542772861356932, 0.9490141282409562, 0.9542928116752056, 0.947259742276044, 0.9507840397453811, 0.9507529886663562, 0.9507685142058687]\n",
            "Selected features: [5, 8, 9, 10, 12, 14, 17, 18, 20, 22, 23, 24, 25, 26, 27, 29]\n",
            "Accuracy scores: [0.9455053563111318, 0.9490141282409563, 0.9490141282409562, 0.9542772861356932, 0.9525229001707809, 0.9542772861356932, 0.947259742276044, 0.947259742276044, 0.9490141282409563, 0.9490141282409563, 0.9542928116752056, 0.9507840397453811, 0.9542928116752056, 0.9455053563111318, 0.9507840397453812, 0.9507529886663562, 0.9490141282409563]\n",
            "Selected features: [5, 8, 9, 10, 12, 14, 17, 18, 20, 22, 23, 24, 26, 27, 29]\n",
            "Accuracy scores: [0.9525229001707809, 0.9525384257102933, 0.9490141282409563, 0.9507685142058685, 0.9507685142058687, 0.947259742276044, 0.9490296537804689, 0.952522900170781, 0.9542928116752056, 0.9507840397453812, 0.9490296537804689, 0.9525384257102933, 0.9437509703462194, 0.9490296537804689, 0.9507529886663562, 0.9490141282409563]\n",
            "Selected features: [5, 8, 9, 10, 12, 14, 17, 18, 20, 22, 23, 24, 26, 29]\n",
            "Accuracy scores: [0.9507685142058685, 0.9525384257102933, 0.9490141282409563, 0.9507685142058685, 0.9525229001707809, 0.9490141282409562, 0.9507840397453811, 0.9507685142058687, 0.9507840397453811, 0.9507840397453812, 0.9490296537804689, 0.9525229001707809, 0.9507840397453811, 0.9489986027014439, 0.9490141282409563]\n",
            "Selected features: [5, 9, 10, 12, 14, 17, 18, 20, 22, 23, 24, 26, 29]\n",
            "Accuracy scores: [0.9489986027014439, 0.9472442167365316, 0.9525073746312686, 0.9490141282409563, 0.9507529886663562, 0.9507529886663562, 0.9489986027014439, 0.9507529886663562, 0.9489986027014439, 0.9507529886663562, 0.9507529886663562, 0.9489986027014439, 0.9472442167365316, 0.9507529886663562]\n",
            "Selected features: [5, 9, 10, 12, 14, 17, 18, 20, 22, 23, 24, 29]\n",
            "Accuracy scores: [0.9472442167365316, 0.9489986027014439, 0.9490141282409563, 0.9525073746312686, 0.9489986027014439, 0.9472442167365316, 0.9507529886663562, 0.9472442167365316, 0.9489986027014439, 0.9472442167365316, 0.9507685142058687, 0.9454898307716192, 0.9507529886663562]\n",
            "Selected features: [5, 9, 10, 12, 14, 17, 18, 22, 23, 24, 29]\n",
            "Accuracy scores: [0.9490141282409563, 0.947259742276044, 0.9490141282409563, 0.9454898307716194, 0.9490141282409563, 0.9490141282409563, 0.9489986027014439, 0.9419810588417947, 0.9454898307716194, 0.9454898307716194, 0.9437199192671946, 0.9489830771619314]\n",
            "Selected features: [5, 9, 10, 14, 17, 18, 22, 23, 24, 29]\n",
            "Accuracy scores: [0.9472752678155567, 0.9455053563111319, 0.947259742276044, 0.943735444806707, 0.9507685142058685, 0.9454898307716192, 0.9472442167365316, 0.9454898307716194, 0.9454743052321067, 0.947228691197019, 0.947228691197019]\n",
            "Final selected features: [5, 9, 10, 14, 17, 18, 22, 23, 24, 29]\n",
            "Mean accuracy score: 0.943735444806707\n"
          ]
        }
      ]
    },
    {
      "cell_type": "code",
      "source": [],
      "metadata": {
        "id": "kvC_iGMANFCA"
      },
      "execution_count": 5,
      "outputs": []
    },
    {
      "cell_type": "markdown",
      "source": [
        "## LASSO Method Class"
      ],
      "metadata": {
        "id": "eqY-cQ4tPEyK"
      }
    },
    {
      "cell_type": "code",
      "source": [
        "class Lasso_Feature_Selection:\n",
        "\n",
        "  def __init__(self):\n",
        "    pass\n",
        "\n",
        "  def Lasso_method(self, X, y, features, alpha_vals):\n",
        "    self.alphas = alpha_vals\n",
        "    self.X = X\n",
        "    self.y = y\n",
        "    self.features = features\n",
        " \n",
        "    # Create an empty data frame\n",
        "    new_df = pd.DataFrame()\n",
        "    \n",
        "    # Create a column of feature names\n",
        "    new_df['Feature Name'] = self.features\n",
        "    \n",
        "    # For each alpha value in the list of alpha values,\n",
        "    for val in self.alphas:\n",
        "    # Create a lasso regression with that alpha value,\n",
        "        lasso = Lasso(alpha = val)\n",
        "        \n",
        "        # Fit the lasso regression\n",
        "        lasso.set_params(alpha = val)  # Set the parameters of this estimator\n",
        "        lasso.fit(X, y)\n",
        "        \n",
        "        # Create a column name for that alpha value\n",
        "        column_name = 'Alpha = %f' % val\n",
        "\n",
        "        # Create a column of coefficient values\n",
        "        new_df[column_name] = lasso.coef_\n",
        "        \n",
        "    # Return the dataframe    \n",
        "    return new_df\n"
      ],
      "metadata": {
        "id": "2XahETBZNb8L"
      },
      "execution_count": 6,
      "outputs": []
    },
    {
      "cell_type": "markdown",
      "source": [
        "#### Testing the lasso method in the Lasso_Feature_Selection class"
      ],
      "metadata": {
        "id": "57h0NyTVOGTn"
      }
    },
    {
      "cell_type": "markdown",
      "source": [
        "##### LASSO Feature Selection"
      ],
      "metadata": {
        "id": "JMA3PSBz3PDs"
      }
    },
    {
      "cell_type": "code",
      "source": [
        "lasso_meth = Lasso_Feature_Selection()"
      ],
      "metadata": {
        "id": "eBj_Jo1vOF1A"
      },
      "execution_count": 7,
      "outputs": []
    },
    {
      "cell_type": "code",
      "source": [
        "# Load the diabetes dataset\n",
        "#diabetes = datasets.load_diabetes()\n",
        "#diabetes\n",
        "\n",
        "\n",
        "''' Testing the LASSO feature selection method \n",
        "   We use the DIABETES dataset for this implementation.  This is a regression dataset. The DIABETES dataset has 442 instances or samples, 10 features or attributes and a target feature.  '''\n",
        "\n",
        "# Load the DIABETES dataset\n",
        "diabetes_data = load_diabetes()\n",
        "X, y = diabetes_data['data'], diabetes_data['target']\n",
        "\n",
        "\n",
        "# Standardize the features\n",
        "scaler = StandardScaler()\n",
        "X = scaler.fit_transform(X)\n",
        "\n",
        "names_of_features = diabetes_data['feature_names']\n",
        "#print((names_of_features))\n",
        "\n",
        "alphas = list(np.linspace(0.01, 100, 100))\n",
        "#print((alphas))\n",
        "\n",
        "lasso_values = lasso_meth.Lasso_method(X, y, alpha_vals = alphas, features = names_of_features)\n",
        "lasso_values"
      ],
      "metadata": {
        "colab": {
          "base_uri": "https://localhost:8080/",
          "height": 508
        },
        "id": "CgwtIEyn0MFC",
        "outputId": "55dfd5f9-b2c6-4ca0-b2ad-684bcc9b4ac4"
      },
      "execution_count": 8,
      "outputs": [
        {
          "output_type": "stream",
          "name": "stderr",
          "text": [
            "<ipython-input-6-cdc9d7f6b808>:31: PerformanceWarning: DataFrame is highly fragmented.  This is usually the result of calling `frame.insert` many times, which has poor performance.  Consider joining all columns at once using pd.concat(axis=1) instead. To get a de-fragmented frame, use `newframe = frame.copy()`\n",
            "  new_df[column_name] = lasso.coef_\n"
          ]
        },
        {
          "output_type": "execute_result",
          "data": {
            "text/plain": [
              "  Feature Name  Alpha = 0.010000  Alpha = 1.020000  Alpha = 2.030000  \\\n",
              "0          age         -0.453186         -0.000000         -0.000000   \n",
              "1          sex        -11.386067         -9.284372         -7.516364   \n",
              "2          bmi         24.736086         24.827142         24.615334   \n",
              "3           bp         15.407660         14.070502         13.150059   \n",
              "4           s1        -36.052455         -4.796489         -2.652722   \n",
              "5           s2         21.424062         -0.000000         -0.000000   \n",
              "6           s3          4.029853        -10.611404        -10.037271   \n",
              "7           s4          8.136614          0.000000          0.000000   \n",
              "8           s5         35.147572         24.395346         23.109529   \n",
              "9           s6          3.213283          2.544679          1.664749   \n",
              "\n",
              "   Alpha = 3.040000  Alpha = 4.050000  Alpha = 5.060000  Alpha = 6.070000  \\\n",
              "0          0.000000          0.000000          0.000000          0.000000   \n",
              "1         -5.747581         -3.885823         -2.044766         -0.214730   \n",
              "2         24.404918         24.330640         24.208725         24.069997   \n",
              "3         12.230098         11.297912         10.267848          9.220376   \n",
              "4         -0.509472         -0.000000         -0.000000         -0.000000   \n",
              "5         -0.000000         -0.000000         -0.000000         -0.000000   \n",
              "6         -9.462334         -8.301892         -6.944399         -5.586015   \n",
              "7          0.000000          0.000000          0.000000          0.000000   \n",
              "8         21.823858         21.449996         21.213800         20.944923   \n",
              "9          0.784249          0.104968          0.000000          0.000000   \n",
              "\n",
              "   Alpha = 7.080000  Alpha = 8.090000  ...  Alpha = 90.910000  \\\n",
              "0          0.000000          0.000000  ...                0.0   \n",
              "1         -0.000000         -0.000000  ...                0.0   \n",
              "2         23.713848         23.328699  ...                0.0   \n",
              "3          8.560427          7.951940  ...                0.0   \n",
              "4         -0.000000         -0.000000  ...                0.0   \n",
              "5         -0.000000         -0.000000  ...                0.0   \n",
              "6         -4.879667         -4.259963  ...               -0.0   \n",
              "7          0.000000          0.000000  ...                0.0   \n",
              "8         20.602840         20.251105  ...                0.0   \n",
              "9          0.000000          0.000000  ...                0.0   \n",
              "\n",
              "   Alpha = 91.920000  Alpha = 92.930000  Alpha = 93.940000  Alpha = 94.950000  \\\n",
              "0                0.0                0.0                0.0                0.0   \n",
              "1                0.0                0.0                0.0                0.0   \n",
              "2                0.0                0.0                0.0                0.0   \n",
              "3                0.0                0.0                0.0                0.0   \n",
              "4                0.0                0.0                0.0                0.0   \n",
              "5                0.0                0.0                0.0                0.0   \n",
              "6               -0.0               -0.0               -0.0               -0.0   \n",
              "7                0.0                0.0                0.0                0.0   \n",
              "8                0.0                0.0                0.0                0.0   \n",
              "9                0.0                0.0                0.0                0.0   \n",
              "\n",
              "   Alpha = 95.960000  Alpha = 96.970000  Alpha = 97.980000  Alpha = 98.990000  \\\n",
              "0                0.0                0.0                0.0                0.0   \n",
              "1                0.0                0.0                0.0                0.0   \n",
              "2                0.0                0.0                0.0                0.0   \n",
              "3                0.0                0.0                0.0                0.0   \n",
              "4                0.0                0.0                0.0                0.0   \n",
              "5                0.0                0.0                0.0                0.0   \n",
              "6               -0.0               -0.0               -0.0               -0.0   \n",
              "7                0.0                0.0                0.0                0.0   \n",
              "8                0.0                0.0                0.0                0.0   \n",
              "9                0.0                0.0                0.0                0.0   \n",
              "\n",
              "   Alpha = 100.000000  \n",
              "0                 0.0  \n",
              "1                 0.0  \n",
              "2                 0.0  \n",
              "3                 0.0  \n",
              "4                 0.0  \n",
              "5                 0.0  \n",
              "6                -0.0  \n",
              "7                 0.0  \n",
              "8                 0.0  \n",
              "9                 0.0  \n",
              "\n",
              "[10 rows x 101 columns]"
            ],
            "text/html": [
              "\n",
              "  <div id=\"df-55cfaaf3-7e96-402a-9ed2-25a8148433a5\">\n",
              "    <div class=\"colab-df-container\">\n",
              "      <div>\n",
              "<style scoped>\n",
              "    .dataframe tbody tr th:only-of-type {\n",
              "        vertical-align: middle;\n",
              "    }\n",
              "\n",
              "    .dataframe tbody tr th {\n",
              "        vertical-align: top;\n",
              "    }\n",
              "\n",
              "    .dataframe thead th {\n",
              "        text-align: right;\n",
              "    }\n",
              "</style>\n",
              "<table border=\"1\" class=\"dataframe\">\n",
              "  <thead>\n",
              "    <tr style=\"text-align: right;\">\n",
              "      <th></th>\n",
              "      <th>Feature Name</th>\n",
              "      <th>Alpha = 0.010000</th>\n",
              "      <th>Alpha = 1.020000</th>\n",
              "      <th>Alpha = 2.030000</th>\n",
              "      <th>Alpha = 3.040000</th>\n",
              "      <th>Alpha = 4.050000</th>\n",
              "      <th>Alpha = 5.060000</th>\n",
              "      <th>Alpha = 6.070000</th>\n",
              "      <th>Alpha = 7.080000</th>\n",
              "      <th>Alpha = 8.090000</th>\n",
              "      <th>...</th>\n",
              "      <th>Alpha = 90.910000</th>\n",
              "      <th>Alpha = 91.920000</th>\n",
              "      <th>Alpha = 92.930000</th>\n",
              "      <th>Alpha = 93.940000</th>\n",
              "      <th>Alpha = 94.950000</th>\n",
              "      <th>Alpha = 95.960000</th>\n",
              "      <th>Alpha = 96.970000</th>\n",
              "      <th>Alpha = 97.980000</th>\n",
              "      <th>Alpha = 98.990000</th>\n",
              "      <th>Alpha = 100.000000</th>\n",
              "    </tr>\n",
              "  </thead>\n",
              "  <tbody>\n",
              "    <tr>\n",
              "      <th>0</th>\n",
              "      <td>age</td>\n",
              "      <td>-0.453186</td>\n",
              "      <td>-0.000000</td>\n",
              "      <td>-0.000000</td>\n",
              "      <td>0.000000</td>\n",
              "      <td>0.000000</td>\n",
              "      <td>0.000000</td>\n",
              "      <td>0.000000</td>\n",
              "      <td>0.000000</td>\n",
              "      <td>0.000000</td>\n",
              "      <td>...</td>\n",
              "      <td>0.0</td>\n",
              "      <td>0.0</td>\n",
              "      <td>0.0</td>\n",
              "      <td>0.0</td>\n",
              "      <td>0.0</td>\n",
              "      <td>0.0</td>\n",
              "      <td>0.0</td>\n",
              "      <td>0.0</td>\n",
              "      <td>0.0</td>\n",
              "      <td>0.0</td>\n",
              "    </tr>\n",
              "    <tr>\n",
              "      <th>1</th>\n",
              "      <td>sex</td>\n",
              "      <td>-11.386067</td>\n",
              "      <td>-9.284372</td>\n",
              "      <td>-7.516364</td>\n",
              "      <td>-5.747581</td>\n",
              "      <td>-3.885823</td>\n",
              "      <td>-2.044766</td>\n",
              "      <td>-0.214730</td>\n",
              "      <td>-0.000000</td>\n",
              "      <td>-0.000000</td>\n",
              "      <td>...</td>\n",
              "      <td>0.0</td>\n",
              "      <td>0.0</td>\n",
              "      <td>0.0</td>\n",
              "      <td>0.0</td>\n",
              "      <td>0.0</td>\n",
              "      <td>0.0</td>\n",
              "      <td>0.0</td>\n",
              "      <td>0.0</td>\n",
              "      <td>0.0</td>\n",
              "      <td>0.0</td>\n",
              "    </tr>\n",
              "    <tr>\n",
              "      <th>2</th>\n",
              "      <td>bmi</td>\n",
              "      <td>24.736086</td>\n",
              "      <td>24.827142</td>\n",
              "      <td>24.615334</td>\n",
              "      <td>24.404918</td>\n",
              "      <td>24.330640</td>\n",
              "      <td>24.208725</td>\n",
              "      <td>24.069997</td>\n",
              "      <td>23.713848</td>\n",
              "      <td>23.328699</td>\n",
              "      <td>...</td>\n",
              "      <td>0.0</td>\n",
              "      <td>0.0</td>\n",
              "      <td>0.0</td>\n",
              "      <td>0.0</td>\n",
              "      <td>0.0</td>\n",
              "      <td>0.0</td>\n",
              "      <td>0.0</td>\n",
              "      <td>0.0</td>\n",
              "      <td>0.0</td>\n",
              "      <td>0.0</td>\n",
              "    </tr>\n",
              "    <tr>\n",
              "      <th>3</th>\n",
              "      <td>bp</td>\n",
              "      <td>15.407660</td>\n",
              "      <td>14.070502</td>\n",
              "      <td>13.150059</td>\n",
              "      <td>12.230098</td>\n",
              "      <td>11.297912</td>\n",
              "      <td>10.267848</td>\n",
              "      <td>9.220376</td>\n",
              "      <td>8.560427</td>\n",
              "      <td>7.951940</td>\n",
              "      <td>...</td>\n",
              "      <td>0.0</td>\n",
              "      <td>0.0</td>\n",
              "      <td>0.0</td>\n",
              "      <td>0.0</td>\n",
              "      <td>0.0</td>\n",
              "      <td>0.0</td>\n",
              "      <td>0.0</td>\n",
              "      <td>0.0</td>\n",
              "      <td>0.0</td>\n",
              "      <td>0.0</td>\n",
              "    </tr>\n",
              "    <tr>\n",
              "      <th>4</th>\n",
              "      <td>s1</td>\n",
              "      <td>-36.052455</td>\n",
              "      <td>-4.796489</td>\n",
              "      <td>-2.652722</td>\n",
              "      <td>-0.509472</td>\n",
              "      <td>-0.000000</td>\n",
              "      <td>-0.000000</td>\n",
              "      <td>-0.000000</td>\n",
              "      <td>-0.000000</td>\n",
              "      <td>-0.000000</td>\n",
              "      <td>...</td>\n",
              "      <td>0.0</td>\n",
              "      <td>0.0</td>\n",
              "      <td>0.0</td>\n",
              "      <td>0.0</td>\n",
              "      <td>0.0</td>\n",
              "      <td>0.0</td>\n",
              "      <td>0.0</td>\n",
              "      <td>0.0</td>\n",
              "      <td>0.0</td>\n",
              "      <td>0.0</td>\n",
              "    </tr>\n",
              "    <tr>\n",
              "      <th>5</th>\n",
              "      <td>s2</td>\n",
              "      <td>21.424062</td>\n",
              "      <td>-0.000000</td>\n",
              "      <td>-0.000000</td>\n",
              "      <td>-0.000000</td>\n",
              "      <td>-0.000000</td>\n",
              "      <td>-0.000000</td>\n",
              "      <td>-0.000000</td>\n",
              "      <td>-0.000000</td>\n",
              "      <td>-0.000000</td>\n",
              "      <td>...</td>\n",
              "      <td>0.0</td>\n",
              "      <td>0.0</td>\n",
              "      <td>0.0</td>\n",
              "      <td>0.0</td>\n",
              "      <td>0.0</td>\n",
              "      <td>0.0</td>\n",
              "      <td>0.0</td>\n",
              "      <td>0.0</td>\n",
              "      <td>0.0</td>\n",
              "      <td>0.0</td>\n",
              "    </tr>\n",
              "    <tr>\n",
              "      <th>6</th>\n",
              "      <td>s3</td>\n",
              "      <td>4.029853</td>\n",
              "      <td>-10.611404</td>\n",
              "      <td>-10.037271</td>\n",
              "      <td>-9.462334</td>\n",
              "      <td>-8.301892</td>\n",
              "      <td>-6.944399</td>\n",
              "      <td>-5.586015</td>\n",
              "      <td>-4.879667</td>\n",
              "      <td>-4.259963</td>\n",
              "      <td>...</td>\n",
              "      <td>-0.0</td>\n",
              "      <td>-0.0</td>\n",
              "      <td>-0.0</td>\n",
              "      <td>-0.0</td>\n",
              "      <td>-0.0</td>\n",
              "      <td>-0.0</td>\n",
              "      <td>-0.0</td>\n",
              "      <td>-0.0</td>\n",
              "      <td>-0.0</td>\n",
              "      <td>-0.0</td>\n",
              "    </tr>\n",
              "    <tr>\n",
              "      <th>7</th>\n",
              "      <td>s4</td>\n",
              "      <td>8.136614</td>\n",
              "      <td>0.000000</td>\n",
              "      <td>0.000000</td>\n",
              "      <td>0.000000</td>\n",
              "      <td>0.000000</td>\n",
              "      <td>0.000000</td>\n",
              "      <td>0.000000</td>\n",
              "      <td>0.000000</td>\n",
              "      <td>0.000000</td>\n",
              "      <td>...</td>\n",
              "      <td>0.0</td>\n",
              "      <td>0.0</td>\n",
              "      <td>0.0</td>\n",
              "      <td>0.0</td>\n",
              "      <td>0.0</td>\n",
              "      <td>0.0</td>\n",
              "      <td>0.0</td>\n",
              "      <td>0.0</td>\n",
              "      <td>0.0</td>\n",
              "      <td>0.0</td>\n",
              "    </tr>\n",
              "    <tr>\n",
              "      <th>8</th>\n",
              "      <td>s5</td>\n",
              "      <td>35.147572</td>\n",
              "      <td>24.395346</td>\n",
              "      <td>23.109529</td>\n",
              "      <td>21.823858</td>\n",
              "      <td>21.449996</td>\n",
              "      <td>21.213800</td>\n",
              "      <td>20.944923</td>\n",
              "      <td>20.602840</td>\n",
              "      <td>20.251105</td>\n",
              "      <td>...</td>\n",
              "      <td>0.0</td>\n",
              "      <td>0.0</td>\n",
              "      <td>0.0</td>\n",
              "      <td>0.0</td>\n",
              "      <td>0.0</td>\n",
              "      <td>0.0</td>\n",
              "      <td>0.0</td>\n",
              "      <td>0.0</td>\n",
              "      <td>0.0</td>\n",
              "      <td>0.0</td>\n",
              "    </tr>\n",
              "    <tr>\n",
              "      <th>9</th>\n",
              "      <td>s6</td>\n",
              "      <td>3.213283</td>\n",
              "      <td>2.544679</td>\n",
              "      <td>1.664749</td>\n",
              "      <td>0.784249</td>\n",
              "      <td>0.104968</td>\n",
              "      <td>0.000000</td>\n",
              "      <td>0.000000</td>\n",
              "      <td>0.000000</td>\n",
              "      <td>0.000000</td>\n",
              "      <td>...</td>\n",
              "      <td>0.0</td>\n",
              "      <td>0.0</td>\n",
              "      <td>0.0</td>\n",
              "      <td>0.0</td>\n",
              "      <td>0.0</td>\n",
              "      <td>0.0</td>\n",
              "      <td>0.0</td>\n",
              "      <td>0.0</td>\n",
              "      <td>0.0</td>\n",
              "      <td>0.0</td>\n",
              "    </tr>\n",
              "  </tbody>\n",
              "</table>\n",
              "<p>10 rows × 101 columns</p>\n",
              "</div>\n",
              "      <button class=\"colab-df-convert\" onclick=\"convertToInteractive('df-55cfaaf3-7e96-402a-9ed2-25a8148433a5')\"\n",
              "              title=\"Convert this dataframe to an interactive table.\"\n",
              "              style=\"display:none;\">\n",
              "        \n",
              "  <svg xmlns=\"http://www.w3.org/2000/svg\" height=\"24px\"viewBox=\"0 0 24 24\"\n",
              "       width=\"24px\">\n",
              "    <path d=\"M0 0h24v24H0V0z\" fill=\"none\"/>\n",
              "    <path d=\"M18.56 5.44l.94 2.06.94-2.06 2.06-.94-2.06-.94-.94-2.06-.94 2.06-2.06.94zm-11 1L8.5 8.5l.94-2.06 2.06-.94-2.06-.94L8.5 2.5l-.94 2.06-2.06.94zm10 10l.94 2.06.94-2.06 2.06-.94-2.06-.94-.94-2.06-.94 2.06-2.06.94z\"/><path d=\"M17.41 7.96l-1.37-1.37c-.4-.4-.92-.59-1.43-.59-.52 0-1.04.2-1.43.59L10.3 9.45l-7.72 7.72c-.78.78-.78 2.05 0 2.83L4 21.41c.39.39.9.59 1.41.59.51 0 1.02-.2 1.41-.59l7.78-7.78 2.81-2.81c.8-.78.8-2.07 0-2.86zM5.41 20L4 18.59l7.72-7.72 1.47 1.35L5.41 20z\"/>\n",
              "  </svg>\n",
              "      </button>\n",
              "      \n",
              "  <style>\n",
              "    .colab-df-container {\n",
              "      display:flex;\n",
              "      flex-wrap:wrap;\n",
              "      gap: 12px;\n",
              "    }\n",
              "\n",
              "    .colab-df-convert {\n",
              "      background-color: #E8F0FE;\n",
              "      border: none;\n",
              "      border-radius: 50%;\n",
              "      cursor: pointer;\n",
              "      display: none;\n",
              "      fill: #1967D2;\n",
              "      height: 32px;\n",
              "      padding: 0 0 0 0;\n",
              "      width: 32px;\n",
              "    }\n",
              "\n",
              "    .colab-df-convert:hover {\n",
              "      background-color: #E2EBFA;\n",
              "      box-shadow: 0px 1px 2px rgba(60, 64, 67, 0.3), 0px 1px 3px 1px rgba(60, 64, 67, 0.15);\n",
              "      fill: #174EA6;\n",
              "    }\n",
              "\n",
              "    [theme=dark] .colab-df-convert {\n",
              "      background-color: #3B4455;\n",
              "      fill: #D2E3FC;\n",
              "    }\n",
              "\n",
              "    [theme=dark] .colab-df-convert:hover {\n",
              "      background-color: #434B5C;\n",
              "      box-shadow: 0px 1px 3px 1px rgba(0, 0, 0, 0.15);\n",
              "      filter: drop-shadow(0px 1px 2px rgba(0, 0, 0, 0.3));\n",
              "      fill: #FFFFFF;\n",
              "    }\n",
              "  </style>\n",
              "\n",
              "      <script>\n",
              "        const buttonEl =\n",
              "          document.querySelector('#df-55cfaaf3-7e96-402a-9ed2-25a8148433a5 button.colab-df-convert');\n",
              "        buttonEl.style.display =\n",
              "          google.colab.kernel.accessAllowed ? 'block' : 'none';\n",
              "\n",
              "        async function convertToInteractive(key) {\n",
              "          const element = document.querySelector('#df-55cfaaf3-7e96-402a-9ed2-25a8148433a5');\n",
              "          const dataTable =\n",
              "            await google.colab.kernel.invokeFunction('convertToInteractive',\n",
              "                                                     [key], {});\n",
              "          if (!dataTable) return;\n",
              "\n",
              "          const docLinkHtml = 'Like what you see? Visit the ' +\n",
              "            '<a target=\"_blank\" href=https://colab.research.google.com/notebooks/data_table.ipynb>data table notebook</a>'\n",
              "            + ' to learn more about interactive tables.';\n",
              "          element.innerHTML = '';\n",
              "          dataTable['output_type'] = 'display_data';\n",
              "          await google.colab.output.renderOutput(dataTable, element);\n",
              "          const docLink = document.createElement('div');\n",
              "          docLink.innerHTML = docLinkHtml;\n",
              "          element.appendChild(docLink);\n",
              "        }\n",
              "      </script>\n",
              "    </div>\n",
              "  </div>\n",
              "  "
            ]
          },
          "metadata": {},
          "execution_count": 8
        }
      ]
    },
    {
      "cell_type": "code",
      "source": [
        "# let us plot the lasso coefficients as a function of the various alpha values\n",
        "ax = plt.gca()\n",
        "\n",
        "ax.plot(alphas, lasso_values.to_numpy()[:, 1:].T)\n",
        "ax.set_xscale('log')\n",
        "plt.axis('tight')\n",
        "plt.xlabel('alpha')\n",
        "plt.ylabel('Standardized Coefficients')\n",
        "plt.title('Lasso coefficients as a function of alpha');"
      ],
      "metadata": {
        "colab": {
          "base_uri": "https://localhost:8080/",
          "height": 476
        },
        "id": "BBk2AP1110DH",
        "outputId": "c9943b68-7ae0-4993-f1cf-1164e9dacf4a"
      },
      "execution_count": 9,
      "outputs": [
        {
          "output_type": "display_data",
          "data": {
            "text/plain": [
              "<Figure size 640x480 with 1 Axes>"
            ],
            "image/png": "[encoded data removed]"
          },
          "metadata": {}
        }
      ]
    },
    {
      "cell_type": "code",
      "source": [],
      "metadata": {
        "id": "1p1rgbVQKaJC"
      },
      "execution_count": 9,
      "outputs": []
    },
    {
      "cell_type": "markdown",
      "source": [
        "## Filter Methods Class"
      ],
      "metadata": {
        "id": "jyCOhLgHnpLH"
      }
    },
    {
      "cell_type": "code",
      "source": [
        "class Filter:\n",
        "\n",
        "  def __init__(self, X, y):\n",
        "    self.X = X\n",
        "    self.y = y\n",
        "  \n",
        "  def Pearson_method(self):\n",
        "\n",
        "    correlations = []\n",
        "    for i in range(self.X.shape[1]):\n",
        "        correls = np.corrcoef(self.X[:,i],self.y)[0,1]\n",
        "        correlations.append(correls)\n",
        "    correlations_array = np.array(correlations)\n",
        "    return correlations_array\n",
        "\n",
        "  def rank_features(self):\n",
        "    features = self.Pearson_method()\n",
        "    feature_rank = np.argsort(np.abs(features))[::-1]\n",
        "    return feature_rank\n",
        "\n",
        "  def compute_anova(self):\n",
        "    num_samples, num_features = self.X.shape\n",
        "    f_values, p_values = np.zeros(num_features), np.zeros(num_features)\n",
        "    for i in range(num_features):\n",
        "        feature_values = self.X.iloc[:, i].values\n",
        "        groups = [feature_values[self.y == k] for k in np.unique(self.y)]\n",
        "        f_values[i], p_values[i] = f_oneway(*groups)\n",
        "    return f_values, p_values\n",
        "\n",
        "  def chi_squared(self):\n",
        "    scores, pvalues = [], []\n",
        "    for feature in self.X.columns:\n",
        "      contingency_table = pd.crosstab(self.X[feature], self.y)\n",
        "      #print(contingency_table)\n",
        "      \n",
        "      chi2, p, dof, expected = chi2_contingency(contingency_table)\n",
        "      scores.append(chi2)\n",
        "      pvalues.append(p)\n",
        "      #print(chi2, p, dof, expected)\n",
        "      #print(\"====================================\")\n",
        "\n",
        "    return scores, pvalues\n",
        "\n",
        "\n",
        "\n",
        "\n",
        "  \n"
      ],
      "metadata": {
        "id": "xLnwoLnCnsWz"
      },
      "execution_count": 10,
      "outputs": []
    },
    {
      "cell_type": "markdown",
      "source": [
        "#### Testing the methods in the Filter class"
      ],
      "metadata": {
        "id": "KEsbykeCZ16v"
      }
    },
    {
      "cell_type": "markdown",
      "source": [
        "##### Pearson Feature Selection"
      ],
      "metadata": {
        "id": "Vz6PpfYf39l9"
      }
    },
    {
      "cell_type": "code",
      "source": [
        "''' Testing the Pearson_method feature selection method \n",
        "   We use the DIABETES dataset for this implementation.  \n",
        "   This is a regression dataset. The DIABETES dataset has \n",
        "   442 instances or samples, 10 features or attributes and a target feature.  '''\n",
        "\n",
        "\n",
        "# Load the DIABETES dataset\n",
        "diabetes_data = load_diabetes()\n",
        "X, y = diabetes_data['data'], diabetes_data['target']\n",
        "\n",
        "\n",
        "# # # Standardize the features\n",
        "scaler = StandardScaler()\n",
        "X = scaler.fit_transform(X)\n",
        "\n",
        "# instantiate the Filter class\n",
        "filter_pearson = Filter(X,y)\n",
        "\n",
        "# see how the features are correlated to the target\n",
        "corr_relation = filter_pearson.Pearson_method()\n",
        "print(f'Correlation values between each feature and target', corr_relation)\n",
        "\n",
        "selected_features = filter_pearson.rank_features()[:7]\n",
        "print(selected_features)\n",
        "\n",
        "\n",
        "model = LinearRegression()\n",
        "\n",
        "# Perform k-fold cross-validation and compute the mean accuracy score\n",
        "kf = KFold(n_splits=5, shuffle = True, random_state=42)\n",
        "scores = cross_val_score(model, X[:, selected_features], y, cv=kf, scoring = \"neg_mean_squared_error\")\n",
        "\n",
        "# Calculate the average MSE value across all K iterations\n",
        "avg_mse = -np.mean(scores)\n",
        "print(\"Average MSE:\", avg_mse)\n"
      ],
      "metadata": {
        "colab": {
          "base_uri": "https://localhost:8080/"
        },
        "id": "5-1qwK9geZ83",
        "outputId": "b5a9b09f-d336-420a-8064-80a06d19a671"
      },
      "execution_count": 11,
      "outputs": [
        {
          "output_type": "stream",
          "name": "stdout",
          "text": [
            "Correlation values between each feature and target [ 0.18788875  0.043062    0.58645013  0.44148176  0.21202248  0.17405359\n",
            " -0.39478925  0.43045288  0.56588259  0.38248348]\n",
            "[2 8 3 7 6 9 4]\n",
            "Average MSE: 3117.779096347468\n"
          ]
        }
      ]
    },
    {
      "cell_type": "markdown",
      "source": [
        "##### ANOVA Feature Selection"
      ],
      "metadata": {
        "id": "2Nxoj2984EOn"
      }
    },
    {
      "cell_type": "code",
      "source": [
        "''' Testing the ANOVA feature selection method \n",
        "   We use the BREAST CANCER dataset for this implementation. \n",
        "   This is a classification dataset.\n",
        "   The BREAST CANCER dataset has 569 instances or samples, \n",
        "   30 features or attributes and a target feature.  '''\n",
        "\n",
        "\n",
        "# Load the BREAST CANCER dataset\n",
        "X, y = load_breast_cancer(return_X_y=True, as_frame= True)\n",
        "\n",
        "# instantiate the Filter class\n",
        "filter_anova = Filter(X,y)\n",
        "\n",
        "f_values, p_values = filter_anova.compute_anova()\n",
        "\n",
        "# let us look at each feature and the corresponding f-value and p-value\n",
        "features_pval_and_fval = pd.DataFrame({'feature': X.columns, 'F-value': f_values, 'p-value': p_values})\n",
        "#features_pval_and_fval"
      ],
      "metadata": {
        "id": "qFojShfJnJrh"
      },
      "execution_count": 12,
      "outputs": []
    },
    {
      "cell_type": "code",
      "source": [
        "\n",
        "# now let us sort the features_pvalues_fvalues dataframe based on the \n",
        "# p-value in ascending order\n",
        "sorted_features_pval_and_fval = features_pval_and_fval.sort_values(by=['p-value'])\n",
        "#sorted_features_pval_and_fval"
      ],
      "metadata": {
        "id": "NurtyGK6Fk6x"
      },
      "execution_count": 13,
      "outputs": []
    },
    {
      "cell_type": "code",
      "source": [
        "# plot F-values for each feature\n",
        "fig, ax = plt.subplots(figsize=(10,6))\n",
        "ax.barh(sorted_features_pval_and_fval['feature'], sorted_features_pval_and_fval['F-value'], color='blue')\n",
        "ax.set_xlabel('F-value')\n",
        "ax.set_ylabel('Features')\n",
        "ax.set_title('ANOVA Results')\n",
        "plt.show()"
      ],
      "metadata": {
        "colab": {
          "base_uri": "https://localhost:8080/",
          "height": 564
        },
        "id": "FPPhAF3_Gm8Q",
        "outputId": "3d34435f-4c19-4a56-dfdf-22c49d312948"
      },
      "execution_count": 14,
      "outputs": [
        {
          "output_type": "display_data",
          "data": {
            "text/plain": [
              "<Figure size 1000x600 with 1 Axes>"
            ],
            "image/png": "[encoded data removed]"
          },
          "metadata": {}
        }
      ]
    },
    {
      "cell_type": "code",
      "source": [
        "# select top k features with the lowest p-values\n",
        "k = 10\n",
        "selected_features = sorted_features_pval_and_fval['feature'].iloc[:k].tolist()\n",
        "selected_X = X[selected_features]\n",
        "\n",
        "# # # Standardize the features\n",
        "scaler = StandardScaler()\n",
        "std_selected_X = scaler.fit_transform(selected_X)\n",
        "std_selected_X.shape"
      ],
      "metadata": {
        "colab": {
          "base_uri": "https://localhost:8080/"
        },
        "id": "AGUFlLwobSAB",
        "outputId": "ae2515a0-2e58-4d12-b808-89711270d732"
      },
      "execution_count": 15,
      "outputs": [
        {
          "output_type": "execute_result",
          "data": {
            "text/plain": [
              "(569, 10)"
            ]
          },
          "metadata": {},
          "execution_count": 15
        }
      ]
    },
    {
      "cell_type": "code",
      "source": [
        "# let us train and test our model using k-fold cross validation\n",
        "model = LogisticRegression()\n",
        "\n",
        "# Perform k-fold cross-validation and compute the mean accuracy score\n",
        "kf = KFold(n_splits=5, shuffle = True, random_state=42)\n",
        "scores = cross_val_score(model, std_selected_X, y, cv=kf)\n",
        "\n",
        "# Calculate the average accuracy across all K iterations\n",
        "avg_accuracy = np.mean(scores)\n",
        "print(\"Average Accuracy:\", avg_accuracy)"
      ],
      "metadata": {
        "colab": {
          "base_uri": "https://localhost:8080/"
        },
        "id": "o2lq8WqD5ish",
        "outputId": "290c92cf-5799-42f9-c4ae-2f88c1a7f6ee"
      },
      "execution_count": 16,
      "outputs": [
        {
          "output_type": "stream",
          "name": "stdout",
          "text": [
            "Average Accuracy: 0.9577860580655179\n"
          ]
        }
      ]
    },
    {
      "cell_type": "markdown",
      "source": [
        "##### Chi Squared Feature Selection"
      ],
      "metadata": {
        "id": "lq8jii_74KZj"
      }
    },
    {
      "cell_type": "code",
      "source": [
        "''' Testing the CHI SQUARED feature selection method \n",
        "   We use only the categorical features from the TITANIC dataset for this implementation. \n",
        "   The TITANIC dataset has 891 instances or samples, \n",
        "   The categorical features are 'sex', 'embarked', 'who', 'embark_town', 'alive'\n",
        "'''\n",
        "\n",
        "# Load the TITANIC dataset\n",
        "data = sns.load_dataset('titanic')\n",
        "\n",
        "# extracting the categorical features\n",
        "new_data = data[data.select_dtypes(['object']).columns]\n",
        "\n",
        "# Split data into features and target, the features are 'sex', 'embarked', 'who', 'embark_town'\n",
        "# and the target is 'alive'\n",
        "X = new_data.iloc[:, :-1]\n",
        "y = new_data.iloc[:, -1]\n",
        "\n",
        "# apply the chi_squared_method and extract the scores and the p_values\n",
        "filter_chi = Filter(X,y)\n",
        "scores, p_values = filter_chi.chi_squared()\n",
        "print(scores)\n",
        "\n"
      ],
      "metadata": {
        "colab": {
          "base_uri": "https://localhost:8080/"
        },
        "id": "_edAikcEw5xb",
        "outputId": "e926e4f2-f6a9-473f-a34d-5bd253e69563"
      },
      "execution_count": 18,
      "outputs": [
        {
          "output_type": "stream",
          "name": "stdout",
          "text": [
            "[260.71702016732104, 26.48914983923762, 283.923050324233, 26.48914983923762]\n"
          ]
        }
      ]
    },
    {
      "cell_type": "code",
      "source": [
        "# number of desired features\n",
        "k = 2\n",
        "\n",
        "#the indices of top k number of desired features\n",
        "top_k_indices = np.argsort(scores)[::-1][0:k]\n",
        "\n",
        "#now we select those features\n",
        "selected_features = np.array(X.columns)[top_k_indices]\n",
        "print(\"Selected features:\", selected_features)"
      ],
      "metadata": {
        "colab": {
          "base_uri": "https://localhost:8080/"
        },
        "id": "4GBqKQl3z8A8",
        "outputId": "4388a7ce-7632-48d8-9b56-0327edd88d19"
      },
      "execution_count": 19,
      "outputs": [
        {
          "output_type": "stream",
          "name": "stdout",
          "text": [
            "Selected features: ['who' 'sex']\n"
          ]
        }
      ]
    }
  ]
}