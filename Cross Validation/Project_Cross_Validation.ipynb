{
  "cells": [
    {
      "cell_type": "markdown",
      "metadata": {
        "id": "iWZEGoZT0C0L"
      },
      "source": [
        "<center>\n",
        "    <a href=\"https://www.aims-senegal.org/\" ><img src=\"aims_senegal.jpg\" style=\"float:center; max-width: 600px; display: inline\" alt=\"IMSP\"/> </a>\n",
        "    </center>\n",
        "    \n",
        "#    <center> <b> <span style=\"color:orange;\" >  `African Master in Machine Intelligent,AIMS-Senegal ` </span> </b></center>\n",
        "\n",
        "\n",
        "## <center> <b> <span style=\"color:orange;\"> Cross Validation from Scratch </span> </b></center>\n",
        "\n",
        "### <center> <b> <span style=\"color:blue;\"> Elie Mulamba <br/>Amisi Fikirini <br/> Salomon Muhirwa </span> </b>\n",
        "</center>\n",
        "\n",
        "---\n",
        "\n"
      ]
    },
    {
      "cell_type": "markdown",
      "metadata": {
        "id": "F_B5uoijytb7"
      },
      "source": [
        "###Importing necessary librairies"
      ]
    },
    {
      "cell_type": "code",
      "execution_count": 1,
      "metadata": {
        "id": "2kdo2d-DRHEb"
      },
      "outputs": [],
      "source": [
        "import numpy as np\n",
        "import matplotlib.pyplot as plt\n",
        "import pandas as pd"
      ]
    },
    {
      "cell_type": "markdown",
      "metadata": {
        "id": "zX8Knegx8fG_"
      },
      "source": [
        "## load Dataset using pandas"
      ]
    },
    {
      "cell_type": "code",
      "execution_count": null,
      "metadata": {
        "colab": {
          "base_uri": "https://localhost:8080/"
        },
        "id": "IBEPF6tjW4-B",
        "outputId": "7535c183-7e7a-42cb-a2d0-972beea98838"
      },
      "outputs": [
        {
          "output_type": "stream",
          "name": "stdout",
          "text": [
            "Drive already mounted at /content/drive; to attempt to forcibly remount, call drive.mount(\"/content/drive\", force_remount=True).\n"
          ]
        }
      ],
      "source": [
        "# from google.colab import drive\n",
        "# drive.mount(\"/content/drive\")"
      ]
    },
    {
      "cell_type": "code",
      "execution_count": null,
      "metadata": {
        "colab": {
          "base_uri": "https://localhost:8080/",
          "height": 310
        },
        "id": "aHvmqk8N4cRH",
        "outputId": "c61bfb27-0f52-49f8-fb8d-e002b03d733b"
      },
      "outputs": [
        {
          "output_type": "execute_result",
          "data": {
            "text/plain": [
              "         id diagnosis  radius_mean  texture_mean  perimeter_mean  area_mean  \\\n",
              "0    842302         M        17.99         10.38          122.80     1001.0   \n",
              "1    842517         M        20.57         17.77          132.90     1326.0   \n",
              "2  84300903         M        19.69         21.25          130.00     1203.0   \n",
              "3  84348301         M        11.42         20.38           77.58      386.1   \n",
              "4  84358402         M        20.29         14.34          135.10     1297.0   \n",
              "\n",
              "   smoothness_mean  compactness_mean  concavity_mean  concave points_mean  \\\n",
              "0          0.11840           0.27760          0.3001              0.14710   \n",
              "1          0.08474           0.07864          0.0869              0.07017   \n",
              "2          0.10960           0.15990          0.1974              0.12790   \n",
              "3          0.14250           0.28390          0.2414              0.10520   \n",
              "4          0.10030           0.13280          0.1980              0.10430   \n",
              "\n",
              "   ...  texture_worst  perimeter_worst  area_worst  smoothness_worst  \\\n",
              "0  ...          17.33           184.60      2019.0            0.1622   \n",
              "1  ...          23.41           158.80      1956.0            0.1238   \n",
              "2  ...          25.53           152.50      1709.0            0.1444   \n",
              "3  ...          26.50            98.87       567.7            0.2098   \n",
              "4  ...          16.67           152.20      1575.0            0.1374   \n",
              "\n",
              "   compactness_worst  concavity_worst  concave points_worst  symmetry_worst  \\\n",
              "0             0.6656           0.7119                0.2654          0.4601   \n",
              "1             0.1866           0.2416                0.1860          0.2750   \n",
              "2             0.4245           0.4504                0.2430          0.3613   \n",
              "3             0.8663           0.6869                0.2575          0.6638   \n",
              "4             0.2050           0.4000                0.1625          0.2364   \n",
              "\n",
              "   fractal_dimension_worst  Unnamed: 32  \n",
              "0                  0.11890          NaN  \n",
              "1                  0.08902          NaN  \n",
              "2                  0.08758          NaN  \n",
              "3                  0.17300          NaN  \n",
              "4                  0.07678          NaN  \n",
              "\n",
              "[5 rows x 33 columns]"
            ],
            "text/html": [
              "\n",
              "  <div id=\"df-3b0366b5-ae7d-4983-8725-b4eee866c161\">\n",
              "    <div class=\"colab-df-container\">\n",
              "      <div>\n",
              "<style scoped>\n",
              "    .dataframe tbody tr th:only-of-type {\n",
              "        vertical-align: middle;\n",
              "    }\n",
              "\n",
              "    .dataframe tbody tr th {\n",
              "        vertical-align: top;\n",
              "    }\n",
              "\n",
              "    .dataframe thead th {\n",
              "        text-align: right;\n",
              "    }\n",
              "</style>\n",
              "<table border=\"1\" class=\"dataframe\">\n",
              "  <thead>\n",
              "    <tr style=\"text-align: right;\">\n",
              "      <th></th>\n",
              "      <th>id</th>\n",
              "      <th>diagnosis</th>\n",
              "      <th>radius_mean</th>\n",
              "      <th>texture_mean</th>\n",
              "      <th>perimeter_mean</th>\n",
              "      <th>area_mean</th>\n",
              "      <th>smoothness_mean</th>\n",
              "      <th>compactness_mean</th>\n",
              "      <th>concavity_mean</th>\n",
              "      <th>concave points_mean</th>\n",
              "      <th>...</th>\n",
              "      <th>texture_worst</th>\n",
              "      <th>perimeter_worst</th>\n",
              "      <th>area_worst</th>\n",
              "      <th>smoothness_worst</th>\n",
              "      <th>compactness_worst</th>\n",
              "      <th>concavity_worst</th>\n",
              "      <th>concave points_worst</th>\n",
              "      <th>symmetry_worst</th>\n",
              "      <th>fractal_dimension_worst</th>\n",
              "      <th>Unnamed: 32</th>\n",
              "    </tr>\n",
              "  </thead>\n",
              "  <tbody>\n",
              "    <tr>\n",
              "      <th>0</th>\n",
              "      <td>842302</td>\n",
              "      <td>M</td>\n",
              "      <td>17.99</td>\n",
              "      <td>10.38</td>\n",
              "      <td>122.80</td>\n",
              "      <td>1001.0</td>\n",
              "      <td>0.11840</td>\n",
              "      <td>0.27760</td>\n",
              "      <td>0.3001</td>\n",
              "      <td>0.14710</td>\n",
              "      <td>...</td>\n",
              "      <td>17.33</td>\n",
              "      <td>184.60</td>\n",
              "      <td>2019.0</td>\n",
              "      <td>0.1622</td>\n",
              "      <td>0.6656</td>\n",
              "      <td>0.7119</td>\n",
              "      <td>0.2654</td>\n",
              "      <td>0.4601</td>\n",
              "      <td>0.11890</td>\n",
              "      <td>NaN</td>\n",
              "    </tr>\n",
              "    <tr>\n",
              "      <th>1</th>\n",
              "      <td>842517</td>\n",
              "      <td>M</td>\n",
              "      <td>20.57</td>\n",
              "      <td>17.77</td>\n",
              "      <td>132.90</td>\n",
              "      <td>1326.0</td>\n",
              "      <td>0.08474</td>\n",
              "      <td>0.07864</td>\n",
              "      <td>0.0869</td>\n",
              "      <td>0.07017</td>\n",
              "      <td>...</td>\n",
              "      <td>23.41</td>\n",
              "      <td>158.80</td>\n",
              "      <td>1956.0</td>\n",
              "      <td>0.1238</td>\n",
              "      <td>0.1866</td>\n",
              "      <td>0.2416</td>\n",
              "      <td>0.1860</td>\n",
              "      <td>0.2750</td>\n",
              "      <td>0.08902</td>\n",
              "      <td>NaN</td>\n",
              "    </tr>\n",
              "    <tr>\n",
              "      <th>2</th>\n",
              "      <td>84300903</td>\n",
              "      <td>M</td>\n",
              "      <td>19.69</td>\n",
              "      <td>21.25</td>\n",
              "      <td>130.00</td>\n",
              "      <td>1203.0</td>\n",
              "      <td>0.10960</td>\n",
              "      <td>0.15990</td>\n",
              "      <td>0.1974</td>\n",
              "      <td>0.12790</td>\n",
              "      <td>...</td>\n",
              "      <td>25.53</td>\n",
              "      <td>152.50</td>\n",
              "      <td>1709.0</td>\n",
              "      <td>0.1444</td>\n",
              "      <td>0.4245</td>\n",
              "      <td>0.4504</td>\n",
              "      <td>0.2430</td>\n",
              "      <td>0.3613</td>\n",
              "      <td>0.08758</td>\n",
              "      <td>NaN</td>\n",
              "    </tr>\n",
              "    <tr>\n",
              "      <th>3</th>\n",
              "      <td>84348301</td>\n",
              "      <td>M</td>\n",
              "      <td>11.42</td>\n",
              "      <td>20.38</td>\n",
              "      <td>77.58</td>\n",
              "      <td>386.1</td>\n",
              "      <td>0.14250</td>\n",
              "      <td>0.28390</td>\n",
              "      <td>0.2414</td>\n",
              "      <td>0.10520</td>\n",
              "      <td>...</td>\n",
              "      <td>26.50</td>\n",
              "      <td>98.87</td>\n",
              "      <td>567.7</td>\n",
              "      <td>0.2098</td>\n",
              "      <td>0.8663</td>\n",
              "      <td>0.6869</td>\n",
              "      <td>0.2575</td>\n",
              "      <td>0.6638</td>\n",
              "      <td>0.17300</td>\n",
              "      <td>NaN</td>\n",
              "    </tr>\n",
              "    <tr>\n",
              "      <th>4</th>\n",
              "      <td>84358402</td>\n",
              "      <td>M</td>\n",
              "      <td>20.29</td>\n",
              "      <td>14.34</td>\n",
              "      <td>135.10</td>\n",
              "      <td>1297.0</td>\n",
              "      <td>0.10030</td>\n",
              "      <td>0.13280</td>\n",
              "      <td>0.1980</td>\n",
              "      <td>0.10430</td>\n",
              "      <td>...</td>\n",
              "      <td>16.67</td>\n",
              "      <td>152.20</td>\n",
              "      <td>1575.0</td>\n",
              "      <td>0.1374</td>\n",
              "      <td>0.2050</td>\n",
              "      <td>0.4000</td>\n",
              "      <td>0.1625</td>\n",
              "      <td>0.2364</td>\n",
              "      <td>0.07678</td>\n",
              "      <td>NaN</td>\n",
              "    </tr>\n",
              "  </tbody>\n",
              "</table>\n",
              "<p>5 rows × 33 columns</p>\n",
              "</div>\n",
              "      <button class=\"colab-df-convert\" onclick=\"convertToInteractive('df-3b0366b5-ae7d-4983-8725-b4eee866c161')\"\n",
              "              title=\"Convert this dataframe to an interactive table.\"\n",
              "              style=\"display:none;\">\n",
              "        \n",
              "  <svg xmlns=\"http://www.w3.org/2000/svg\" height=\"24px\"viewBox=\"0 0 24 24\"\n",
              "       width=\"24px\">\n",
              "    <path d=\"M0 0h24v24H0V0z\" fill=\"none\"/>\n",
              "    <path d=\"M18.56 5.44l.94 2.06.94-2.06 2.06-.94-2.06-.94-.94-2.06-.94 2.06-2.06.94zm-11 1L8.5 8.5l.94-2.06 2.06-.94-2.06-.94L8.5 2.5l-.94 2.06-2.06.94zm10 10l.94 2.06.94-2.06 2.06-.94-2.06-.94-.94-2.06-.94 2.06-2.06.94z\"/><path d=\"M17.41 7.96l-1.37-1.37c-.4-.4-.92-.59-1.43-.59-.52 0-1.04.2-1.43.59L10.3 9.45l-7.72 7.72c-.78.78-.78 2.05 0 2.83L4 21.41c.39.39.9.59 1.41.59.51 0 1.02-.2 1.41-.59l7.78-7.78 2.81-2.81c.8-.78.8-2.07 0-2.86zM5.41 20L4 18.59l7.72-7.72 1.47 1.35L5.41 20z\"/>\n",
              "  </svg>\n",
              "      </button>\n",
              "      \n",
              "  <style>\n",
              "    .colab-df-container {\n",
              "      display:flex;\n",
              "      flex-wrap:wrap;\n",
              "      gap: 12px;\n",
              "    }\n",
              "\n",
              "    .colab-df-convert {\n",
              "      background-color: #E8F0FE;\n",
              "      border: none;\n",
              "      border-radius: 50%;\n",
              "      cursor: pointer;\n",
              "      display: none;\n",
              "      fill: #1967D2;\n",
              "      height: 32px;\n",
              "      padding: 0 0 0 0;\n",
              "      width: 32px;\n",
              "    }\n",
              "\n",
              "    .colab-df-convert:hover {\n",
              "      background-color: #E2EBFA;\n",
              "      box-shadow: 0px 1px 2px rgba(60, 64, 67, 0.3), 0px 1px 3px 1px rgba(60, 64, 67, 0.15);\n",
              "      fill: #174EA6;\n",
              "    }\n",
              "\n",
              "    [theme=dark] .colab-df-convert {\n",
              "      background-color: #3B4455;\n",
              "      fill: #D2E3FC;\n",
              "    }\n",
              "\n",
              "    [theme=dark] .colab-df-convert:hover {\n",
              "      background-color: #434B5C;\n",
              "      box-shadow: 0px 1px 3px 1px rgba(0, 0, 0, 0.15);\n",
              "      filter: drop-shadow(0px 1px 2px rgba(0, 0, 0, 0.3));\n",
              "      fill: #FFFFFF;\n",
              "    }\n",
              "  </style>\n",
              "\n",
              "      <script>\n",
              "        const buttonEl =\n",
              "          document.querySelector('#df-3b0366b5-ae7d-4983-8725-b4eee866c161 button.colab-df-convert');\n",
              "        buttonEl.style.display =\n",
              "          google.colab.kernel.accessAllowed ? 'block' : 'none';\n",
              "\n",
              "        async function convertToInteractive(key) {\n",
              "          const element = document.querySelector('#df-3b0366b5-ae7d-4983-8725-b4eee866c161');\n",
              "          const dataTable =\n",
              "            await google.colab.kernel.invokeFunction('convertToInteractive',\n",
              "                                                     [key], {});\n",
              "          if (!dataTable) return;\n",
              "\n",
              "          const docLinkHtml = 'Like what you see? Visit the ' +\n",
              "            '<a target=\"_blank\" href=https://colab.research.google.com/notebooks/data_table.ipynb>data table notebook</a>'\n",
              "            + ' to learn more about interactive tables.';\n",
              "          element.innerHTML = '';\n",
              "          dataTable['output_type'] = 'display_data';\n",
              "          await google.colab.output.renderOutput(dataTable, element);\n",
              "          const docLink = document.createElement('div');\n",
              "          docLink.innerHTML = docLinkHtml;\n",
              "          element.appendChild(docLink);\n",
              "        }\n",
              "      </script>\n",
              "    </div>\n",
              "  </div>\n",
              "  "
            ]
          },
          "metadata": {},
          "execution_count": 145
        }
      ],
      "source": [
        "# data = pd.read_csv(\"/content/drive/MyDrive/Cross-Validation/data/data.csv\")\n",
        "# data.head()"
      ]
    },
    {
      "cell_type": "markdown",
      "metadata": {
        "id": "0pwfH7_-x58O"
      },
      "source": [
        "## Data Processing"
      ]
    },
    {
      "cell_type": "code",
      "execution_count": null,
      "metadata": {
        "id": "rxVd2w60yQyS"
      },
      "outputs": [],
      "source": [
        "# ##Drop the columns id and Unnamed: 32\n",
        "# data = data.drop(['id','Unnamed: 32'], axis=1)\n",
        "# ##Encoding of diagnosis column\n",
        "# data['diagnosis'].replace(['M', 'B'], [1, 0], inplace=True)"
      ]
    },
    {
      "cell_type": "code",
      "source": [
        "# stratified_data=data"
      ],
      "metadata": {
        "id": "3IhcqCVXgmhK"
      },
      "execution_count": null,
      "outputs": []
    },
    {
      "cell_type": "markdown",
      "metadata": {
        "id": "TMuKhgaaRQze"
      },
      "source": [
        "##Normalization"
      ]
    },
    {
      "cell_type": "code",
      "execution_count": null,
      "metadata": {
        "id": "QJbHyqD6RMnR"
      },
      "outputs": [],
      "source": [
        "# def normalize(data):\n",
        "#   \"\"\"\n",
        "#   Normalizes a matrix of numbers to have a mean of 0 and a standard deviation of 1.\n",
        "#   \"\"\"\n",
        "#   return (data - np.min(data, axis=0)) / (np.max(data, axis=0) - np.min(data, axis=0))"
      ]
    },
    {
      "cell_type": "code",
      "execution_count": null,
      "metadata": {
        "id": "5-GOeBbyTUTL",
        "colab": {
          "base_uri": "https://localhost:8080/",
          "height": 493
        },
        "outputId": "1afb6a9b-b327-4a8e-a2a6-573fb589adff"
      },
      "outputs": [
        {
          "output_type": "execute_result",
          "data": {
            "text/plain": [
              "     diagnosis  radius_mean  texture_mean  perimeter_mean  area_mean  \\\n",
              "0            1          1.0      0.521037        0.022658   0.545989   \n",
              "1            1          1.0      0.643144        0.272574   0.615783   \n",
              "2            1          1.0      0.601496        0.390260   0.595743   \n",
              "3            1          1.0      0.210090        0.360839   0.233501   \n",
              "4            1          1.0      0.629893        0.156578   0.630986   \n",
              "..         ...          ...           ...             ...        ...   \n",
              "564          1          1.0      0.690000        0.428813   0.678668   \n",
              "565          1          1.0      0.622320        0.626987   0.604036   \n",
              "566          1          1.0      0.455251        0.621238   0.445788   \n",
              "567          1          1.0      0.644564        0.663510   0.665538   \n",
              "568          0          0.0      0.036869        0.501522   0.028540   \n",
              "\n",
              "     smoothness_mean  compactness_mean  concavity_mean  concave points_mean  \\\n",
              "0           0.363733          0.593753        0.792037             0.703140   \n",
              "1           0.501591          0.289880        0.181768             0.203608   \n",
              "2           0.449417          0.514309        0.431017             0.462512   \n",
              "3           0.102906          0.811321        0.811361             0.565604   \n",
              "4           0.489290          0.430351        0.347893             0.463918   \n",
              "..               ...               ...             ...                  ...   \n",
              "564         0.566490          0.526948        0.296055             0.571462   \n",
              "565         0.474019          0.407782        0.257714             0.337395   \n",
              "566         0.303118          0.288165        0.254340             0.216753   \n",
              "567         0.475716          0.588336        0.790197             0.823336   \n",
              "568         0.015907          0.000000        0.074351             0.000000   \n",
              "\n",
              "     symmetry_mean  ...  radius_worst  texture_worst  perimeter_worst  \\\n",
              "0         0.731113  ...      0.183042       0.620776         0.141525   \n",
              "1         0.348757  ...      0.091110       0.606901         0.303571   \n",
              "2         0.635686  ...      0.127006       0.556386         0.360075   \n",
              "3         0.522863  ...      0.287205       0.248310         0.385928   \n",
              "4         0.518390  ...      0.145800       0.519744         0.123934   \n",
              "..             ...  ...           ...            ...              ...   \n",
              "564       0.690358  ...      0.115536       0.623266         0.383262   \n",
              "565       0.486630  ...      0.055387       0.560655         0.699094   \n",
              "566       0.263519  ...      0.103547       0.393099         0.589019   \n",
              "567       0.755467  ...      0.182766       0.633582         0.730277   \n",
              "568       0.000000  ...      0.065234       0.054287         0.489072   \n",
              "\n",
              "     area_worst  smoothness_worst  compactness_worst  concavity_worst  \\\n",
              "0      0.668310          0.450698           0.601136         0.619292   \n",
              "1      0.539818          0.435214           0.347553         0.154563   \n",
              "2      0.508442          0.374508           0.483590         0.385375   \n",
              "3      0.241347          0.094008           0.915472         0.814012   \n",
              "4      0.506948          0.341575           0.437364         0.172415   \n",
              "..          ...               ...                ...              ...   \n",
              "564    0.576174          0.452664           0.461137         0.178527   \n",
              "565    0.520892          0.379915           0.300007         0.159997   \n",
              "566    0.379949          0.230731           0.282177         0.273705   \n",
              "567    0.668310          0.402035           0.619626         0.815758   \n",
              "568    0.043578          0.020497           0.124084         0.036043   \n",
              "\n",
              "     concave points_worst  symmetry_worst  fractal_dimension_worst  \n",
              "0                0.568610        0.912027                 0.598462  \n",
              "1                0.192971        0.639175                 0.233590  \n",
              "2                0.359744        0.835052                 0.403706  \n",
              "3                0.548642        0.884880                 1.000000  \n",
              "4                0.319489        0.558419                 0.157500  \n",
              "..                    ...             ...                      ...  \n",
              "564              0.328035        0.761512                 0.097575  \n",
              "565              0.256789        0.559450                 0.198502  \n",
              "566              0.271805        0.487285                 0.128721  \n",
              "567              0.749760        0.910653                 0.497142  \n",
              "568              0.000000        0.000000                 0.257441  \n",
              "\n",
              "[569 rows x 31 columns]"
            ],
            "text/html": [
              "\n",
              "  <div id=\"df-07cd9813-225b-4824-a13a-4b67f06fb625\">\n",
              "    <div class=\"colab-df-container\">\n",
              "      <div>\n",
              "<style scoped>\n",
              "    .dataframe tbody tr th:only-of-type {\n",
              "        vertical-align: middle;\n",
              "    }\n",
              "\n",
              "    .dataframe tbody tr th {\n",
              "        vertical-align: top;\n",
              "    }\n",
              "\n",
              "    .dataframe thead th {\n",
              "        text-align: right;\n",
              "    }\n",
              "</style>\n",
              "<table border=\"1\" class=\"dataframe\">\n",
              "  <thead>\n",
              "    <tr style=\"text-align: right;\">\n",
              "      <th></th>\n",
              "      <th>diagnosis</th>\n",
              "      <th>radius_mean</th>\n",
              "      <th>texture_mean</th>\n",
              "      <th>perimeter_mean</th>\n",
              "      <th>area_mean</th>\n",
              "      <th>smoothness_mean</th>\n",
              "      <th>compactness_mean</th>\n",
              "      <th>concavity_mean</th>\n",
              "      <th>concave points_mean</th>\n",
              "      <th>symmetry_mean</th>\n",
              "      <th>...</th>\n",
              "      <th>radius_worst</th>\n",
              "      <th>texture_worst</th>\n",
              "      <th>perimeter_worst</th>\n",
              "      <th>area_worst</th>\n",
              "      <th>smoothness_worst</th>\n",
              "      <th>compactness_worst</th>\n",
              "      <th>concavity_worst</th>\n",
              "      <th>concave points_worst</th>\n",
              "      <th>symmetry_worst</th>\n",
              "      <th>fractal_dimension_worst</th>\n",
              "    </tr>\n",
              "  </thead>\n",
              "  <tbody>\n",
              "    <tr>\n",
              "      <th>0</th>\n",
              "      <td>1</td>\n",
              "      <td>1.0</td>\n",
              "      <td>0.521037</td>\n",
              "      <td>0.022658</td>\n",
              "      <td>0.545989</td>\n",
              "      <td>0.363733</td>\n",
              "      <td>0.593753</td>\n",
              "      <td>0.792037</td>\n",
              "      <td>0.703140</td>\n",
              "      <td>0.731113</td>\n",
              "      <td>...</td>\n",
              "      <td>0.183042</td>\n",
              "      <td>0.620776</td>\n",
              "      <td>0.141525</td>\n",
              "      <td>0.668310</td>\n",
              "      <td>0.450698</td>\n",
              "      <td>0.601136</td>\n",
              "      <td>0.619292</td>\n",
              "      <td>0.568610</td>\n",
              "      <td>0.912027</td>\n",
              "      <td>0.598462</td>\n",
              "    </tr>\n",
              "    <tr>\n",
              "      <th>1</th>\n",
              "      <td>1</td>\n",
              "      <td>1.0</td>\n",
              "      <td>0.643144</td>\n",
              "      <td>0.272574</td>\n",
              "      <td>0.615783</td>\n",
              "      <td>0.501591</td>\n",
              "      <td>0.289880</td>\n",
              "      <td>0.181768</td>\n",
              "      <td>0.203608</td>\n",
              "      <td>0.348757</td>\n",
              "      <td>...</td>\n",
              "      <td>0.091110</td>\n",
              "      <td>0.606901</td>\n",
              "      <td>0.303571</td>\n",
              "      <td>0.539818</td>\n",
              "      <td>0.435214</td>\n",
              "      <td>0.347553</td>\n",
              "      <td>0.154563</td>\n",
              "      <td>0.192971</td>\n",
              "      <td>0.639175</td>\n",
              "      <td>0.233590</td>\n",
              "    </tr>\n",
              "    <tr>\n",
              "      <th>2</th>\n",
              "      <td>1</td>\n",
              "      <td>1.0</td>\n",
              "      <td>0.601496</td>\n",
              "      <td>0.390260</td>\n",
              "      <td>0.595743</td>\n",
              "      <td>0.449417</td>\n",
              "      <td>0.514309</td>\n",
              "      <td>0.431017</td>\n",
              "      <td>0.462512</td>\n",
              "      <td>0.635686</td>\n",
              "      <td>...</td>\n",
              "      <td>0.127006</td>\n",
              "      <td>0.556386</td>\n",
              "      <td>0.360075</td>\n",
              "      <td>0.508442</td>\n",
              "      <td>0.374508</td>\n",
              "      <td>0.483590</td>\n",
              "      <td>0.385375</td>\n",
              "      <td>0.359744</td>\n",
              "      <td>0.835052</td>\n",
              "      <td>0.403706</td>\n",
              "    </tr>\n",
              "    <tr>\n",
              "      <th>3</th>\n",
              "      <td>1</td>\n",
              "      <td>1.0</td>\n",
              "      <td>0.210090</td>\n",
              "      <td>0.360839</td>\n",
              "      <td>0.233501</td>\n",
              "      <td>0.102906</td>\n",
              "      <td>0.811321</td>\n",
              "      <td>0.811361</td>\n",
              "      <td>0.565604</td>\n",
              "      <td>0.522863</td>\n",
              "      <td>...</td>\n",
              "      <td>0.287205</td>\n",
              "      <td>0.248310</td>\n",
              "      <td>0.385928</td>\n",
              "      <td>0.241347</td>\n",
              "      <td>0.094008</td>\n",
              "      <td>0.915472</td>\n",
              "      <td>0.814012</td>\n",
              "      <td>0.548642</td>\n",
              "      <td>0.884880</td>\n",
              "      <td>1.000000</td>\n",
              "    </tr>\n",
              "    <tr>\n",
              "      <th>4</th>\n",
              "      <td>1</td>\n",
              "      <td>1.0</td>\n",
              "      <td>0.629893</td>\n",
              "      <td>0.156578</td>\n",
              "      <td>0.630986</td>\n",
              "      <td>0.489290</td>\n",
              "      <td>0.430351</td>\n",
              "      <td>0.347893</td>\n",
              "      <td>0.463918</td>\n",
              "      <td>0.518390</td>\n",
              "      <td>...</td>\n",
              "      <td>0.145800</td>\n",
              "      <td>0.519744</td>\n",
              "      <td>0.123934</td>\n",
              "      <td>0.506948</td>\n",
              "      <td>0.341575</td>\n",
              "      <td>0.437364</td>\n",
              "      <td>0.172415</td>\n",
              "      <td>0.319489</td>\n",
              "      <td>0.558419</td>\n",
              "      <td>0.157500</td>\n",
              "    </tr>\n",
              "    <tr>\n",
              "      <th>...</th>\n",
              "      <td>...</td>\n",
              "      <td>...</td>\n",
              "      <td>...</td>\n",
              "      <td>...</td>\n",
              "      <td>...</td>\n",
              "      <td>...</td>\n",
              "      <td>...</td>\n",
              "      <td>...</td>\n",
              "      <td>...</td>\n",
              "      <td>...</td>\n",
              "      <td>...</td>\n",
              "      <td>...</td>\n",
              "      <td>...</td>\n",
              "      <td>...</td>\n",
              "      <td>...</td>\n",
              "      <td>...</td>\n",
              "      <td>...</td>\n",
              "      <td>...</td>\n",
              "      <td>...</td>\n",
              "      <td>...</td>\n",
              "      <td>...</td>\n",
              "    </tr>\n",
              "    <tr>\n",
              "      <th>564</th>\n",
              "      <td>1</td>\n",
              "      <td>1.0</td>\n",
              "      <td>0.690000</td>\n",
              "      <td>0.428813</td>\n",
              "      <td>0.678668</td>\n",
              "      <td>0.566490</td>\n",
              "      <td>0.526948</td>\n",
              "      <td>0.296055</td>\n",
              "      <td>0.571462</td>\n",
              "      <td>0.690358</td>\n",
              "      <td>...</td>\n",
              "      <td>0.115536</td>\n",
              "      <td>0.623266</td>\n",
              "      <td>0.383262</td>\n",
              "      <td>0.576174</td>\n",
              "      <td>0.452664</td>\n",
              "      <td>0.461137</td>\n",
              "      <td>0.178527</td>\n",
              "      <td>0.328035</td>\n",
              "      <td>0.761512</td>\n",
              "      <td>0.097575</td>\n",
              "    </tr>\n",
              "    <tr>\n",
              "      <th>565</th>\n",
              "      <td>1</td>\n",
              "      <td>1.0</td>\n",
              "      <td>0.622320</td>\n",
              "      <td>0.626987</td>\n",
              "      <td>0.604036</td>\n",
              "      <td>0.474019</td>\n",
              "      <td>0.407782</td>\n",
              "      <td>0.257714</td>\n",
              "      <td>0.337395</td>\n",
              "      <td>0.486630</td>\n",
              "      <td>...</td>\n",
              "      <td>0.055387</td>\n",
              "      <td>0.560655</td>\n",
              "      <td>0.699094</td>\n",
              "      <td>0.520892</td>\n",
              "      <td>0.379915</td>\n",
              "      <td>0.300007</td>\n",
              "      <td>0.159997</td>\n",
              "      <td>0.256789</td>\n",
              "      <td>0.559450</td>\n",
              "      <td>0.198502</td>\n",
              "    </tr>\n",
              "    <tr>\n",
              "      <th>566</th>\n",
              "      <td>1</td>\n",
              "      <td>1.0</td>\n",
              "      <td>0.455251</td>\n",
              "      <td>0.621238</td>\n",
              "      <td>0.445788</td>\n",
              "      <td>0.303118</td>\n",
              "      <td>0.288165</td>\n",
              "      <td>0.254340</td>\n",
              "      <td>0.216753</td>\n",
              "      <td>0.263519</td>\n",
              "      <td>...</td>\n",
              "      <td>0.103547</td>\n",
              "      <td>0.393099</td>\n",
              "      <td>0.589019</td>\n",
              "      <td>0.379949</td>\n",
              "      <td>0.230731</td>\n",
              "      <td>0.282177</td>\n",
              "      <td>0.273705</td>\n",
              "      <td>0.271805</td>\n",
              "      <td>0.487285</td>\n",
              "      <td>0.128721</td>\n",
              "    </tr>\n",
              "    <tr>\n",
              "      <th>567</th>\n",
              "      <td>1</td>\n",
              "      <td>1.0</td>\n",
              "      <td>0.644564</td>\n",
              "      <td>0.663510</td>\n",
              "      <td>0.665538</td>\n",
              "      <td>0.475716</td>\n",
              "      <td>0.588336</td>\n",
              "      <td>0.790197</td>\n",
              "      <td>0.823336</td>\n",
              "      <td>0.755467</td>\n",
              "      <td>...</td>\n",
              "      <td>0.182766</td>\n",
              "      <td>0.633582</td>\n",
              "      <td>0.730277</td>\n",
              "      <td>0.668310</td>\n",
              "      <td>0.402035</td>\n",
              "      <td>0.619626</td>\n",
              "      <td>0.815758</td>\n",
              "      <td>0.749760</td>\n",
              "      <td>0.910653</td>\n",
              "      <td>0.497142</td>\n",
              "    </tr>\n",
              "    <tr>\n",
              "      <th>568</th>\n",
              "      <td>0</td>\n",
              "      <td>0.0</td>\n",
              "      <td>0.036869</td>\n",
              "      <td>0.501522</td>\n",
              "      <td>0.028540</td>\n",
              "      <td>0.015907</td>\n",
              "      <td>0.000000</td>\n",
              "      <td>0.074351</td>\n",
              "      <td>0.000000</td>\n",
              "      <td>0.000000</td>\n",
              "      <td>...</td>\n",
              "      <td>0.065234</td>\n",
              "      <td>0.054287</td>\n",
              "      <td>0.489072</td>\n",
              "      <td>0.043578</td>\n",
              "      <td>0.020497</td>\n",
              "      <td>0.124084</td>\n",
              "      <td>0.036043</td>\n",
              "      <td>0.000000</td>\n",
              "      <td>0.000000</td>\n",
              "      <td>0.257441</td>\n",
              "    </tr>\n",
              "  </tbody>\n",
              "</table>\n",
              "<p>569 rows × 31 columns</p>\n",
              "</div>\n",
              "      <button class=\"colab-df-convert\" onclick=\"convertToInteractive('df-07cd9813-225b-4824-a13a-4b67f06fb625')\"\n",
              "              title=\"Convert this dataframe to an interactive table.\"\n",
              "              style=\"display:none;\">\n",
              "        \n",
              "  <svg xmlns=\"http://www.w3.org/2000/svg\" height=\"24px\"viewBox=\"0 0 24 24\"\n",
              "       width=\"24px\">\n",
              "    <path d=\"M0 0h24v24H0V0z\" fill=\"none\"/>\n",
              "    <path d=\"M18.56 5.44l.94 2.06.94-2.06 2.06-.94-2.06-.94-.94-2.06-.94 2.06-2.06.94zm-11 1L8.5 8.5l.94-2.06 2.06-.94-2.06-.94L8.5 2.5l-.94 2.06-2.06.94zm10 10l.94 2.06.94-2.06 2.06-.94-2.06-.94-.94-2.06-.94 2.06-2.06.94z\"/><path d=\"M17.41 7.96l-1.37-1.37c-.4-.4-.92-.59-1.43-.59-.52 0-1.04.2-1.43.59L10.3 9.45l-7.72 7.72c-.78.78-.78 2.05 0 2.83L4 21.41c.39.39.9.59 1.41.59.51 0 1.02-.2 1.41-.59l7.78-7.78 2.81-2.81c.8-.78.8-2.07 0-2.86zM5.41 20L4 18.59l7.72-7.72 1.47 1.35L5.41 20z\"/>\n",
              "  </svg>\n",
              "      </button>\n",
              "      \n",
              "  <style>\n",
              "    .colab-df-container {\n",
              "      display:flex;\n",
              "      flex-wrap:wrap;\n",
              "      gap: 12px;\n",
              "    }\n",
              "\n",
              "    .colab-df-convert {\n",
              "      background-color: #E8F0FE;\n",
              "      border: none;\n",
              "      border-radius: 50%;\n",
              "      cursor: pointer;\n",
              "      display: none;\n",
              "      fill: #1967D2;\n",
              "      height: 32px;\n",
              "      padding: 0 0 0 0;\n",
              "      width: 32px;\n",
              "    }\n",
              "\n",
              "    .colab-df-convert:hover {\n",
              "      background-color: #E2EBFA;\n",
              "      box-shadow: 0px 1px 2px rgba(60, 64, 67, 0.3), 0px 1px 3px 1px rgba(60, 64, 67, 0.15);\n",
              "      fill: #174EA6;\n",
              "    }\n",
              "\n",
              "    [theme=dark] .colab-df-convert {\n",
              "      background-color: #3B4455;\n",
              "      fill: #D2E3FC;\n",
              "    }\n",
              "\n",
              "    [theme=dark] .colab-df-convert:hover {\n",
              "      background-color: #434B5C;\n",
              "      box-shadow: 0px 1px 3px 1px rgba(0, 0, 0, 0.15);\n",
              "      filter: drop-shadow(0px 1px 2px rgba(0, 0, 0, 0.3));\n",
              "      fill: #FFFFFF;\n",
              "    }\n",
              "  </style>\n",
              "\n",
              "      <script>\n",
              "        const buttonEl =\n",
              "          document.querySelector('#df-07cd9813-225b-4824-a13a-4b67f06fb625 button.colab-df-convert');\n",
              "        buttonEl.style.display =\n",
              "          google.colab.kernel.accessAllowed ? 'block' : 'none';\n",
              "\n",
              "        async function convertToInteractive(key) {\n",
              "          const element = document.querySelector('#df-07cd9813-225b-4824-a13a-4b67f06fb625');\n",
              "          const dataTable =\n",
              "            await google.colab.kernel.invokeFunction('convertToInteractive',\n",
              "                                                     [key], {});\n",
              "          if (!dataTable) return;\n",
              "\n",
              "          const docLinkHtml = 'Like what you see? Visit the ' +\n",
              "            '<a target=\"_blank\" href=https://colab.research.google.com/notebooks/data_table.ipynb>data table notebook</a>'\n",
              "            + ' to learn more about interactive tables.';\n",
              "          element.innerHTML = '';\n",
              "          dataTable['output_type'] = 'display_data';\n",
              "          await google.colab.output.renderOutput(dataTable, element);\n",
              "          const docLink = document.createElement('div');\n",
              "          docLink.innerHTML = docLinkHtml;\n",
              "          element.appendChild(docLink);\n",
              "        }\n",
              "      </script>\n",
              "    </div>\n",
              "  </div>\n",
              "  "
            ]
          },
          "metadata": {},
          "execution_count": 149
        }
      ],
      "source": [
        "# data.iloc[:,1:]=normalize(data)\n",
        "# data"
      ]
    },
    {
      "cell_type": "code",
      "execution_count": null,
      "metadata": {
        "id": "fdT7ObsaRbo_"
      },
      "outputs": [],
      "source": [
        "# X_log=data.drop('diagnosis', axis=1)\n",
        "# y_log=data['diagnosis']"
      ]
    },
    {
      "cell_type": "code",
      "execution_count": null,
      "metadata": {
        "id": "ueeLCLKNRvH1"
      },
      "outputs": [],
      "source": [
        "# X_log=np.array(X_log)\n",
        "# y_log=np.array(y_log)"
      ]
    },
    {
      "cell_type": "code",
      "source": [
        "from sklearn.datasets import make_moons\n",
        "\n",
        "X, y = make_moons(n_samples=1000, noise=0.3)\n",
        "plt.scatter(X[:,0],X[:,1], c= y)"
      ],
      "metadata": {
        "colab": {
          "base_uri": "https://localhost:8080/",
          "height": 447
        },
        "id": "mZSQAXj1Q3Ra",
        "outputId": "a0a3288d-03ab-4adc-e985-d27d2ac27f04"
      },
      "execution_count": 2,
      "outputs": [
        {
          "output_type": "execute_result",
          "data": {
            "text/plain": [
              "<matplotlib.collections.PathCollection at 0x7f43266345b0>"
            ]
          },
          "metadata": {},
          "execution_count": 2
        },
        {
          "output_type": "display_data",
          "data": {
            "text/plain": [
              "<Figure size 640x480 with 1 Axes>"
            ],
            "image/png": "[encoded data removed]"
          },
          "metadata": {}
        }
      ]
    },
    {
      "cell_type": "code",
      "source": [
        "data=np.concatenate([X,y.reshape(-1,1)], axis=1)\n",
        "data=pd.DataFrame(data,columns = ['X1','x2','y'])"
      ],
      "metadata": {
        "id": "Q95HdElfS0cX"
      },
      "execution_count": 3,
      "outputs": []
    },
    {
      "cell_type": "code",
      "execution_count": 4,
      "metadata": {
        "id": "LZ0N0ptd2T0p"
      },
      "outputs": [],
      "source": [
        "def train_test_split(X,y):\n",
        "  '''\n",
        "  this function takes as input the sample X and the corresponding features y\n",
        "  and output the training and test set\n",
        "  '''\n",
        "  np.random.seed(0) # To demonstrate that if we use the same seed value twice, we will get the same random number twice\n",
        "  \n",
        "  train_size = 0.8\n",
        "  n = int(len(X)*train_size)\n",
        "  indices = np.arange(len(X))\n",
        "  np.random.shuffle(indices)\n",
        "  train_idx = indices[: n]\n",
        "  test_idx = indices[n:]\n",
        "  X_train, y_train = X[train_idx], y[train_idx]\n",
        "  X_test, y_test = X[test_idx], y[test_idx]\n",
        "\n",
        "  return X_train, y_train, X_test, y_test"
      ]
    },
    {
      "cell_type": "code",
      "execution_count": 5,
      "metadata": {
        "colab": {
          "base_uri": "https://localhost:8080/"
        },
        "id": "wI0RSndMWaQd",
        "outputId": "928e8dd9-265f-4e44-ad84-9386367bc9c6"
      },
      "outputs": [
        {
          "output_type": "stream",
          "name": "stdout",
          "text": [
            "(800, 2) (800,) (200, 2) (200,)\n"
          ]
        }
      ],
      "source": [
        "X_train, y_train, X_test, y_test=train_test_split(X,y)\n",
        "print(X_train.shape, y_train.shape, X_test.shape, y_test.shape)"
      ]
    },
    {
      "cell_type": "markdown",
      "metadata": {
        "id": "9RQpLtC5xtjh"
      },
      "source": [
        "## Logistic Regression"
      ]
    },
    {
      "cell_type": "markdown",
      "metadata": {
        "id": "vB2c9tsr0BwC"
      },
      "source": [
        "## Recaps\n",
        "\n",
        "1. Logistic/sigmoid function:\n",
        "\\begin{equation}\n",
        "σ(z)= \\dfrac{1}{1+ e^{-z}}\n",
        "\\end{equation}\n",
        "where  $z= x w$.\n",
        "2. Derivative of Logistic/sigmoid function with respective to $z$:\n",
        "\\begin{equation}\n",
        "σ'(z)= σ(z)(1-σ(z))\n",
        "\\end{equation}\n",
        "3. Negative log likelihood or Cross-entropy loss:\n",
        "\\begin{equation}\n",
        "l(w)= -\\dfrac{1}{N}\\sum_{i= 1}^{N} \\left(y^{(i)}_{true} \\times \\log y^{(i)}_{pred} + (1-y^{(i)}_{true}) \\times \\log (1-y^{(i)}_{pred}) \\right)\n",
        "\\end{equation}\n",
        "\n",
        "where:\n",
        "\n",
        " $y_{pred}= σ(z)$, $z= xw$.\n",
        "\n",
        "4. Derivative of Cross-entropy loss with respective to $w$:\n",
        "\\begin{equation}\n",
        "dl(w)= -\\dfrac{1}{N}x^T(y_{true} -y_{ped} )\n",
        "\\end{equation}\n",
        "5. Apply Batch gradient descent to update $w$.\n",
        "\n"
      ]
    },
    {
      "cell_type": "code",
      "execution_count": 27,
      "metadata": {
        "id": "J-lXa8ukxtji"
      },
      "outputs": [],
      "source": [
        "class LogisticRegression:\n",
        "  '''\n",
        "  The goal of this class is to create a LogisticRegression class, \n",
        "  that we will use as our model to classify data point into a corresponding class\n",
        "  '''\n",
        "  def __init__(self,lr,n_epochs):\n",
        "    self.lr = lr\n",
        "    self.n_epochs = n_epochs\n",
        "    self.train_losses = []\n",
        "    self.w = None\n",
        "    self.weight = []\n",
        "\n",
        "  def add_ones(self, x):\n",
        "    ##### WRITE YOUR CODE HERE #####\n",
        "    one = np.ones((x.shape[0],1))\n",
        "    return np.hstack((one,x))\n",
        "    #### END CODE ####\n",
        "\n",
        "  def sigmoid(self, x):\n",
        "    return 1/(1+np.exp(-x@self.w))\n",
        "\n",
        "\n",
        "  def cross_entropy(self, x, y_true):\n",
        "    ##### WRITE YOUR CODE HERE #####\n",
        "    y_pred = self.sigmoid(x)\n",
        "    loss = -np.mean(y_true*np.log(y_pred)+(1-y_true)*np.log(1-y_pred))\n",
        "    return loss\n",
        "    #### END CODE ####\n",
        "  \n",
        "  def predict_proba(self,x):  #This function will use the sigmoid function to compute the probalities\n",
        "    ##### WRITE YOUR CODE HERE #####\n",
        "    x= self.add_ones(x)\n",
        "    proba = self.sigmoid(x)\n",
        "    return proba\n",
        "    #### END CODE ####\n",
        "\n",
        "  def predict(self,x):\n",
        "    ##### WRITE YOUR CODE HERE #####\n",
        "    probas = self.predict_proba(x)\n",
        "    output = [0 if p<0.5 else 1 for p in probas]#np.where(probas>=0.5, 1, 0)      #convert the probalities into 0 and 1 by using a treshold=0.5\n",
        "    return output\n",
        "    #### END CODE ####\n",
        "\n",
        "  def fit(self,x,y):\n",
        "    # Add ones to x\n",
        "    x=self.add_ones(x)\n",
        "\n",
        "    # reshape y if needed\n",
        "    y=y.reshape(-1,1)\n",
        "\n",
        "    # Initialize w to zeros vector >>> (x.shape[1])\n",
        "    self.w=np.zeros((x.shape[1],1))\n",
        "\n",
        "    for epoch in range(self.n_epochs):\n",
        "      # make predictions\n",
        "      ypred = self.sigmoid(x)\n",
        "\n",
        "      #compute the gradient\n",
        "      dl = (-1/x.shape[0])*(x.T@(y-ypred))\n",
        "\n",
        "      #update rule\n",
        "      self.w=self.w-self.lr*dl\n",
        "\n",
        "      #Compute and append the training loss in a list\n",
        "      loss = self.cross_entropy(x,y)\n",
        "      self.train_losses.append(loss)\n",
        "\n",
        "      if epoch%100 == 0:\n",
        "        print(f'loss for epoch {epoch}  : {loss}')\n",
        "      self.train_losses.append(loss)\n",
        "      loss_avg=np.mean(self.train_losses)\n",
        "    print(f'loss average {loss_avg:.2f}')\n",
        " \n",
        "  def accuracy(self,y_true, y_pred):\n",
        "    ##### WRITE YOUR CODE HERE #####\n",
        "    acc = np.mean(y_true==y_pred)*100\n",
        "    return acc\n",
        "    #### END CODE ####"
      ]
    },
    {
      "cell_type": "code",
      "execution_count": 28,
      "metadata": {
        "colab": {
          "base_uri": "https://localhost:8080/"
        },
        "id": "MdUK-T4WXqkC",
        "outputId": "f639ab4c-65c6-4f7a-d606-63c14bfee2fe"
      },
      "outputs": [
        {
          "output_type": "stream",
          "name": "stdout",
          "text": [
            "loss for epoch 0  : 0.6828202880310121\n",
            "loss for epoch 100  : 0.40137968569778726\n",
            "loss for epoch 200  : 0.36198590987266926\n",
            "loss for epoch 300  : 0.346603321323739\n",
            "loss for epoch 400  : 0.33846615003322467\n",
            "loss for epoch 500  : 0.3335691207226168\n",
            "loss for epoch 600  : 0.33041919052823177\n",
            "loss for epoch 700  : 0.32831006742611946\n",
            "loss for epoch 800  : 0.32685874743884513\n",
            "loss for epoch 900  : 0.3258396944231303\n",
            "loss average 0.35\n"
          ]
        }
      ],
      "source": [
        "model = LogisticRegression(lr=10e-2,n_epochs=1000)\n",
        "model.fit(X_train,y_train)"
      ]
    },
    {
      "cell_type": "code",
      "execution_count": 8,
      "metadata": {
        "colab": {
          "base_uri": "https://localhost:8080/"
        },
        "id": "N40GcdOyXqXB",
        "outputId": "d4e849b0-1125-45b9-dc92-1beb007be823"
      },
      "outputs": [
        {
          "output_type": "stream",
          "name": "stdout",
          "text": [
            "The training accuracy is: 85.875\n",
            " \n",
            "The test accuracy is: 79.5\n"
          ]
        }
      ],
      "source": [
        "ypred_train = model.predict(X_train)\n",
        "acc = model.accuracy(y_train,ypred_train)\n",
        "print(f\"The training accuracy is: {acc}\")\n",
        "print(\" \")\n",
        "\n",
        "ypred_test = model.predict(X_test)\n",
        "acc_test = model.accuracy(y_test,ypred_test)\n",
        "print(f\"The test accuracy is: {acc_test}\")"
      ]
    },
    {
      "cell_type": "markdown",
      "metadata": {
        "id": "An4NHM61bJRA"
      },
      "source": [
        "##Cross validation"
      ]
    },
    {
      "cell_type": "code",
      "source": [
        "class Model_CrossValidation(LogisticRegression):\n",
        "  def __init__(self, lr, n_epochs):\n",
        "    super().__init__(lr, n_epochs)\n",
        "\n",
        "  # Define a function for k-fold cross-validation\n",
        "\n",
        "  def k_fold(self,X, y, k, model):\n",
        "    #model=LogisticRegression(self.k, self.lr, self.n_epochs)\n",
        "    # Compute the size of each fold\n",
        "    fold_size = len(X) // k\n",
        "       # Add ones to x\n",
        "    # X=self.add_ones(X)\n",
        "\n",
        "    # reshape y if needed\n",
        "    # y=y.reshape(-1,1)\n",
        "\n",
        "    # Initialize w to zeros vector >>> (x.shape[1])\n",
        "    self.w=np.zeros((X.shape[1],1))\n",
        "    \n",
        "    # Initialize an empty list to hold the scores for each fold\n",
        "    losses = []\n",
        "    \n",
        "    # Iterate over each fold\n",
        "    #self.n_epochs=n_epochs\n",
        "    for i in range(k):\n",
        "        # Compute the indices of the validation data for this fold\n",
        "        start = i * fold_size\n",
        "        end = (i + 1) * fold_size\n",
        "                # Extract the validation data\n",
        "        X_val = X[start:end]\n",
        "        y_val = y[start:end]\n",
        "        \n",
        "        # Extract the training data\n",
        "        X_train_ = np.concatenate([X[:start], X[end:]])\n",
        "        y_train_ = np.concatenate([y[:start], y[end:]])\n",
        "        \n",
        "        # Fit the model to the training data\n",
        "        model.fit(X_train_, y_train_)\n",
        "        \n",
        "        # Predict the labels of the validation data\n",
        "        y_pred = model.predict(X_val)\n",
        "        \n",
        "        # Compute the loss of the model on the validation data\n",
        "        loss = np.mean((y_pred - y_val)**2)\n",
        "        print(f\"loss on validation data for k={i} loss = {loss}\")\n",
        "        print(\" \")\n",
        "         \n",
        "        # Append the loss to the list of losses\n",
        "        losses.append(loss)\n",
        "    \n",
        "        # Compute the average loss across all folds\n",
        "        avg_loss = sum(losses) / len(losses) \n",
        "    # return avg_loss\n",
        "\n",
        "  def leave_one_out(self, X, y, model):\n",
        "    # Compute the number of samples in the dataset\n",
        "    n = X.shape[0]\n",
        "\n",
        "    # Initialize an empty list to hold the scores for each fold\n",
        "    losses = []\n",
        "\n",
        "    self.w=np.zeros((X.shape[1],1))\n",
        "    \n",
        "    # Iterate over each sample in the dataset\n",
        "    for epoch in range(self.n_epochs):\n",
        "      for i in range(n):\n",
        "          # Extract the validation data\n",
        "          X_val = X[i].reshape(1, -1)\n",
        "          y_val = y[i].reshape(1, -1)\n",
        "\n",
        "          # Extract the training data\n",
        "          X_train = np.delete(X, i, axis=0)\n",
        "          y_train = np.delete(y, i, axis=0)\n",
        "\n",
        "          # Fit the model to the training data\n",
        "          model.fit(X_train, y_train)\n",
        "\n",
        "          # Predict the label of the validation data\n",
        "          y_pred = model.predict(X_val)\n",
        "\n",
        "          # Compute the loss of the model on the validation data\n",
        "          loss = np.mean((y_pred - y_val)**2)\n",
        "          print(f\"loss on validation data for n={i} loss = {loss}\")\n",
        "          print(\" \")\n",
        "          \n",
        "          # Append the loss to the list of losses\n",
        "          losses.append(loss)\n",
        "      \n",
        "          # Compute the average loss across all folds\n",
        "          avg_loss = sum(losses) / len(losses) \n",
        "      # return avg_loss\n",
        "\n",
        "      # Compute the average loss across all samples\n",
        "      if epoch%10 == 0:\n",
        "        print(f'loss for k= {i}  : {loss:.2f}')"
      ],
      "metadata": {
        "id": "YsjsafZHqGu3"
      },
      "execution_count": 31,
      "outputs": []
    },
    {
      "cell_type": "code",
      "source": [
        "model_cv= Model_CrossValidation(lr=0.01,n_epochs=1000)\n",
        "model_cv.k_fold(X_train,y_train,k=4,model=model_cv)"
      ],
      "metadata": {
        "id": "Et3Gjme5IuNR",
        "colab": {
          "base_uri": "https://localhost:8080/"
        },
        "outputId": "14655b13-4576-4aec-801a-d82471b5a64e"
      },
      "execution_count": 30,
      "outputs": [
        {
          "output_type": "stream",
          "name": "stdout",
          "text": [
            "loss for epoch 0  : 0.6920660356502881\n",
            "loss for epoch 100  : 0.6052960884209718\n",
            "loss for epoch 200  : 0.5479343690366376\n",
            "loss for epoch 300  : 0.5078042781893152\n",
            "loss for epoch 400  : 0.47839353296497233\n",
            "loss for epoch 500  : 0.4560336021604227\n",
            "loss for epoch 600  : 0.4385285122469198\n",
            "loss for epoch 700  : 0.42449194859547923\n",
            "loss for epoch 800  : 0.4130095340323315\n",
            "loss for epoch 900  : 0.4034560565349556\n",
            "loss average 0.48\n",
            "loss on validation data for k=0 loss = 0.16\n",
            " \n",
            "loss for epoch 0  : 0.6921260979965616\n",
            "loss for epoch 100  : 0.609225955327959\n",
            "loss for epoch 200  : 0.553700580374956\n",
            "loss for epoch 300  : 0.5148253616277981\n",
            "loss for epoch 400  : 0.4864736014080139\n",
            "loss for epoch 500  : 0.46506489815997726\n",
            "loss for epoch 600  : 0.44842143411059376\n",
            "loss for epoch 700  : 0.4351627982511072\n",
            "loss for epoch 800  : 0.4243804626184854\n",
            "loss for epoch 900  : 0.4154563252629631\n",
            "loss average 0.49\n",
            "loss on validation data for k=1 loss = 0.18\n",
            " \n",
            "loss for epoch 0  : 0.6920148456884055\n",
            "loss for epoch 100  : 0.6016843096324247\n",
            "loss for epoch 200  : 0.5428989259423438\n",
            "loss for epoch 300  : 0.5024369616807811\n",
            "loss for epoch 400  : 0.47320694738133917\n",
            "loss for epoch 500  : 0.45124851815238176\n",
            "loss for epoch 600  : 0.43422371030681783\n",
            "loss for epoch 700  : 0.42067881004062474\n",
            "loss for epoch 800  : 0.4096687613846857\n",
            "loss for epoch 900  : 0.40055570000672236\n",
            "loss average 0.48\n",
            "loss on validation data for k=2 loss = 0.22\n",
            " \n",
            "loss for epoch 0  : 0.6922002788370317\n",
            "loss for epoch 100  : 0.6143352569359525\n",
            "loss for epoch 200  : 0.5608311702798966\n",
            "loss for epoch 300  : 0.5225500874878037\n",
            "loss for epoch 400  : 0.4941347119984002\n",
            "loss for epoch 500  : 0.47236900809216026\n",
            "loss for epoch 600  : 0.45524842147742445\n",
            "loss for epoch 700  : 0.44147532831905995\n",
            "loss for epoch 800  : 0.4301804122736156\n",
            "loss for epoch 900  : 0.42076343849433395\n",
            "loss average 0.49\n",
            "loss on validation data for k=3 loss = 0.16\n",
            " \n"
          ]
        }
      ]
    },
    {
      "cell_type": "code",
      "source": [
        "ypred_train = model_cv.predict(X_train)\n",
        "acc = model_cv.accuracy(y_train,ypred_train)\n",
        "print(f\"The training accuracy is: {acc}\")\n",
        "print(\" \")\n",
        "\n",
        "ypred_test = model_cv.predict(X_test)\n",
        "acc_test = model_cv.accuracy(y_test,ypred_test)\n",
        "print(f\"The test accuracy is: {acc_test}\")"
      ],
      "metadata": {
        "colab": {
          "base_uri": "https://localhost:8080/"
        },
        "id": "5jYhQSe9LJuR",
        "outputId": "90b0ec83-9130-4a97-c47a-de730f76145d"
      },
      "execution_count": 12,
      "outputs": [
        {
          "output_type": "stream",
          "name": "stdout",
          "text": [
            "The training accuracy is: 82.5\n",
            " \n",
            "The test accuracy is: 79.0\n"
          ]
        }
      ]
    },
    {
      "cell_type": "markdown",
      "metadata": {
        "id": "h5-u85RJbQub"
      },
      "source": [
        "##Leave One Out Cross-Validation"
      ]
    },
    {
      "cell_type": "code",
      "source": [
        "model_cv= Model_CrossValidation(lr=0.01,n_epochs=1000)\n",
        "model_cv.leave_one_out(X_train,y_train,model=model_cv)"
      ],
      "metadata": {
        "id": "jM1R0JnfdCAA",
        "colab": {
          "base_uri": "https://localhost:8080/",
          "height": 1000
        },
        "outputId": "6f790f1c-14da-4df3-c76c-971e76b53253"
      },
      "execution_count": 32,
      "outputs": [
        {
          "output_type": "stream",
          "name": "stdout",
          "text": [
            "loss for epoch 0  : 0.6920986156001869\n",
            "loss for epoch 100  : 0.6073397826293108\n",
            "loss for epoch 200  : 0.5508384567182125\n",
            "loss for epoch 300  : 0.5112687948343196\n",
            "loss for epoch 400  : 0.4823325603469645\n",
            "loss for epoch 500  : 0.4604042990419028\n",
            "loss for epoch 600  : 0.4432933628730801\n",
            "loss for epoch 700  : 0.4296134879446158\n",
            "loss for epoch 800  : 0.41845138995424586\n",
            "loss for epoch 900  : 0.4091843323157776\n",
            "loss average 0.49\n",
            "loss on validation data for n=0 loss = 1.0\n",
            " \n",
            "loss for epoch 0  : 0.6921022446867725\n",
            "loss for epoch 100  : 0.6075928926183561\n",
            "loss for epoch 200  : 0.5512109946263306\n",
            "loss for epoch 300  : 0.5117078345801591\n",
            "loss for epoch 400  : 0.48281549911310784\n",
            "loss for epoch 500  : 0.46092042558604895\n",
            "loss for epoch 600  : 0.44383691426978195\n",
            "loss for epoch 700  : 0.4301809454597188\n",
            "loss for epoch 800  : 0.4190403574671417\n",
            "loss for epoch 900  : 0.40979303439514125\n",
            "loss average 0.49\n",
            "loss on validation data for n=1 loss = 0.0\n",
            " \n",
            "loss for epoch 0  : 0.6921015020861436\n",
            "loss for epoch 100  : 0.6075845188059349\n",
            "loss for epoch 200  : 0.5512527719902587\n",
            "loss for epoch 300  : 0.5118058464044903\n",
            "loss for epoch 400  : 0.48296205245239165\n",
            "loss for epoch 500  : 0.4611060234328576\n",
            "loss for epoch 600  : 0.4440533228851116\n",
            "loss for epoch 700  : 0.43042163131933087\n",
            "loss for epoch 800  : 0.41930025883306493\n",
            "loss for epoch 900  : 0.41006823471876014\n",
            "loss average 0.49\n",
            "loss on validation data for n=2 loss = 0.0\n",
            " \n",
            "loss for epoch 0  : 0.6921039128826089\n",
            "loss for epoch 100  : 0.6077614971966065\n",
            "loss for epoch 200  : 0.5515173216491303\n",
            "loss for epoch 300  : 0.5121134481263764\n",
            "loss for epoch 400  : 0.4832896065091866\n",
            "loss for epoch 500  : 0.4614412467351346\n",
            "loss for epoch 600  : 0.4443895753535758\n",
            "loss for epoch 700  : 0.43075532202955835\n",
            "loss for epoch 800  : 0.41962949408159733\n",
            "loss for epoch 900  : 0.41039208652342946\n",
            "loss average 0.49\n",
            "loss on validation data for n=3 loss = 0.0\n",
            " \n",
            "loss for epoch 0  : 0.6921027419716432\n",
            "loss for epoch 100  : 0.6076278129149927\n",
            "loss for epoch 200  : 0.5512623722073325\n",
            "loss for epoch 300  : 0.5117676520905231\n",
            "loss for epoch 400  : 0.48287980937456715\n",
            "loss for epoch 500  : 0.4609870509949451\n",
            "loss for epoch 600  : 0.44390453088841814\n",
            "loss for epoch 700  : 0.4302486882535802\n",
            "loss for epoch 800  : 0.4191076329132341\n",
            "loss for epoch 900  : 0.4098594226289159\n",
            "loss average 0.49\n",
            "loss on validation data for n=4 loss = 0.0\n",
            " \n",
            "loss for epoch 0  : 0.6920995298795237\n",
            "loss for epoch 100  : 0.6074080534086416\n",
            "loss for epoch 200  : 0.5509412140076676\n",
            "loss for epoch 300  : 0.5113882337643064\n",
            "loss for epoch 400  : 0.48245881490245696\n",
            "loss for epoch 500  : 0.46053161401131065\n",
            "loss for epoch 600  : 0.4434182061631557\n",
            "loss for epoch 700  : 0.42973360043114206\n",
            "loss for epoch 800  : 0.41856528328086545\n",
            "loss for epoch 900  : 0.4092910087271975\n",
            "loss average 0.49\n",
            "loss on validation data for n=5 loss = 1.0\n",
            " \n",
            "loss for epoch 0  : 0.6921042330285047\n",
            "loss for epoch 100  : 0.6077949324807169\n",
            "loss for epoch 200  : 0.5515794101823233\n",
            "loss for epoch 300  : 0.5121968712862017\n",
            "loss for epoch 400  : 0.48338803103431166\n",
            "loss for epoch 500  : 0.46154996571454204\n",
            "loss for epoch 600  : 0.44450526414331276\n",
            "loss for epoch 700  : 0.43087566841308245\n",
            "loss for epoch 800  : 0.41975289135057586\n",
            "loss for epoch 900  : 0.41051741208158626\n",
            "loss average 0.49\n",
            "loss on validation data for n=6 loss = 0.0\n",
            " \n",
            "loss for epoch 0  : 0.6921071001339301\n",
            "loss for epoch 100  : 0.6079131886651314\n",
            "loss for epoch 200  : 0.5516588915414063\n",
            "loss for epoch 300  : 0.5122100616761053\n",
            "loss for epoch 400  : 0.48334163704762734\n",
            "loss for epoch 500  : 0.4614566343281175\n",
            "loss for epoch 600  : 0.4443762833246066\n",
            "loss for epoch 700  : 0.43071972649720214\n",
            "loss for epoch 800  : 0.41957637483500426\n",
            "loss for epoch 900  : 0.4103249592324226\n",
            "loss average 0.49\n",
            "loss on validation data for n=7 loss = 0.0\n",
            " \n",
            "loss for epoch 0  : 0.6921065458589106\n",
            "loss for epoch 100  : 0.6079253134181283\n",
            "loss for epoch 200  : 0.5517257864098883\n",
            "loss for epoch 300  : 0.5123215055888498\n",
            "loss for epoch 400  : 0.48348156571381323\n",
            "loss for epoch 500  : 0.4616130522706052\n",
            "loss for epoch 600  : 0.44454162642220246\n",
            "loss for epoch 700  : 0.4308895620183229\n",
            "loss for epoch 800  : 0.41974823589607374\n",
            "loss for epoch 900  : 0.41049755553547257\n",
            "loss average 0.49\n",
            "loss on validation data for n=8 loss = 0.0\n",
            " \n",
            "loss for epoch 0  : 0.6921034418719253\n",
            "loss for epoch 100  : 0.6077088312228581\n",
            "loss for epoch 200  : 0.551425656843879\n",
            "loss for epoch 300  : 0.512004076711714\n",
            "loss for epoch 400  : 0.48317894058331173\n",
            "loss for epoch 500  : 0.46133968411611886\n",
            "loss for epoch 600  : 0.44430301238395464\n",
            "loss for epoch 700  : 0.43068670498511613\n",
            "loss for epoch 800  : 0.4195799369709314\n",
            "loss for epoch 900  : 0.4103615999654063\n",
            "loss average 0.49\n",
            "loss on validation data for n=9 loss = 0.0\n",
            " \n",
            "loss for epoch 0  : 0.6921059532659753\n",
            "loss for epoch 100  : 0.6079103001191085\n",
            "loss for epoch 200  : 0.5517357403350299\n",
            "loss for epoch 300  : 0.5123610131472573\n",
            "loss for epoch 400  : 0.4835457610001885\n",
            "loss for epoch 500  : 0.46169585420240256\n",
            "loss for epoch 600  : 0.4446378996538669\n",
            "loss for epoch 700  : 0.4309954114593451\n",
            "loss for epoch 800  : 0.4198608163975594\n",
            "loss for epoch 900  : 0.41061481303512387\n",
            "loss average 0.49\n",
            "loss on validation data for n=10 loss = 0.0\n",
            " \n",
            "loss for epoch 0  : 0.6921081017787761\n",
            "loss for epoch 100  : 0.607986250603369\n",
            "loss for epoch 200  : 0.5517685742118832\n",
            "loss for epoch 300  : 0.5123394899789089\n",
            "loss for epoch 400  : 0.48348263708068473\n",
            "loss for epoch 500  : 0.46160508005735645\n",
            "loss for epoch 600  : 0.44453000372507206\n",
            "loss for epoch 700  : 0.4308775379551233\n",
            "loss for epoch 800  : 0.4197376130462482\n",
            "loss for epoch 900  : 0.4104892422232486\n",
            "loss average 0.49\n",
            "loss on validation data for n=11 loss = 0.0\n",
            " \n",
            "loss for epoch 0  : 0.6921040063384185\n",
            "loss for epoch 100  : 0.6077913204210953\n",
            "loss for epoch 200  : 0.5515903963724162\n",
            "loss for epoch 300  : 0.5122251755686875\n",
            "loss for epoch 400  : 0.4834315270495085\n",
            "loss for epoch 500  : 0.4616055066747364\n",
            "loss for epoch 600  : 0.44456990913736205\n",
            "loss for epoch 700  : 0.43094698904731643\n",
            "loss for epoch 800  : 0.4198289758528229\n",
            "loss for epoch 900  : 0.41059678495673\n",
            "loss average 0.49\n",
            "loss on validation data for n=12 loss = 0.0\n",
            " \n",
            "loss for epoch 0  : 0.6921066990369853\n",
            "loss for epoch 100  : 0.6079410584730248\n",
            "loss for epoch 200  : 0.5517539151934677\n",
            "loss for epoch 300  : 0.5123578027602319\n",
            "loss for epoch 400  : 0.48352287985716724\n",
            "loss for epoch 500  : 0.46165735169988614\n",
            "loss for epoch 600  : 0.4445876689627508\n",
            "loss for epoch 700  : 0.4309366031140952\n",
            "loss for epoch 800  : 0.41979583271792786\n",
            "loss for epoch 900  : 0.41054544608347754\n",
            "loss average 0.49\n",
            "loss on validation data for n=13 loss = 0.0\n",
            " \n",
            "loss for epoch 0  : 0.6921050260040756\n",
            "loss for epoch 100  : 0.6078312377263665\n",
            "loss for epoch 200  : 0.5516064291749562\n",
            "loss for epoch 300  : 0.5122023513901771\n",
            "loss for epoch 400  : 0.48337116547998565\n",
            "loss for epoch 500  : 0.46151339459640667\n",
            "loss for epoch 600  : 0.4444522780065133\n",
            "loss for epoch 700  : 0.4308093089281154\n",
            "loss for epoch 800  : 0.41967572410900145\n",
            "loss for epoch 900  : 0.4104315266096941\n",
            "loss average 0.49\n",
            "loss on validation data for n=14 loss = 0.0\n",
            " \n",
            "loss for epoch 0  : 0.6921087908030782\n",
            "loss for epoch 100  : 0.6080225148287456\n",
            "loss for epoch 200  : 0.5518080100267521\n",
            "loss for epoch 300  : 0.5123736220222884\n",
            "loss for epoch 400  : 0.4835102342966443\n",
            "loss for epoch 500  : 0.46162680549204\n",
            "loss for epoch 600  : 0.4445468546912539\n",
            "loss for epoch 700  : 0.4308904301465042\n",
            "loss for epoch 800  : 0.41974729796155597\n",
            "loss for epoch 900  : 0.41049631581537427\n",
            "loss average 0.49\n",
            "loss on validation data for n=15 loss = 0.0\n",
            " \n",
            "loss for epoch 0  : 0.6921051210932723\n",
            "loss for epoch 100  : 0.6078335859891122\n",
            "loss for epoch 200  : 0.5516043739290685\n",
            "loss for epoch 300  : 0.5121947956915567\n",
            "loss for epoch 400  : 0.4833586516544545\n",
            "loss for epoch 500  : 0.46149678067143873\n",
            "loss for epoch 600  : 0.4444323534468917\n",
            "loss for epoch 700  : 0.4307867131561552\n",
            "loss for epoch 800  : 0.41965095364004085\n",
            "loss for epoch 900  : 0.41040496237603086\n",
            "loss average 0.49\n",
            "loss on validation data for n=16 loss = 0.0\n",
            " \n",
            "loss for epoch 0  : 0.6921022192032166\n",
            "loss for epoch 100  : 0.6076065229180011\n",
            "loss for epoch 200  : 0.551253649622238\n",
            "loss for epoch 300  : 0.5117826037610591\n",
            "loss for epoch 400  : 0.4829215165202087\n",
            "loss for epoch 500  : 0.4610557241961114\n",
            "loss for epoch 600  : 0.4439993347125832\n",
            "loss for epoch 700  : 0.4303684099346253\n",
            "loss for epoch 800  : 0.4192509404803464\n",
            "loss for epoch 900  : 0.4100249698894973\n",
            "loss average 0.49\n",
            "loss on validation data for n=17 loss = 0.0\n",
            " \n",
            "loss for epoch 0  : 0.692104318467066\n",
            "loss for epoch 100  : 0.6077992207211637\n",
            "loss for epoch 200  : 0.5515832752053129\n",
            "loss for epoch 300  : 0.5121988822433796\n",
            "loss for epoch 400  : 0.4833879610021631\n",
            "loss for epoch 500  : 0.4615479944029215\n"
          ]
        },
        {
          "output_type": "error",
          "ename": "KeyboardInterrupt",
          "evalue": "ignored",
          "traceback": [
            "\u001b[0;31m---------------------------------------------------------------------------\u001b[0m",
            "\u001b[0;31mKeyboardInterrupt\u001b[0m                         Traceback (most recent call last)",
            "\u001b[0;32m<ipython-input-32-3dc2d2ffe4de>\u001b[0m in \u001b[0;36m<cell line: 2>\u001b[0;34m()\u001b[0m\n\u001b[1;32m      1\u001b[0m \u001b[0mmodel_cv\u001b[0m\u001b[0;34m=\u001b[0m \u001b[0mModel_CrossValidation\u001b[0m\u001b[0;34m(\u001b[0m\u001b[0mlr\u001b[0m\u001b[0;34m=\u001b[0m\u001b[0;36m0.01\u001b[0m\u001b[0;34m,\u001b[0m\u001b[0mn_epochs\u001b[0m\u001b[0;34m=\u001b[0m\u001b[0;36m1000\u001b[0m\u001b[0;34m)\u001b[0m\u001b[0;34m\u001b[0m\u001b[0;34m\u001b[0m\u001b[0m\n\u001b[0;32m----> 2\u001b[0;31m \u001b[0mmodel_cv\u001b[0m\u001b[0;34m.\u001b[0m\u001b[0mleave_one_out\u001b[0m\u001b[0;34m(\u001b[0m\u001b[0mX_train\u001b[0m\u001b[0;34m,\u001b[0m\u001b[0my_train\u001b[0m\u001b[0;34m,\u001b[0m\u001b[0mmodel\u001b[0m\u001b[0;34m=\u001b[0m\u001b[0mmodel_cv\u001b[0m\u001b[0;34m)\u001b[0m\u001b[0;34m\u001b[0m\u001b[0;34m\u001b[0m\u001b[0m\n\u001b[0m",
            "\u001b[0;32m<ipython-input-31-c43085d8e6ce>\u001b[0m in \u001b[0;36mleave_one_out\u001b[0;34m(self, X, y, model)\u001b[0m\n\u001b[1;32m     74\u001b[0m \u001b[0;34m\u001b[0m\u001b[0m\n\u001b[1;32m     75\u001b[0m           \u001b[0;31m# Fit the model to the training data\u001b[0m\u001b[0;34m\u001b[0m\u001b[0;34m\u001b[0m\u001b[0m\n\u001b[0;32m---> 76\u001b[0;31m           \u001b[0mmodel\u001b[0m\u001b[0;34m.\u001b[0m\u001b[0mfit\u001b[0m\u001b[0;34m(\u001b[0m\u001b[0mX_train\u001b[0m\u001b[0;34m,\u001b[0m \u001b[0my_train\u001b[0m\u001b[0;34m)\u001b[0m\u001b[0;34m\u001b[0m\u001b[0;34m\u001b[0m\u001b[0m\n\u001b[0m\u001b[1;32m     77\u001b[0m \u001b[0;34m\u001b[0m\u001b[0m\n\u001b[1;32m     78\u001b[0m           \u001b[0;31m# Predict the label of the validation data\u001b[0m\u001b[0;34m\u001b[0m\u001b[0;34m\u001b[0m\u001b[0m\n",
            "\u001b[0;32m<ipython-input-27-41b510539936>\u001b[0m in \u001b[0;36mfit\u001b[0;34m(self, x, y)\u001b[0m\n\u001b[1;32m     69\u001b[0m         \u001b[0mprint\u001b[0m\u001b[0;34m(\u001b[0m\u001b[0;34mf'loss for epoch {epoch}  : {loss}'\u001b[0m\u001b[0;34m)\u001b[0m\u001b[0;34m\u001b[0m\u001b[0;34m\u001b[0m\u001b[0m\n\u001b[1;32m     70\u001b[0m       \u001b[0mself\u001b[0m\u001b[0;34m.\u001b[0m\u001b[0mtrain_losses\u001b[0m\u001b[0;34m.\u001b[0m\u001b[0mappend\u001b[0m\u001b[0;34m(\u001b[0m\u001b[0mloss\u001b[0m\u001b[0;34m)\u001b[0m\u001b[0;34m\u001b[0m\u001b[0;34m\u001b[0m\u001b[0m\n\u001b[0;32m---> 71\u001b[0;31m       \u001b[0mloss_avg\u001b[0m\u001b[0;34m=\u001b[0m\u001b[0mnp\u001b[0m\u001b[0;34m.\u001b[0m\u001b[0mmean\u001b[0m\u001b[0;34m(\u001b[0m\u001b[0mself\u001b[0m\u001b[0;34m.\u001b[0m\u001b[0mtrain_losses\u001b[0m\u001b[0;34m)\u001b[0m\u001b[0;34m\u001b[0m\u001b[0;34m\u001b[0m\u001b[0m\n\u001b[0m\u001b[1;32m     72\u001b[0m     \u001b[0mprint\u001b[0m\u001b[0;34m(\u001b[0m\u001b[0;34mf'loss average {loss_avg:.2f}'\u001b[0m\u001b[0;34m)\u001b[0m\u001b[0;34m\u001b[0m\u001b[0;34m\u001b[0m\u001b[0m\n\u001b[1;32m     73\u001b[0m \u001b[0;34m\u001b[0m\u001b[0m\n",
            "\u001b[0;32m/usr/local/lib/python3.9/dist-packages/numpy/core/overrides.py\u001b[0m in \u001b[0;36mmean\u001b[0;34m(*args, **kwargs)\u001b[0m\n",
            "\u001b[0;32m/usr/local/lib/python3.9/dist-packages/numpy/core/fromnumeric.py\u001b[0m in \u001b[0;36mmean\u001b[0;34m(a, axis, dtype, out, keepdims, where)\u001b[0m\n\u001b[1;32m   3472\u001b[0m             \u001b[0;32mreturn\u001b[0m \u001b[0mmean\u001b[0m\u001b[0;34m(\u001b[0m\u001b[0maxis\u001b[0m\u001b[0;34m=\u001b[0m\u001b[0maxis\u001b[0m\u001b[0;34m,\u001b[0m \u001b[0mdtype\u001b[0m\u001b[0;34m=\u001b[0m\u001b[0mdtype\u001b[0m\u001b[0;34m,\u001b[0m \u001b[0mout\u001b[0m\u001b[0;34m=\u001b[0m\u001b[0mout\u001b[0m\u001b[0;34m,\u001b[0m \u001b[0;34m**\u001b[0m\u001b[0mkwargs\u001b[0m\u001b[0;34m)\u001b[0m\u001b[0;34m\u001b[0m\u001b[0;34m\u001b[0m\u001b[0m\n\u001b[1;32m   3473\u001b[0m \u001b[0;34m\u001b[0m\u001b[0m\n\u001b[0;32m-> 3474\u001b[0;31m     return _methods._mean(a, axis=axis, dtype=dtype,\n\u001b[0m\u001b[1;32m   3475\u001b[0m                           out=out, **kwargs)\n\u001b[1;32m   3476\u001b[0m \u001b[0;34m\u001b[0m\u001b[0m\n",
            "\u001b[0;32m/usr/local/lib/python3.9/dist-packages/numpy/core/_methods.py\u001b[0m in \u001b[0;36m_mean\u001b[0;34m(a, axis, dtype, out, keepdims, where)\u001b[0m\n\u001b[1;32m    161\u001b[0m \u001b[0;34m\u001b[0m\u001b[0m\n\u001b[1;32m    162\u001b[0m \u001b[0;32mdef\u001b[0m \u001b[0m_mean\u001b[0m\u001b[0;34m(\u001b[0m\u001b[0ma\u001b[0m\u001b[0;34m,\u001b[0m \u001b[0maxis\u001b[0m\u001b[0;34m=\u001b[0m\u001b[0;32mNone\u001b[0m\u001b[0;34m,\u001b[0m \u001b[0mdtype\u001b[0m\u001b[0;34m=\u001b[0m\u001b[0;32mNone\u001b[0m\u001b[0;34m,\u001b[0m \u001b[0mout\u001b[0m\u001b[0;34m=\u001b[0m\u001b[0;32mNone\u001b[0m\u001b[0;34m,\u001b[0m \u001b[0mkeepdims\u001b[0m\u001b[0;34m=\u001b[0m\u001b[0;32mFalse\u001b[0m\u001b[0;34m,\u001b[0m \u001b[0;34m*\u001b[0m\u001b[0;34m,\u001b[0m \u001b[0mwhere\u001b[0m\u001b[0;34m=\u001b[0m\u001b[0;32mTrue\u001b[0m\u001b[0;34m)\u001b[0m\u001b[0;34m:\u001b[0m\u001b[0;34m\u001b[0m\u001b[0;34m\u001b[0m\u001b[0m\n\u001b[0;32m--> 163\u001b[0;31m     \u001b[0marr\u001b[0m \u001b[0;34m=\u001b[0m \u001b[0masanyarray\u001b[0m\u001b[0;34m(\u001b[0m\u001b[0ma\u001b[0m\u001b[0;34m)\u001b[0m\u001b[0;34m\u001b[0m\u001b[0;34m\u001b[0m\u001b[0m\n\u001b[0m\u001b[1;32m    164\u001b[0m \u001b[0;34m\u001b[0m\u001b[0m\n\u001b[1;32m    165\u001b[0m     \u001b[0mis_float16_result\u001b[0m \u001b[0;34m=\u001b[0m \u001b[0;32mFalse\u001b[0m\u001b[0;34m\u001b[0m\u001b[0;34m\u001b[0m\u001b[0m\n",
            "\u001b[0;31mKeyboardInterrupt\u001b[0m: "
          ]
        }
      ]
    },
    {
      "cell_type": "code",
      "source": [
        "ypred_train = model_cv.predict(X_train)\n",
        "acc = model_cv.accuracy(y_train,ypred_train)\n",
        "print(f\"The training accuracy is: {acc}\")\n",
        "print(\" \")\n",
        "\n",
        "ypred_test = model_cv.predict(X_test)\n",
        "acc_test = model_cv.accuracy(y_test,ypred_test)\n",
        "print(f\"The test accuracy is: {acc_test}\")"
      ],
      "metadata": {
        "colab": {
          "base_uri": "https://localhost:8080/"
        },
        "id": "wrReNHJ1KWVi",
        "outputId": "32aa4323-7668-4dad-a38a-db68bc3b28f9"
      },
      "execution_count": 33,
      "outputs": [
        {
          "output_type": "stream",
          "name": "stdout",
          "text": [
            "The training accuracy is: 81.375\n",
            " \n",
            "The test accuracy is: 77.5\n"
          ]
        }
      ]
    },
    {
      "cell_type": "markdown",
      "metadata": {
        "id": "AAM8nZaobWkx"
      },
      "source": [
        "##Stratified Cross validation"
      ]
    },
    {
      "cell_type": "code",
      "execution_count": 35,
      "metadata": {
        "id": "g8tKdobIbcfc"
      },
      "outputs": [],
      "source": [
        "def groupedClass(df):\n",
        "  grouped = df.groupby(df.y)\n",
        "  class1 = grouped.get_group(1)\n",
        "  class2 = grouped.get_group(0)\n",
        "\n",
        "  return class1, class2"
      ]
    },
    {
      "cell_type": "code",
      "execution_count": 36,
      "metadata": {
        "id": "fa_00jMybccn"
      },
      "outputs": [],
      "source": [
        "class1, class2 = groupedClass(data)"
      ]
    },
    {
      "cell_type": "markdown",
      "metadata": {
        "id": "ktCuOHgHokhr"
      },
      "source": [
        "Here, we are creating K-folds and merging them before train in order to converse classes in the differentes folds."
      ]
    },
    {
      "cell_type": "code",
      "execution_count": 37,
      "metadata": {
        "id": "lWY059pjbcY7"
      },
      "outputs": [],
      "source": [
        "def splitMergeSKFold(clas1, clas2, numFolds):\n",
        "  dic1 = {}\n",
        "  dic2 = {}\n",
        "  fold1 = round(len(clas1) / numFolds)\n",
        "  indices = np.arange(len(clas1))\n",
        "\n",
        "  for i in range(numFolds):\n",
        "    np.random.shuffle(indices)\n",
        "    train_idx = indices[: fold1]\n",
        "    data_fold = clas1.iloc[train_idx]\n",
        "    dic1[i] = data_fold\n",
        "\n",
        "  fold2 = round(len(clas2) / numFolds)\n",
        "  indices = np.arange(len(clas2))\n",
        "\n",
        "  for i in range(numFolds):\n",
        "    np.random.shuffle(indices)\n",
        "    train_idx = indices[: fold2]\n",
        "    data_fold = clas2.iloc[train_idx]\n",
        "    dic2[i] = data_fold\n",
        "\n",
        "  \n",
        "  dct = {}\n",
        "  for j in range(numFolds):\n",
        "    dct[j] = pd.concat([dic1[j], dic2[j]], ignore_index=True, axis=0)\n",
        "\n",
        "  return dct"
      ]
    },
    {
      "cell_type": "code",
      "execution_count": 38,
      "metadata": {
        "colab": {
          "base_uri": "https://localhost:8080/"
        },
        "id": "SeA7LVnHbcVW",
        "outputId": "d048e6ba-10a0-45c3-ba02-9d2cc846781d"
      },
      "outputs": [
        {
          "output_type": "execute_result",
          "data": {
            "text/plain": [
              "5"
            ]
          },
          "metadata": {},
          "execution_count": 38
        }
      ],
      "source": [
        "dct = splitMergeSKFold(class1, class2, 5)\n",
        "len(dct)"
      ]
    },
    {
      "cell_type": "markdown",
      "metadata": {
        "id": "qER2quMeoZF0"
      },
      "source": [
        "Due to the fact that there are features with high values, we proceed to the standardization to put all data on the same level."
      ]
    },
    {
      "cell_type": "code",
      "execution_count": 39,
      "metadata": {
        "id": "m73cJN-HoZmh"
      },
      "outputs": [],
      "source": [
        "def split_scaled_features_target(data):\n",
        "  features = data.iloc[:, 1:]\n",
        "  target = data['y']\n",
        "\n",
        "  features = features.to_numpy()\n",
        "  normalized_features = (features - np.min(features)) / (np.max(features) - np.min(features))\n",
        "\n",
        "  return normalized_features, target.to_numpy()"
      ]
    },
    {
      "cell_type": "code",
      "execution_count": 40,
      "metadata": {
        "id": "YaPSoLrT-e-L"
      },
      "outputs": [],
      "source": [
        "ll_model = LogisticRegression(lr=0.01,n_epochs=100)"
      ]
    },
    {
      "cell_type": "code",
      "execution_count": 41,
      "metadata": {
        "id": "RBINKNhh-jAl",
        "colab": {
          "base_uri": "https://localhost:8080/"
        },
        "outputId": "aeb04557-c7b2-4646-b2b1-3a7360e3a87d"
      },
      "outputs": [
        {
          "output_type": "stream",
          "name": "stdout",
          "text": [
            "loss for epoch 0  : 0.6930294358420178\n",
            "loss average 0.69\n",
            "loss for epoch 0  : 0.6930289825607957\n",
            "loss average 0.69\n",
            "loss for epoch 0  : 0.693026336164669\n",
            "loss average 0.69\n",
            "loss for epoch 0  : 0.6930313563380511\n",
            "loss average 0.69\n",
            "loss for epoch 0  : 0.6930286243872221\n",
            "loss average 0.69\n"
          ]
        },
        {
          "output_type": "stream",
          "name": "stderr",
          "text": [
            "<ipython-input-27-41b510539936>:76: DeprecationWarning: elementwise comparison failed; this will raise an error in the future.\n",
            "  acc = np.mean(y_true==y_pred)*100\n"
          ]
        }
      ],
      "source": [
        "lst_accu_stratified = []\n",
        "loss_stratified = []\n",
        "for k in range(len(dct)):\n",
        "\n",
        "  test = dct[k]\n",
        "  train = pd.concat([dct[j] for j in range(len(dct)) if k != j], ignore_index=True, axis=0)\n",
        "\n",
        "  x_test_fold, y_test_fold = split_scaled_features_target(test)\n",
        "  x_train_fold, y_train_fold = split_scaled_features_target(train)\n",
        "  ll_model.fit(x_train_fold, y_train_fold)\n",
        "  lst_accu_stratified.append(ll_model.accuracy(x_test_fold, y_test_fold))\n",
        "  y_preds = ll_model.predict(x_test_fold)\n",
        "  lst_accu_stratified.append(ll_model.accuracy(x_test_fold, y_test_fold))\n",
        "  loss_stratified.append(np.mean((y_preds - y_test_fold)**2))"
      ]
    },
    {
      "cell_type": "code",
      "execution_count": 42,
      "metadata": {
        "id": "eoQ7m2OK-um0",
        "colab": {
          "base_uri": "https://localhost:8080/"
        },
        "outputId": "27d4e2ca-f604-4921-ee6f-67acf6b46ea3"
      },
      "outputs": [
        {
          "output_type": "stream",
          "name": "stdout",
          "text": [
            "List of possible accuracy: [0.0, 0.0, 0.0, 0.0, 0.0, 0.0, 0.0, 0.0, 0.0, 0.0]\n",
            "\n",
            "Maximum Accuracy That can be obtained from this model is: 0.0 %\n",
            "\n",
            "Minimum Accuracy: 0.0 %\n",
            "\n",
            "Overall Accuracy: 0.0 %\n",
            "\n",
            "Standard Deviation is: 0.0\n",
            "\n",
            "\n",
            "\n",
            "General Error : 0.08399999999999999\n"
          ]
        }
      ],
      "source": [
        "# from statistics import mean, stdev\n",
        "# print('List of possible accuracy:', lst_accu_stratified)\n",
        "# print('\\nMaximum Accuracy That can be obtained from this model is:', max(lst_accu_stratified)*100, '%')\n",
        "# print('\\nMinimum Accuracy:', min(lst_accu_stratified)*100, '%')\n",
        "# print('\\nOverall Accuracy:', mean(lst_accu_stratified)*100, '%')\n",
        "# print('\\nStandard Deviation is:', stdev(lst_accu_stratified))\n",
        "# print()\n",
        "# print()\n",
        "# print('\\nGeneral Error :', (sum(loss_stratified) / len(loss_stratified)))"
      ]
    },
    {
      "cell_type": "code",
      "execution_count": 43,
      "metadata": {
        "id": "1d2kjTwHbg2y",
        "colab": {
          "base_uri": "https://localhost:8080/"
        },
        "outputId": "37680217-eb45-4d1b-a3a9-8e87c1df497c"
      },
      "outputs": [
        {
          "output_type": "stream",
          "name": "stdout",
          "text": [
            "The training accuracy is: 17.875\n",
            " \n",
            "The test accuracy is: 20.5\n"
          ]
        }
      ],
      "source": [
        "ypred_train = ll_model.predict(X_train)\n",
        "acc = ll_model.accuracy(y_train,ypred_train)\n",
        "print(f\"The training accuracy is: {acc}\")\n",
        "print(\" \")\n",
        "\n",
        "ypred_test = ll_model.predict(X_test)\n",
        "acc_test = ll_model.accuracy(y_test,ypred_test)\n",
        "print(f\"The test accuracy is: {acc_test}\")"
      ]
    },
    {
      "cell_type": "markdown",
      "metadata": {
        "id": "cz8JbiPgbdOI"
      },
      "source": [
        "## Discussion"
      ]
    },
    {
      "cell_type": "code",
      "execution_count": null,
      "metadata": {
        "id": "puBXMhgqbiI9"
      },
      "outputs": [],
      "source": []
    },
    {
      "cell_type": "code",
      "execution_count": null,
      "metadata": {
        "id": "W5mtLFgIbh0D"
      },
      "outputs": [],
      "source": []
    },
    {
      "cell_type": "code",
      "execution_count": null,
      "metadata": {
        "id": "6f25cs6Ubhwr"
      },
      "outputs": [],
      "source": []
    },
    {
      "cell_type": "code",
      "execution_count": null,
      "metadata": {
        "id": "9tMe03ozbhsy"
      },
      "outputs": [],
      "source": []
    },
    {
      "cell_type": "code",
      "execution_count": null,
      "metadata": {
        "id": "eSNdvnT-bhpC"
      },
      "outputs": [],
      "source": []
    },
    {
      "cell_type": "markdown",
      "metadata": {
        "id": "E25uFK0ebjTq"
      },
      "source": [
        "###End"
      ]
    }
  ],
  "metadata": {
    "colab": {
      "provenance": []
    },
    "gpuClass": "standard",
    "kernelspec": {
      "display_name": "Python 3",
      "name": "python3"
    },
    "language_info": {
      "name": "python"
    }
  },
  "nbformat": 4,
  "nbformat_minor": 0
}