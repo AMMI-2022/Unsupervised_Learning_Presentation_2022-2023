{
  "nbformat": 4,
  "nbformat_minor": 0,
  "metadata": {
    "colab": {
      "provenance": [],
      "collapsed_sections": [
        "HaTYEGXSW0RM",
        "2UUmXxQ7YZck",
        "rZfyFWLkXD5c"
      ],
      "include_colab_link": true
    },
    "kernelspec": {
      "name": "python3",
      "display_name": "Python 3"
    }
  },
  "cells": [
    {
      "cell_type": "markdown",
      "metadata": {
        "id": "view-in-github",
        "colab_type": "text"
      },
      "source": [
        "<a href=\"https://colab.research.google.com/github/ndams55/Gaussian_Mixture_Model_AMMI_2023/blob/main/Gaussian_Mixture_Model_AMMI_2023.ipynb\" target=\"_parent\"><img src=\"https://colab.research.google.com/assets/colab-badge.svg\" alt=\"Open In Colab\"/></a>"
      ]
    },
    {
      "cell_type": "markdown",
      "source": [
        "## Import Librairies"
      ],
      "metadata": {
        "id": "FnAdfCjrWelT"
      }
    },
    {
      "cell_type": "code",
      "source": [
        "import numpy as np\n",
        "from sklearn import datasets\n",
        "from sklearn.mixture import GaussianMixture\n",
        "from sklearn.cluster import KMeans\n",
        "import matplotlib.pyplot as plt\n",
        "plt.style.use('seaborn')\n",
        "import pandas as pd\n",
        "import math\n"
      ],
      "metadata": {
        "colab": {
          "base_uri": "https://localhost:8080/"
        },
        "id": "H6IU23nYWoYv",
        "outputId": "d17f4004-fda6-4987-be42-9652c096afbc"
      },
      "execution_count": null,
      "outputs": [
        {
          "output_type": "stream",
          "name": "stderr",
          "text": [
            "<ipython-input-140-c8f7db8946fc>:6: MatplotlibDeprecationWarning: The seaborn styles shipped by Matplotlib are deprecated since 3.6, as they no longer correspond to the styles shipped by seaborn. However, they will remain available as 'seaborn-v0_8-<style>'. Alternatively, directly use the seaborn API instead.\n",
            "  plt.style.use('seaborn')\n"
          ]
        }
      ]
    },
    {
      "cell_type": "markdown",
      "source": [
        "## Import Dataset"
      ],
      "metadata": {
        "id": "SGOh4IAgWo8A"
      }
    },
    {
      "cell_type": "code",
      "source": [
        "iris = datasets.load_iris()\n",
        "X = iris.data\n",
        "X[:5]"
      ],
      "metadata": {
        "colab": {
          "base_uri": "https://localhost:8080/"
        },
        "id": "U_r9vGPXWtLv",
        "outputId": "e7e3f1a7-3a07-475e-9203-28a47399b75d"
      },
      "execution_count": null,
      "outputs": [
        {
          "output_type": "execute_result",
          "data": {
            "text/plain": [
              "array([[5.1, 3.5, 1.4, 0.2],\n",
              "       [4.9, 3. , 1.4, 0.2],\n",
              "       [4.7, 3.2, 1.3, 0.2],\n",
              "       [4.6, 3.1, 1.5, 0.2],\n",
              "       [5. , 3.6, 1.4, 0.2]])"
            ]
          },
          "metadata": {},
          "execution_count": 110
        }
      ]
    },
    {
      "cell_type": "code",
      "source": [
        "idx = np.random.permutation(X.shape[0])\n",
        "X = X[idx]"
      ],
      "metadata": {
        "id": "tUcGMxpRsMjs"
      },
      "execution_count": null,
      "outputs": []
    },
    {
      "cell_type": "code",
      "source": [],
      "metadata": {
        "id": "FZ8Ikj_Stnqn"
      },
      "execution_count": null,
      "outputs": []
    },
    {
      "cell_type": "markdown",
      "source": [
        "## Modelling"
      ],
      "metadata": {
        "id": "w-vWbcGYWxFy"
      }
    },
    {
      "cell_type": "markdown",
      "source": [
        "### Implement **Gaussian density function**"
      ],
      "metadata": {
        "id": "HaTYEGXSW0RM"
      }
    },
    {
      "cell_type": "markdown",
      "metadata": {
        "id": "Vgz6E8z9VaVJ"
      },
      "source": [
        "Let us now implement the Gaussian density function. Remember that the gaussian density function looks like:\n",
        "\n",
        "\\begin{equation}\n",
        "\\large\n",
        "p(\\mathbf x | \\mathbf\\mu, \\mathbf\\Sigma) = \\frac 1 {({2\\pi})^{d/2}|\\Sigma|^{1/2}}\\exp\\left(-\\frac 1 2 (\\mathbf x -\\mathbf\\mu)^T\\mathbf\\Sigma^{-1}(\\mathbf x -\\mathbf\\mu)\\right)\n",
        "\\end{equation}\n",
        "\n",
        "Where:\n",
        "*   d is the number of features of our training set\n",
        "*   $\\mathbf\\Sigma$ and  $\\mathbf\\mu$ are the variance-covariance matrix and mean vector of the distribution\n",
        "\n",
        "\n"
      ]
    },
    {
      "cell_type": "code",
      "source": [
        "def gaussian_df(x, mu, sigma):\n",
        "  \"\"\"\n",
        "    gaussian_df(x,mu,sigma): It accepts three arguments, x: the dataset , mu: the mean vector, sigma: the covariance-veriance matrix.\n",
        "    It returns: the probability for each feature in the dataset.\n",
        "    \"\"\"\n",
        "  d = x.shape[1]\n",
        "  X = x - mu\n",
        "\n",
        "  res = np.diag((1.0/ ((2*np.pi)**(d/2) * (np.linalg.det(sigma))** 0.5)) * np.exp(-0.5 * np.dot(np.dot(X, np.linalg.inv(sigma)),X.T)))\n",
        "\n",
        "  return res"
      ],
      "metadata": {
        "id": "f802dd1CYT5u"
      },
      "execution_count": null,
      "outputs": []
    },
    {
      "cell_type": "code",
      "source": [],
      "metadata": {
        "id": "E9lzmo5yOP_n"
      },
      "execution_count": null,
      "outputs": []
    },
    {
      "cell_type": "markdown",
      "source": [
        "### Implementation of EM Algorithm functions"
      ],
      "metadata": {
        "id": "rZfyFWLkXD5c"
      }
    },
    {
      "cell_type": "markdown",
      "metadata": {
        "id": "NsxI7u2NXpWY"
      },
      "source": [
        "__Step 01: Initialize mean, covariance, and weights__\n"
      ]
    },
    {
      "cell_type": "code",
      "source": [
        "def initialize_clusters(data_set, num_clusters):\n",
        "  \"\"\"\n",
        "  initialize_clusters(data_set, num_clusters): It accepts data_set, and the number of clusters.\n",
        "  It usese the Kmeans centroid  as initialization for our gaussians means.\n",
        "  It returns: a list of dictionaries, with each dictionaries with the keys of phi, mu, and covariance matrix.\n",
        "  \"\"\"\n",
        "  clusters = [] #Initialize the cluster list.\n",
        "  idx = np.arange(data_set.shape[0])\n",
        "    \n",
        "  kmeans = KMeans(num_clusters).fit(data_set)\n",
        "  mu_k = kmeans.cluster_centers_ #Getting the Kmeans centroids for GMM mean.\n",
        "\n",
        "  for i in range(num_clusters):\n",
        "      clusters.append({\n",
        "          'phi_j': 1.0 / num_clusters,\n",
        "          'mu_j': mu_k[i],\n",
        "          'cov_j': np.identity(data_set.shape[1], dtype=np.float64)\n",
        "          })\n",
        "      \n",
        "  return clusters"
      ],
      "metadata": {
        "id": "-6ClBYbbYV0m"
      },
      "execution_count": null,
      "outputs": []
    },
    {
      "cell_type": "code",
      "source": [],
      "metadata": {
        "id": "aab6vfcECwQ0"
      },
      "execution_count": null,
      "outputs": []
    },
    {
      "cell_type": "markdown",
      "metadata": {
        "id": "b4HIKt0OYCex"
      },
      "source": [
        "**Step 02: Expectation Step (E step)**\n",
        "\n",
        "In this step, we are computing the probability that the data belongs to a cluster j. Let us call $w_{j}^{(i)}$, the probability that the data point i belong to the cluster j. The expression of $w_{j}^{(i)}$ is given by:\n",
        "\n",
        "\\begin{equation}\n",
        "\\large\n",
        "w_{j}^{(i)}= p{(z^{(i)} = j| x^{(i)}; \\mathbf\\phi, \\mathbf\\mu, \\mathbf\\Sigma)} = \\frac {p{(x^{(i)}}|{z^{(i)}} = j;\\mathbf\\mu, \\mathbf\\Sigma)p{(z^{(i)}} = j; \\mathbf\\phi)}{\\sum_{l=1}^K p{(x^{(i)}}|{z^{(i)}} = l;\\mathbf\\mu, \\mathbf\\Sigma) p{(z^{(i)}} = l; \\mathbf\\phi)}\n",
        "\\end{equation}\n"
      ]
    },
    {
      "cell_type": "code",
      "source": [
        "def expectation_step(x, clusters):\n",
        "  \"\"\"This function compute the probability that the data belongs to a cluster k \n",
        "  inputs: - x : a data point; size = (n, d)\n",
        "          - clusters: a list of clusters, \n",
        "\n",
        "  outputs: For each sample, The probability that this sample belongs to the class k; size =. (n, k) \n",
        "  \"\"\"\n",
        "\n",
        "  n, d = x.shape\n",
        "  k = len(clusters)\n",
        "  p = np.zeros((n,k))\n",
        "  proba = np.zeros((n, 1))\n",
        "\n",
        "  for j, cluster in enumerate(clusters):\n",
        "    mu_j = cluster['mu_j'] \n",
        "    phi_j = cluster['phi_j']\n",
        "    sig_j = cluster['cov_j']\n",
        "    val = gaussian_df(x, mu_j, sig_j)*phi_j \n",
        "    p[:, j] = val # probability that each sample is belong to the class j\n",
        "    \n",
        "  proba = np.sum(p, axis = 1)\n",
        "  p /= np.expand_dims(proba, axis = 1) \n",
        "\n",
        "  return proba, p\n"
      ],
      "metadata": {
        "id": "cZ1iH7vTYXEr"
      },
      "execution_count": null,
      "outputs": []
    },
    {
      "cell_type": "code",
      "source": [],
      "metadata": {
        "id": "caw8PQj_E1gF"
      },
      "execution_count": null,
      "outputs": []
    },
    {
      "cell_type": "markdown",
      "metadata": {
        "id": "_VHT5Ph1ZAFu"
      },
      "source": [
        "**Step 3: Maximization step (M step)**\n",
        "\n",
        "Let us now implement the maximization step. Since $w_{j}^{(i)}$ is common to the expressions for $\\phi_j$, $\\mu_j$ and $\\Sigma_j$, we can simply define:\n",
        "\n",
        "In the maximization step, we update the parameters using:\n",
        "\n",
        "\\begin{equation}\n",
        "\\large\n",
        "\\phi_j=\\dfrac {\\sum_{i=1}^{n}w_{j}^{(i)}} n\n",
        "\\end{equation}\n",
        "\n",
        "\n",
        "\\begin{equation}\n",
        "\\large\n",
        "\\mu_j=\\frac {\\sum_{i=1}^n w_j^{(i)}\\hspace{0.1cm} \\mathbf x^{(i)}}{\\sum_{i=1}^{n}w_{j}^{(i)}}\n",
        "\\end{equation}\n",
        "\n",
        "\n",
        "\\begin{equation}\n",
        "\\large\n",
        "\\Sigma_j=\\frac {\\sum_{i=1}^n w_j^{(i)}(\\mathbf x^{(i)}-\\mathbf\\mu_j)(\\mathbf x^{(i)}-\\mathbf\\mu_j)^T}{\\sum_{i=1}^{n}w_{j}^{(i)}}\n",
        "\\end{equation}"
      ]
    },
    {
      "cell_type": "code",
      "source": [
        "def maximization_step(data_set, clusters,prob_vector):\n",
        "  \"\"\"\n",
        "  maximization_step(data_set, clusters,prob_vector): It accepts the data set, our cluster list, and prob_vector: from the expectation steps.\n",
        "  It updates the model parameters.\n",
        "  \"\"\"\n",
        "  num_rows = data_set.shape[0]\n",
        "  for j, cluster in enumerate(clusters):\n",
        "      weight_j = prob_vector[:,j].reshape(-1,1)\n",
        "      sum_weight_j = np.sum(weight_j, axis=0)\n",
        "\n",
        "      #Update the parameters\n",
        "      phi_j = sum_weight_j / num_rows\n",
        "      mu_j = np.sum(weight_j * data_set, axis=0) / sum_weight_j\n",
        "      cov_j = (weight_j * (data_set - mu_j)).T @ (data_set - mu_j) / sum_weight_j\n",
        "      \n",
        "      #Modify the dictionary values\n",
        "      cluster['phi_j'] = phi_j\n",
        "      cluster['mu_j'] = mu_j\n",
        "      cluster['cov_j'] = cov_j"
      ],
      "metadata": {
        "id": "ZqPuMGl2YXxI"
      },
      "execution_count": null,
      "outputs": []
    },
    {
      "cell_type": "code",
      "source": [],
      "metadata": {
        "id": "GT94XfATGBCq"
      },
      "execution_count": null,
      "outputs": []
    },
    {
      "cell_type": "markdown",
      "source": [
        "### Compute the log likelihood of the model"
      ],
      "metadata": {
        "id": "2UUmXxQ7YZck"
      }
    },
    {
      "cell_type": "markdown",
      "metadata": {
        "id": "Qzbylmjoa_61"
      },
      "source": [
        "Let us now determine the log-likelihood of the model. It is given by:\n",
        "\n",
        "\\begin{equation}\n",
        "\\large\n",
        "l(\\theta) = \\sum_{i=1}^N\\log p(\\mathbf x^{(i)}; θ)=\\sum_{i=1}^N\\log\\sum_{l=1}^k p{(x^{(i)}}|{z^{(i)}} = l;\\mathbf\\mu, \\mathbf\\Sigma) p{(z^{(i)}} = l; \\mathbf\\phi)\n",
        "\\end{equation}\n",
        "\n"
      ]
    },
    {
      "cell_type": "code",
      "source": [
        "def likehood(proba):\n",
        "  sample = np.log(proba) # This proba come from the expectation step\n",
        "  return np.sum(sample, axis=0)"
      ],
      "metadata": {
        "id": "uSzR7ZuzeRqz"
      },
      "execution_count": null,
      "outputs": []
    },
    {
      "cell_type": "code",
      "source": [],
      "metadata": {
        "id": "FrMWnwbIE6uS"
      },
      "execution_count": null,
      "outputs": []
    },
    {
      "cell_type": "code",
      "source": [
        "def train(x, n_clusters, n_epochs):\n",
        "\n",
        "  clusters = initialize_clusters(x, n_clusters)\n",
        "  n, d = x.shape    \n",
        "  scores = np.zeros((X.shape[0], n_clusters))\n",
        "  losses = np.zeros((n_epochs, ))\n",
        "\n",
        "  for i in range(0, n_epochs):\n",
        "\n",
        "    clusters_copy = clusters.copy()  # we make a copy of our original cluster\n",
        "\n",
        "    proba, prob_vector = expectation_step(x, clusters) # we compute the probability matrix\n",
        "    maximization_step(x, clusters,prob_vector) #we update the parameters\n",
        "\n",
        "    loss = likehood(proba)\n",
        "\n",
        "    losses[i] = loss\n",
        "    print('Epoch: ', i + 1, 'Likelihood: ', loss)\n",
        "\n",
        "  scores = np.log(proba)\n",
        " \n",
        "  return scores, losses, clusters_copy\n"
      ],
      "metadata": {
        "id": "C6v3Kf6NT4Fh"
      },
      "execution_count": null,
      "outputs": []
    },
    {
      "cell_type": "markdown",
      "source": [
        "## Implementation of GMM Class\n",
        "\n"
      ],
      "metadata": {
        "id": "QB6xVw2ZYuva"
      }
    },
    {
      "cell_type": "code",
      "metadata": {
        "id": "9qWFzpI3Uq-9"
      },
      "source": [
        "class GaussianMixture():\n",
        "\n",
        "  def __init__(self, x, num_clusters):\n",
        "    self.x_data = x\n",
        "    self.shape = x.shape\n",
        "    self.probas = None  #dim = (n,k) which is the matirx of For each sample, The probability that this sample belongs to the class k\n",
        "    self.n_clusters = num_clusters\n",
        "    self.clusters = None\n",
        "\n",
        "  \n",
        "  def multiv_gauss(self,mu,sigma):\n",
        "    \"\"\"\n",
        "    multiv_gauss(x,mu,sigma): It accepts three arguments, x: the dataset , mu: the mean vector, sigma: the covariance-veriance matrix.\n",
        "    It returns: the probability for each feature in the dataset.\n",
        "    \"\"\"\n",
        "\n",
        "    d = self.x_data.shape[1]\n",
        "    X = self.x_data - mu\n",
        "    res = np.diag((1.0/ ((2*np.pi)**(d/2) * (np.linalg.det(sigma))** 0.5)) * np.exp(-0.5 * np.dot(np.dot(X, np.linalg.inv(sigma)),X.T)))\n",
        "\n",
        "    return res\n",
        "\n",
        "\n",
        "  def compute_likelihood(self, proba):\n",
        "    sample = np.log(proba) # This proba come from the expectation step\n",
        "    return np.sum(sample, axis=0), sample\n",
        "\n",
        "\n",
        "  def initialize_clusters(self):\n",
        "    \"\"\"\n",
        "    initialize_clusters(data_set, num_clusters): It accepts data_set, and the number of clusters.\n",
        "    It usese the Kmeans centroid  as initialization for our gaussians means.\n",
        "    It returns: a list of dictionaries, with each dictionaries with the keys of phi, mu, and covariance matrix.\n",
        "    \"\"\"\n",
        "    self.clusters = [] #Initialize the cluster list.\n",
        "    idx = np.arange(self.shape[0])\n",
        "      \n",
        "    kmeans = KMeans(self.n_clusters).fit(self.x_data)\n",
        "    mu_k = kmeans.cluster_centers_ #Getting the Kmeans centroids for GMM mean.\n",
        "\n",
        "    for i in range(self.n_clusters):\n",
        "        self.clusters.append({\n",
        "            'phi_j': 1.0 / self.n_clusters,\n",
        "            'mu_j': mu_k[i],\n",
        "            'cov_j': np.identity(self.shape[1], dtype=np.float64)\n",
        "            })\n",
        "        \n",
        "\n",
        "\n",
        "  def expectation_step(self):\n",
        "    \"\"\"This function compute the probability that the data belongs to a cluster k \n",
        "    inputs: - x : a data point; size = (n, d)\n",
        "            - clusters: a list of clusters, \n",
        "\n",
        "    outputs: For each sample, The probability that this sample belongs to the class k; size =. (n, k) \n",
        "    \"\"\"\n",
        "    n, d = self.shape\n",
        "    k = len(self.clusters)\n",
        "    self.probas = np.zeros((n,k))\n",
        "    prob = np.zeros((n, 1))\n",
        "\n",
        "    for j, cluster in enumerate(self.clusters):\n",
        "      mu_j = cluster['mu_j'] \n",
        "      phi_j = cluster['phi_j']\n",
        "      sig_j = cluster['cov_j']\n",
        "      val = self.multiv_gauss( mu_j, sig_j)*phi_j \n",
        "      self.probas[:, j] = (phi_j * self.multiv_gauss( mu_j, sig_j)) # probability that each sample is belong to the class j\n",
        "      \n",
        "    prob = np.sum(self.probas, axis = 1)\n",
        "    self.probas /= np.expand_dims(prob, axis = 1) \n",
        "\n",
        "    return prob\n",
        "\n",
        "\n",
        "\n",
        "  def maximization_step(self):\n",
        "    \"\"\"\n",
        "    maximization_step(data_set, clusters,prob_vector): It accepts the data set, our cluster list, and prob_vector: from the expectation steps.\n",
        "    It updates the model parameters.\n",
        "    \"\"\"\n",
        "    num_rows = self.shape[0]\n",
        "    for j, cluster in enumerate(self.clusters):\n",
        "\n",
        "        weight_j = self.probas[:,j].reshape(-1,1)\n",
        "        sum_weight_j = np.sum(weight_j, axis=0)\n",
        "\n",
        "        #Update the parameters\n",
        "        phi_j = sum_weight_j / num_rows\n",
        "        mu_j = np.sum(weight_j * self.x_data, axis=0) / sum_weight_j\n",
        "        cov_j = (weight_j * (self.x_data - mu_j)).T @ (self.x_data - mu_j) / sum_weight_j\n",
        "\n",
        "        #Modify the dictionary values\n",
        "        cluster['phi_j'] = phi_j\n",
        "        cluster['mu_j'] = mu_j\n",
        "        cluster['cov_j'] = cov_j\n",
        "\n",
        "\n",
        "\n",
        "  def train(self, n_epochs, tol):\n",
        "\n",
        "    clusters = self.initialize_clusters()\n",
        "    n, d = self.shape    \n",
        "    losses = np.zeros((n_epochs, ))\n",
        "    self.scores = np.zeros((X.shape[0], self.n_clusters))\n",
        "    self.history = []\n",
        "\n",
        "    for i in range(0, n_epochs):\n",
        "\n",
        "      clusters_snapshot = []\n",
        "        \n",
        "        # This is just for our later use in the graphs\n",
        "      for cluster in self.clusters:\n",
        "        clusters_snapshot.append({\n",
        "                'mu_j': cluster['mu_j'].copy(),\n",
        "                'cov_j': cluster['cov_j'].copy()\n",
        "            })\n",
        "        self.history.append(clusters_snapshot)\n",
        "\n",
        "\n",
        "      prob  = self.expectation_step() # we compute the probability matrix\n",
        "      self.maximization_step() #we update the parameters\n",
        "\n",
        "      loss, sample = self.compute_likelihood(prob)\n",
        "\n",
        "      losses[i] = loss\n",
        "      if abs(loss - losses[i-1]) <= tol:\n",
        "        break\n",
        "\n",
        "\n",
        "    loss = np.mean(losses)\n",
        "    self.scores = np.log(self.probas)\n",
        "    # self.AIC = 2*3*self.n_clusters - 2*loss  #n*loss + 2*3*self.n_clusters\n",
        "    # self.BIC = -2 * loss + 2*math.log(n) * 3*self.n_clusters # BIC =k*ln(n)-2*ln(L)\n",
        "  \n",
        "    return losses, sample\n"
      ],
      "execution_count": null,
      "outputs": []
    },
    {
      "cell_type": "code",
      "source": [],
      "metadata": {
        "id": "wVLdE_No-RW_"
      },
      "execution_count": null,
      "outputs": []
    },
    {
      "cell_type": "markdown",
      "source": [
        "## Determining the number of clusters"
      ],
      "metadata": {
        "id": "pkrs1708-fny"
      }
    },
    {
      "cell_type": "code",
      "source": [
        "def cluster_creation(x, start, end):\n",
        "  \"\"\" This method helps to find the number of cluster using kMEANS in sklearn.\n",
        "    Input: X : the dataset\n",
        "          start, end: range of differents number of cluster\n",
        "\n",
        "    Output: list of inertia; which measures how well the dataset was clustered by K-Means.\n",
        "  \"\"\"\n",
        "\n",
        "  resl_list=[]\n",
        "  for i in range(start, end + 1):\n",
        "    kmeans = KMeans(i).fit(x)\n",
        "    resl_list.append(kmeans.inertia_)  #append the inertia measured with K-Mean, K=i\n",
        "\n",
        "  return resl_list"
      ],
      "metadata": {
        "id": "yHo05VeN89M-"
      },
      "execution_count": null,
      "outputs": []
    },
    {
      "cell_type": "code",
      "source": [
        "result = cluster_creation(X,1,19)"
      ],
      "metadata": {
        "id": "FiR2WF4tB1rU"
      },
      "execution_count": null,
      "outputs": []
    },
    {
      "cell_type": "code",
      "source": [
        "x = np.arange(len(result))\n",
        "#plt.grid()\n",
        "\n",
        "\n",
        "plt.plot(x, result, color='tab:blue', label='Inertie')\n",
        "plt.xticks()\n",
        "plt.yticks()\n",
        "\n",
        "plt.ylabel(\"Inertie\")\n",
        "plt.xlabel(\"Number of clusters\")\n",
        "\n",
        "\n",
        "plt.title(\"Inertie for different number of clusters\")\n",
        "\n",
        "plt.legend()\n",
        "\n",
        "plt.show()"
      ],
      "metadata": {
        "colab": {
          "base_uri": "https://localhost:8080/",
          "height": 525
        },
        "id": "-AwZWP-2RnJJ",
        "outputId": "58c95282-ea1f-48bc-e338-e93e6a92220e"
      },
      "execution_count": null,
      "outputs": [
        {
          "output_type": "display_data",
          "data": {
            "text/plain": [
              "<Figure size 800x550 with 1 Axes>"
            ],
            "image/png": "[encoded data removed]"
          },
          "metadata": {}
        }
      ]
    },
    {
      "cell_type": "markdown",
      "source": [
        "## Training the GMM model"
      ],
      "metadata": {
        "id": "XOMusvQd-u9d"
      }
    },
    {
      "cell_type": "code",
      "source": [
        "model = GaussianMixture(X, num_clusters= 3)"
      ],
      "metadata": {
        "id": "2JePzuFsLEWG"
      },
      "execution_count": null,
      "outputs": []
    },
    {
      "cell_type": "code",
      "source": [
        "losses, sample = model.train(n_epochs=15, tol = 10^-5)"
      ],
      "metadata": {
        "colab": {
          "base_uri": "https://localhost:8080/"
        },
        "id": "hH_WyckYLEMk",
        "outputId": "622febf7-ba1d-4624-8792-3428c2495655"
      },
      "execution_count": null,
      "outputs": [
        {
          "output_type": "stream",
          "name": "stderr",
          "text": [
            "/usr/local/lib/python3.9/dist-packages/sklearn/cluster/_kmeans.py:870: FutureWarning: The default value of `n_init` will change from 10 to 'auto' in 1.4. Set the value of `n_init` explicitly to suppress the warning\n",
            "  warnings.warn(\n"
          ]
        }
      ]
    },
    {
      "cell_type": "code",
      "source": [
        "plt.plot(losses)\n",
        "\n",
        "x = np.arange(len(losses))\n",
        "#plt.grid()\n",
        "\n",
        "\n",
        "plt.plot(x, losses, color='tab:blue', label='Log likelihood ')\n",
        "plt.xticks()\n",
        "plt.yticks()\n",
        "\n",
        "plt.ylabel(\"Log likelihood\")\n",
        "plt.xlabel(\"Number of epochs\")\n",
        "\n",
        "\n",
        "plt.title(\"Log likelihood at each epoch\")\n",
        "\n",
        "plt.legend()\n",
        "\n",
        "plt.show()"
      ],
      "metadata": {
        "colab": {
          "base_uri": "https://localhost:8080/",
          "height": 525
        },
        "id": "gCYM1l48T1aO",
        "outputId": "cfbcf507-5c49-4f16-fc44-5640a8d86b12"
      },
      "execution_count": null,
      "outputs": [
        {
          "output_type": "display_data",
          "data": {
            "text/plain": [
              "<Figure size 800x550 with 1 Axes>"
            ],
            "image/png": "[encoded data removed]"
          },
          "metadata": {}
        }
      ]
    },
    {
      "cell_type": "markdown",
      "source": [
        "## Plotting the differents data clusters formed"
      ],
      "metadata": {
        "id": "uF57a1_NDbuW"
      }
    },
    {
      "cell_type": "markdown",
      "source": [
        "\n",
        "\n",
        "*   **Reference Tutorial :** [create_cluster_animation](https://rayblick.gitbooks.io/my-python-scrapbook/content/analysis/plotting/scatterplot_ellipse.html)\n",
        "\n"
      ],
      "metadata": {
        "id": "yUYTb1iKL-e6"
      }
    },
    {
      "cell_type": "code",
      "source": [
        "import imageio\n",
        "import matplotlib.animation as ani\n",
        "import matplotlib.cm as cmx\n",
        "import matplotlib.colors as colors\n",
        "from matplotlib.patches import Ellipse\n",
        "from PIL import Image"
      ],
      "metadata": {
        "id": "mye2pVQJJxKq"
      },
      "execution_count": null,
      "outputs": []
    },
    {
      "cell_type": "code",
      "source": [
        "def create_cluster_animation(X, history, scores):\n",
        "    fig, ax = plt.subplots(1, 1, figsize=(10, 10))\n",
        "    colorset = ['blue', 'red', 'black']\n",
        "    images = []\n",
        "    \n",
        "    for j, clusters in enumerate(history):\n",
        "      \n",
        "        idx = 0\n",
        "      \n",
        "        if j % 3 != 0:\n",
        "            continue\n",
        "        \n",
        "        plt.cla()\n",
        "        \n",
        "        for cluster in clusters:\n",
        "            mu = cluster['mu_j']\n",
        "            cov = cluster['cov_j']\n",
        "\n",
        "            eigenvalues, eigenvectors = np.linalg.eigh(cov)\n",
        "            order = eigenvalues.argsort()[::-1]\n",
        "            eigenvalues, eigenvectors = eigenvalues[order], eigenvectors[:, order]\n",
        "            vx, vy = eigenvectors[:,0][0], eigenvectors[:,0][1]\n",
        "            theta = np.arctan2(vy, vx)\n",
        "\n",
        "            color = colors.to_rgba(colorset[idx])\n",
        "\n",
        "            for cov_factor in range(1, 4):\n",
        "                ell = Ellipse(xy=mu, width=np.sqrt(eigenvalues[0]) * cov_factor * 2, height=np.sqrt(eigenvalues[1]) * cov_factor * 2, angle=np.degrees(theta), linewidth=2)\n",
        "                ell.set_facecolor((color[0], color[1], color[2], 1.0 / (cov_factor * 4.5)))\n",
        "                ax.add_artist(ell)\n",
        "\n",
        "            #ax.scatter(cluster['mu_k'][0], cluster['mu_k'][1], c=colorset[idx], s=1000, marker='+')\n",
        "            idx += 1\n",
        "\n",
        "        for i in range(X.shape[0]):\n",
        "            ax.scatter(X[i, 0], X[i, 1], c=colorset[np.argmax(scores[i])], marker='o')\n",
        "        \n",
        "        fig.canvas.draw()\n",
        "        \n",
        "        image = np.frombuffer(fig.canvas.tostring_rgb(), dtype='uint8')\n",
        "        image = image.reshape(fig.canvas.get_width_height()[::-1] + (3,))\n",
        "\n",
        "        images.append(image)\n",
        "    \n",
        "    plt.grid()\n",
        "    kwargs_write = {'fps':1.0, 'quantizer':'nq'}\n",
        "    imageio.mimsave('./gmm.gif', images, fps=1)\n",
        "    plt.show(Image.open('gmm.gif').convert('RGB'))\n",
        "    \n",
        "    \n",
        "create_cluster_animation(X, model.history , model.scores)"
      ],
      "metadata": {
        "colab": {
          "base_uri": "https://localhost:8080/",
          "height": 831
        },
        "id": "YrlPot6YDbUy",
        "outputId": "8fc9c7a3-374d-4984-8fab-11c4d6583ac7"
      },
      "execution_count": null,
      "outputs": [
        {
          "output_type": "display_data",
          "data": {
            "text/plain": [
              "<Figure size 1000x1000 with 1 Axes>"
            ],
            "image/png": "[encoded data removed]"
          },
          "metadata": {}
        }
      ]
    },
    {
      "cell_type": "markdown",
      "source": [
        "## Comparing with sklearn GaussianMixture model"
      ],
      "metadata": {
        "id": "AJ4EEkcSCfVH"
      }
    },
    {
      "cell_type": "code",
      "source": [
        "from sklearn.mixture import GaussianMixture"
      ],
      "metadata": {
        "id": "0Yzm170QC47-"
      },
      "execution_count": null,
      "outputs": []
    },
    {
      "cell_type": "code",
      "source": [
        "gmm = GaussianMixture(n_components=3, max_iter=50).fit(X)\n",
        "gmm_scores = gmm.score_samples(X)\n",
        "\n",
        "print('Means by sklearn:\\n', gmm.means_)\n",
        "print('Means by our implementation:\\n', np.array([cluster['mu_j'].tolist() for cluster in model.clusters]))\n",
        "print('Scores by sklearn:\\n', gmm_scores[0:20])\n",
        "print('Scores by our implementation:\\n', sample.reshape(-1)[0:20])"
      ],
      "metadata": {
        "colab": {
          "base_uri": "https://localhost:8080/"
        },
        "id": "NaX4uSDkSIVW",
        "outputId": "b13a152a-63d4-42fc-b9d6-f695b959089e"
      },
      "execution_count": null,
      "outputs": [
        {
          "output_type": "stream",
          "name": "stdout",
          "text": [
            "Means by sklearn:\n",
            " [[6.54639415 2.94946365 5.48364578 1.98726565]\n",
            " [5.006      3.428      1.462      0.246     ]\n",
            " [5.9170732  2.77804839 4.20540364 1.29848217]]\n",
            "Means by our implementation:\n",
            " [[5.006      3.428      1.462      0.246     ]\n",
            " [5.92770042 2.77587277 4.22337423 1.3059595 ]\n",
            " [6.55321361 2.95573794 5.50064603 1.99834809]]\n",
            "Scores by sklearn:\n",
            " [-2.58855877 -2.12834347 -0.92934784 -3.8494936  -4.19338302  0.11508687\n",
            " -1.95910798  1.54721281  1.16051416 -0.47936329 -0.35343193 -3.497598\n",
            " -4.86118474 -2.57846637 -1.31138827  1.14436656  0.97699215 -1.27295641\n",
            " -1.97391054 -1.51788573]\n",
            "Scores by our implementation:\n",
            " [-2.58862766 -2.1284841  -0.92939244 -3.73585273 -4.46527519  0.1151149\n",
            " -1.92857729  1.54729267  1.16057234 -0.64177007 -0.20024619 -3.46315451\n",
            " -4.77655979 -2.68936128 -1.30681472  1.14444614  0.9770596  -1.28177015\n",
            " -1.96085124 -1.51483573]\n"
          ]
        }
      ]
    },
    {
      "cell_type": "markdown",
      "source": [
        "### Reference\n",
        "\n",
        "*   **[Link ](https://github.com/ndams55/Gaussian_Mixture_Model_AMMI_2023.git)of our Github Repository** \n",
        "\n"
      ],
      "metadata": {
        "id": "pVrEF_wAW7wW"
      }
    },
    {
      "cell_type": "markdown",
      "source": [
        "## When to use Gaussian mixture models:\n",
        "\n",
        "1- Clusters are not fully separated. \n",
        "\n",
        "2- Need a probability that each point belongs to each cluster. \n",
        "\n",
        "3- You do not want to rescale your data. \n",
        "\n"
      ],
      "metadata": {
        "id": "RPhDAt5jXq5J"
      }
    },
    {
      "cell_type": "code",
      "source": [],
      "metadata": {
        "id": "SRwMQCuyY7xP"
      },
      "execution_count": null,
      "outputs": []
    },
    {
      "cell_type": "markdown",
      "source": [
        "## When not to use Gaussian mixture models\n",
        "\n",
        "1- Categorical and non-normal features.\n",
        "\n",
        "2- Irregularly shaped clusters."
      ],
      "metadata": {
        "id": "WBiToVibXu-7"
      }
    },
    {
      "cell_type": "code",
      "source": [],
      "metadata": {
        "id": "4YHySKlNY8Wz"
      },
      "execution_count": null,
      "outputs": []
    },
    {
      "cell_type": "markdown",
      "source": [
        "## Advantages of Gaussian Mixture Model:\n",
        "\n",
        "1- Probabilistic estimates of belonging to each cluster.\n",
        "\n",
        "2- Handles clusters of differing sizes.\n",
        "\n",
        "3- Less sensitive to scale. \n",
        "\n"
      ],
      "metadata": {
        "id": "gqqT9gsiXhin"
      }
    },
    {
      "cell_type": "code",
      "source": [],
      "metadata": {
        "id": "njyYhyxmY803"
      },
      "execution_count": null,
      "outputs": []
    },
    {
      "cell_type": "markdown",
      "source": [
        "## Disadvantages of Gaussian mixture models:\n",
        "\n",
        "1- Difficult to incorporate categorical features. Gaussian mixture models operate under the assumption that all of your features are normally distributed, so they are not easily adapted to categorical data. \n",
        "\n",
        "2- Assumes a normal distribution for features: gaussian mixture models may also struggle with numeric variables that are not normally distributed. \n",
        "\n",
        "3- Make some assumptions about cluster shape: the clusters are assumed to be elliptic. \n",
        "\n",
        "4- Needs sufficient data for each cluster: Since you need to estimate a covariance matrix in order to use gaussian mixture models, you should make sure that you have enough data points in each cluster to adequately estimate the covariance.\n",
        "\n",
        "5- Need to specify number of clusters.\n",
        "\n"
      ],
      "metadata": {
        "id": "UEfOJz5-Xm3j"
      }
    },
    {
      "cell_type": "code",
      "source": [],
      "metadata": {
        "id": "MmnEkEflY9v8"
      },
      "execution_count": null,
      "outputs": []
    }
  ]
}