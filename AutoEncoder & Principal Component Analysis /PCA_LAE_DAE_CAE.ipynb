{
  "nbformat": 4,
  "nbformat_minor": 0,
  "metadata": {
    "colab": {
      "provenance": []
    },
    "kernelspec": {
      "name": "python3",
      "display_name": "Python 3"
    },
    "language_info": {
      "name": "python"
    },
    "accelerator": "GPU",
    "gpuClass": "standard"
  },
  "cells": [
    {
      "cell_type": "markdown",
      "source": [
        "# Implementation PCA and Linear AutoEncoder"
      ],
      "metadata": {
        "id": "JVaggmV8Eve-"
      }
    },
    {
      "cell_type": "code",
      "source": [
        "import numpy as np\n",
        "import matplotlib.pyplot as plt\n",
        "import pandas as pd\n",
        "\n",
        "from sklearn.preprocessing import StandardScaler\n",
        "from sklearn import datasets"
      ],
      "metadata": {
        "id": "jSnI4eRVEkz7"
      },
      "execution_count": null,
      "outputs": []
    },
    {
      "cell_type": "markdown",
      "source": [
        "## Load Iris_dara"
      ],
      "metadata": {
        "id": "PYHZRrHrE-Ui"
      }
    },
    {
      "cell_type": "code",
      "source": [
        "iris = datasets.load_iris()\n",
        "X = iris.data\n",
        "y = iris.target\n",
        "target_names = iris.target_names"
      ],
      "metadata": {
        "id": "3QfA1iBnE8GH"
      },
      "execution_count": null,
      "outputs": []
    },
    {
      "cell_type": "markdown",
      "source": [
        "## Normalization"
      ],
      "metadata": {
        "id": "_SHI3celFFnu"
      }
    },
    {
      "cell_type": "code",
      "source": [
        "X = StandardScaler().fit_transform(X)"
      ],
      "metadata": {
        "id": "sqpa_GHnFCoh"
      },
      "execution_count": null,
      "outputs": []
    },
    {
      "cell_type": "code",
      "source": [
        "#X= (X-np.mean(X,axis=0))/np.sqrt(X.shape[0])"
      ],
      "metadata": {
        "id": "Pf6EcY7Li5ch"
      },
      "execution_count": 1,
      "outputs": []
    },
    {
      "cell_type": "markdown",
      "source": [
        "# PCA"
      ],
      "metadata": {
        "id": "sRRKIQ0lFM2o"
      }
    },
    {
      "cell_type": "code",
      "source": [
        "class Our_PCA:\n",
        "    \n",
        "    def __init__(self,n_components=2):\n",
        "        self.n_components = n_components\n",
        "        self.features = None\n",
        "        #self._mean = None\n",
        "        \n",
        "        \n",
        "    def fit_pca(self, X):\n",
        "        # placing mean to  our origin data\n",
        "        #self._mean = np.mean(X,axis=0)\n",
        "        #X = X - self._mean\n",
        "\n",
        "        #Co- variance \n",
        "        covariance = np.dot(X.T,X)/(X.shape[0]-1)\n",
        "        #print(covariance.shape)\n",
        "        #We compute the eigvalue and the eigvector\n",
        "        eigenvalue,eigenvector = np.linalg.eig(covariance)\n",
        "        # For computation we to tranpose the matrix\n",
        "        eigenvector = eigenvector.T\n",
        "        \n",
        "        indexs = np.argsort(eigenvalue)[::-1]\n",
        "        print(indexs,' indexs')\n",
        "        \n",
        "        eigenvector = eigenvector[indexs]\n",
        "        \n",
        "        \n",
        "        eigenvalue  = eigenvalue[indexs]\n",
        "        \n",
        "        \n",
        "        total = sum(eigenvalue)\n",
        "        var_of_features = [(i/total)*100 for i in eigenvalue]\n",
        "        print(var_of_features)\n",
        "        self.features = eigenvector[:self.n_components]\n",
        "        \n",
        "    def aplly(self, X):\n",
        "        #X = X - self._mean\n",
        "        \n",
        "        return np.dot(X,self.features.T)"
      ],
      "metadata": {
        "id": "z_CYtB6TFJLg"
      },
      "execution_count": null,
      "outputs": []
    },
    {
      "cell_type": "code",
      "source": [
        "# create de l'object\n",
        "pca = Our_PCA(2)\n",
        "pca.fit_pca(X)\n",
        "project_x = pca.aplly(X)"
      ],
      "metadata": {
        "colab": {
          "base_uri": "https://localhost:8080/"
        },
        "id": "bfXwkNS0FUWQ",
        "outputId": "75c84e06-7f3e-4288-bd55-18545f641dba"
      },
      "execution_count": null,
      "outputs": [
        {
          "output_type": "stream",
          "name": "stdout",
          "text": [
            "[0 1 2 3]  indexs\n",
            "[72.96244541329987, 22.85076178670178, 3.668921889282875, 0.5178709107154741]\n"
          ]
        }
      ]
    },
    {
      "cell_type": "code",
      "source": [
        "principa_df = pd.DataFrame(project_x,columns=['PC1','PC2',])\n",
        "principa_df = pd.concat([principa_df,pd.DataFrame(y)],axis=1)"
      ],
      "metadata": {
        "id": "8-_1-6grFa6B"
      },
      "execution_count": null,
      "outputs": []
    },
    {
      "cell_type": "code",
      "source": [
        "principa_df"
      ],
      "metadata": {
        "colab": {
          "base_uri": "https://localhost:8080/",
          "height": 423
        },
        "id": "D6MT5cRaFdzP",
        "outputId": "d3115bdd-183c-4157-d8eb-3a04665511e6"
      },
      "execution_count": null,
      "outputs": [
        {
          "output_type": "execute_result",
          "data": {
            "text/plain": [
              "          PC1       PC2  0\n",
              "0   -2.264703 -0.480027  0\n",
              "1   -2.080961  0.674134  0\n",
              "2   -2.364229  0.341908  0\n",
              "3   -2.299384  0.597395  0\n",
              "4   -2.389842 -0.646835  0\n",
              "..        ...       ... ..\n",
              "145  1.870503 -0.386966  2\n",
              "146  1.564580  0.896687  2\n",
              "147  1.521170 -0.269069  2\n",
              "148  1.372788 -1.011254  2\n",
              "149  0.960656  0.024332  2\n",
              "\n",
              "[150 rows x 3 columns]"
            ],
            "text/html": [
              "\n",
              "  <div id=\"df-a9d57de9-7cb6-4296-83b4-bb0a0edb285a\">\n",
              "    <div class=\"colab-df-container\">\n",
              "      <div>\n",
              "<style scoped>\n",
              "    .dataframe tbody tr th:only-of-type {\n",
              "        vertical-align: middle;\n",
              "    }\n",
              "\n",
              "    .dataframe tbody tr th {\n",
              "        vertical-align: top;\n",
              "    }\n",
              "\n",
              "    .dataframe thead th {\n",
              "        text-align: right;\n",
              "    }\n",
              "</style>\n",
              "<table border=\"1\" class=\"dataframe\">\n",
              "  <thead>\n",
              "    <tr style=\"text-align: right;\">\n",
              "      <th></th>\n",
              "      <th>PC1</th>\n",
              "      <th>PC2</th>\n",
              "      <th>0</th>\n",
              "    </tr>\n",
              "  </thead>\n",
              "  <tbody>\n",
              "    <tr>\n",
              "      <th>0</th>\n",
              "      <td>-2.264703</td>\n",
              "      <td>-0.480027</td>\n",
              "      <td>0</td>\n",
              "    </tr>\n",
              "    <tr>\n",
              "      <th>1</th>\n",
              "      <td>-2.080961</td>\n",
              "      <td>0.674134</td>\n",
              "      <td>0</td>\n",
              "    </tr>\n",
              "    <tr>\n",
              "      <th>2</th>\n",
              "      <td>-2.364229</td>\n",
              "      <td>0.341908</td>\n",
              "      <td>0</td>\n",
              "    </tr>\n",
              "    <tr>\n",
              "      <th>3</th>\n",
              "      <td>-2.299384</td>\n",
              "      <td>0.597395</td>\n",
              "      <td>0</td>\n",
              "    </tr>\n",
              "    <tr>\n",
              "      <th>4</th>\n",
              "      <td>-2.389842</td>\n",
              "      <td>-0.646835</td>\n",
              "      <td>0</td>\n",
              "    </tr>\n",
              "    <tr>\n",
              "      <th>...</th>\n",
              "      <td>...</td>\n",
              "      <td>...</td>\n",
              "      <td>...</td>\n",
              "    </tr>\n",
              "    <tr>\n",
              "      <th>145</th>\n",
              "      <td>1.870503</td>\n",
              "      <td>-0.386966</td>\n",
              "      <td>2</td>\n",
              "    </tr>\n",
              "    <tr>\n",
              "      <th>146</th>\n",
              "      <td>1.564580</td>\n",
              "      <td>0.896687</td>\n",
              "      <td>2</td>\n",
              "    </tr>\n",
              "    <tr>\n",
              "      <th>147</th>\n",
              "      <td>1.521170</td>\n",
              "      <td>-0.269069</td>\n",
              "      <td>2</td>\n",
              "    </tr>\n",
              "    <tr>\n",
              "      <th>148</th>\n",
              "      <td>1.372788</td>\n",
              "      <td>-1.011254</td>\n",
              "      <td>2</td>\n",
              "    </tr>\n",
              "    <tr>\n",
              "      <th>149</th>\n",
              "      <td>0.960656</td>\n",
              "      <td>0.024332</td>\n",
              "      <td>2</td>\n",
              "    </tr>\n",
              "  </tbody>\n",
              "</table>\n",
              "<p>150 rows × 3 columns</p>\n",
              "</div>\n",
              "      <button class=\"colab-df-convert\" onclick=\"convertToInteractive('df-a9d57de9-7cb6-4296-83b4-bb0a0edb285a')\"\n",
              "              title=\"Convert this dataframe to an interactive table.\"\n",
              "              style=\"display:none;\">\n",
              "        \n",
              "  <svg xmlns=\"http://www.w3.org/2000/svg\" height=\"24px\"viewBox=\"0 0 24 24\"\n",
              "       width=\"24px\">\n",
              "    <path d=\"M0 0h24v24H0V0z\" fill=\"none\"/>\n",
              "    <path d=\"M18.56 5.44l.94 2.06.94-2.06 2.06-.94-2.06-.94-.94-2.06-.94 2.06-2.06.94zm-11 1L8.5 8.5l.94-2.06 2.06-.94-2.06-.94L8.5 2.5l-.94 2.06-2.06.94zm10 10l.94 2.06.94-2.06 2.06-.94-2.06-.94-.94-2.06-.94 2.06-2.06.94z\"/><path d=\"M17.41 7.96l-1.37-1.37c-.4-.4-.92-.59-1.43-.59-.52 0-1.04.2-1.43.59L10.3 9.45l-7.72 7.72c-.78.78-.78 2.05 0 2.83L4 21.41c.39.39.9.59 1.41.59.51 0 1.02-.2 1.41-.59l7.78-7.78 2.81-2.81c.8-.78.8-2.07 0-2.86zM5.41 20L4 18.59l7.72-7.72 1.47 1.35L5.41 20z\"/>\n",
              "  </svg>\n",
              "      </button>\n",
              "      \n",
              "  <style>\n",
              "    .colab-df-container {\n",
              "      display:flex;\n",
              "      flex-wrap:wrap;\n",
              "      gap: 12px;\n",
              "    }\n",
              "\n",
              "    .colab-df-convert {\n",
              "      background-color: #E8F0FE;\n",
              "      border: none;\n",
              "      border-radius: 50%;\n",
              "      cursor: pointer;\n",
              "      display: none;\n",
              "      fill: #1967D2;\n",
              "      height: 32px;\n",
              "      padding: 0 0 0 0;\n",
              "      width: 32px;\n",
              "    }\n",
              "\n",
              "    .colab-df-convert:hover {\n",
              "      background-color: #E2EBFA;\n",
              "      box-shadow: 0px 1px 2px rgba(60, 64, 67, 0.3), 0px 1px 3px 1px rgba(60, 64, 67, 0.15);\n",
              "      fill: #174EA6;\n",
              "    }\n",
              "\n",
              "    [theme=dark] .colab-df-convert {\n",
              "      background-color: #3B4455;\n",
              "      fill: #D2E3FC;\n",
              "    }\n",
              "\n",
              "    [theme=dark] .colab-df-convert:hover {\n",
              "      background-color: #434B5C;\n",
              "      box-shadow: 0px 1px 3px 1px rgba(0, 0, 0, 0.15);\n",
              "      filter: drop-shadow(0px 1px 2px rgba(0, 0, 0, 0.3));\n",
              "      fill: #FFFFFF;\n",
              "    }\n",
              "  </style>\n",
              "\n",
              "      <script>\n",
              "        const buttonEl =\n",
              "          document.querySelector('#df-a9d57de9-7cb6-4296-83b4-bb0a0edb285a button.colab-df-convert');\n",
              "        buttonEl.style.display =\n",
              "          google.colab.kernel.accessAllowed ? 'block' : 'none';\n",
              "\n",
              "        async function convertToInteractive(key) {\n",
              "          const element = document.querySelector('#df-a9d57de9-7cb6-4296-83b4-bb0a0edb285a');\n",
              "          const dataTable =\n",
              "            await google.colab.kernel.invokeFunction('convertToInteractive',\n",
              "                                                     [key], {});\n",
              "          if (!dataTable) return;\n",
              "\n",
              "          const docLinkHtml = 'Like what you see? Visit the ' +\n",
              "            '<a target=\"_blank\" href=https://colab.research.google.com/notebooks/data_table.ipynb>data table notebook</a>'\n",
              "            + ' to learn more about interactive tables.';\n",
              "          element.innerHTML = '';\n",
              "          dataTable['output_type'] = 'display_data';\n",
              "          await google.colab.output.renderOutput(dataTable, element);\n",
              "          const docLink = document.createElement('div');\n",
              "          docLink.innerHTML = docLinkHtml;\n",
              "          element.appendChild(docLink);\n",
              "        }\n",
              "      </script>\n",
              "    </div>\n",
              "  </div>\n",
              "  "
            ]
          },
          "metadata": {},
          "execution_count": 68
        }
      ]
    },
    {
      "cell_type": "markdown",
      "source": [
        "## Linear autoencoding"
      ],
      "metadata": {
        "id": "Cm4B-yVIFivZ"
      }
    },
    {
      "cell_type": "code",
      "source": [
        "import torch\n",
        "import torch.nn as nn\n",
        "torch.manual_seed(10)\n",
        "\n",
        "\n",
        "\n",
        "# Define the autoencoder\n",
        "class Autoencoder(nn.Module):\n",
        "    def __init__(self, input_size, encoding_size):\n",
        "        super(Autoencoder, self).__init__()\n",
        "        self.encoder = nn.Linear(input_size, encoding_size)\n",
        "        self.decoder = nn.Linear(encoding_size, input_size)\n",
        "        \n",
        "    def forward(self, x):\n",
        "        x = self.encoder(x)\n",
        "        x = self.decoder(x)\n",
        "        return x\n",
        "\n",
        "# Train the autoencoder\n",
        "autoencoder = Autoencoder(input_size=4, encoding_size=2)\n",
        "criterion = nn.MSELoss()\n",
        "optimizer = torch.optim.Adam(autoencoder.parameters(), lr=0.1)\n",
        "\n",
        "X_torch = torch.tensor(X, dtype=torch.float32)\n",
        "for epoch in range(1000):\n",
        "    optimizer.zero_grad()\n",
        "    outputs = autoencoder(X_torch)\n",
        "    loss = criterion(outputs, X_torch)\n",
        "    loss.backward()\n",
        "    optimizer.step()\n",
        "\n",
        "# Extract the encoded features\n",
        "X_encoded = autoencoder.encoder(X_torch).detach().numpy()\n",
        "#print(X_encoded)"
      ],
      "metadata": {
        "id": "IV16ZGkoFfqp"
      },
      "execution_count": null,
      "outputs": []
    },
    {
      "cell_type": "code",
      "source": [
        "autoencoder_df = pd.DataFrame(X_encoded,columns=['AE1','AE2',])\n",
        "autoencoder_df = pd.concat([autoencoder_df,pd.DataFrame(y)],axis=1)"
      ],
      "metadata": {
        "id": "lacR3_lmFpC5"
      },
      "execution_count": null,
      "outputs": []
    },
    {
      "cell_type": "code",
      "source": [
        "autoencoder_df"
      ],
      "metadata": {
        "colab": {
          "base_uri": "https://localhost:8080/",
          "height": 423
        },
        "id": "DLp_Ws6XFsmP",
        "outputId": "acaba93a-d528-41ce-dd67-b40ff8973573"
      },
      "execution_count": null,
      "outputs": [
        {
          "output_type": "execute_result",
          "data": {
            "text/plain": [
              "          AE1       AE2  0\n",
              "0    1.215764 -1.971988  0\n",
              "1    0.241622 -2.083807  0\n",
              "2    0.642424 -2.256798  0\n",
              "3    0.414155 -2.260023  0\n",
              "4    1.408075 -2.043627  0\n",
              "..        ...       ... ..\n",
              "145 -1.016094  1.688686  2\n",
              "146 -1.832860  1.109858  2\n",
              "147 -0.923232  1.349426  2\n",
              "148 -0.281011  1.394411  2\n",
              "149 -0.853536  0.780197  2\n",
              "\n",
              "[150 rows x 3 columns]"
            ],
            "text/html": [
              "\n",
              "  <div id=\"df-d33fec50-2604-4ea6-afa9-d0ef5852811f\">\n",
              "    <div class=\"colab-df-container\">\n",
              "      <div>\n",
              "<style scoped>\n",
              "    .dataframe tbody tr th:only-of-type {\n",
              "        vertical-align: middle;\n",
              "    }\n",
              "\n",
              "    .dataframe tbody tr th {\n",
              "        vertical-align: top;\n",
              "    }\n",
              "\n",
              "    .dataframe thead th {\n",
              "        text-align: right;\n",
              "    }\n",
              "</style>\n",
              "<table border=\"1\" class=\"dataframe\">\n",
              "  <thead>\n",
              "    <tr style=\"text-align: right;\">\n",
              "      <th></th>\n",
              "      <th>AE1</th>\n",
              "      <th>AE2</th>\n",
              "      <th>0</th>\n",
              "    </tr>\n",
              "  </thead>\n",
              "  <tbody>\n",
              "    <tr>\n",
              "      <th>0</th>\n",
              "      <td>1.215764</td>\n",
              "      <td>-1.971988</td>\n",
              "      <td>0</td>\n",
              "    </tr>\n",
              "    <tr>\n",
              "      <th>1</th>\n",
              "      <td>0.241622</td>\n",
              "      <td>-2.083807</td>\n",
              "      <td>0</td>\n",
              "    </tr>\n",
              "    <tr>\n",
              "      <th>2</th>\n",
              "      <td>0.642424</td>\n",
              "      <td>-2.256798</td>\n",
              "      <td>0</td>\n",
              "    </tr>\n",
              "    <tr>\n",
              "      <th>3</th>\n",
              "      <td>0.414155</td>\n",
              "      <td>-2.260023</td>\n",
              "      <td>0</td>\n",
              "    </tr>\n",
              "    <tr>\n",
              "      <th>4</th>\n",
              "      <td>1.408075</td>\n",
              "      <td>-2.043627</td>\n",
              "      <td>0</td>\n",
              "    </tr>\n",
              "    <tr>\n",
              "      <th>...</th>\n",
              "      <td>...</td>\n",
              "      <td>...</td>\n",
              "      <td>...</td>\n",
              "    </tr>\n",
              "    <tr>\n",
              "      <th>145</th>\n",
              "      <td>-1.016094</td>\n",
              "      <td>1.688686</td>\n",
              "      <td>2</td>\n",
              "    </tr>\n",
              "    <tr>\n",
              "      <th>146</th>\n",
              "      <td>-1.832860</td>\n",
              "      <td>1.109858</td>\n",
              "      <td>2</td>\n",
              "    </tr>\n",
              "    <tr>\n",
              "      <th>147</th>\n",
              "      <td>-0.923232</td>\n",
              "      <td>1.349426</td>\n",
              "      <td>2</td>\n",
              "    </tr>\n",
              "    <tr>\n",
              "      <th>148</th>\n",
              "      <td>-0.281011</td>\n",
              "      <td>1.394411</td>\n",
              "      <td>2</td>\n",
              "    </tr>\n",
              "    <tr>\n",
              "      <th>149</th>\n",
              "      <td>-0.853536</td>\n",
              "      <td>0.780197</td>\n",
              "      <td>2</td>\n",
              "    </tr>\n",
              "  </tbody>\n",
              "</table>\n",
              "<p>150 rows × 3 columns</p>\n",
              "</div>\n",
              "      <button class=\"colab-df-convert\" onclick=\"convertToInteractive('df-d33fec50-2604-4ea6-afa9-d0ef5852811f')\"\n",
              "              title=\"Convert this dataframe to an interactive table.\"\n",
              "              style=\"display:none;\">\n",
              "        \n",
              "  <svg xmlns=\"http://www.w3.org/2000/svg\" height=\"24px\"viewBox=\"0 0 24 24\"\n",
              "       width=\"24px\">\n",
              "    <path d=\"M0 0h24v24H0V0z\" fill=\"none\"/>\n",
              "    <path d=\"M18.56 5.44l.94 2.06.94-2.06 2.06-.94-2.06-.94-.94-2.06-.94 2.06-2.06.94zm-11 1L8.5 8.5l.94-2.06 2.06-.94-2.06-.94L8.5 2.5l-.94 2.06-2.06.94zm10 10l.94 2.06.94-2.06 2.06-.94-2.06-.94-.94-2.06-.94 2.06-2.06.94z\"/><path d=\"M17.41 7.96l-1.37-1.37c-.4-.4-.92-.59-1.43-.59-.52 0-1.04.2-1.43.59L10.3 9.45l-7.72 7.72c-.78.78-.78 2.05 0 2.83L4 21.41c.39.39.9.59 1.41.59.51 0 1.02-.2 1.41-.59l7.78-7.78 2.81-2.81c.8-.78.8-2.07 0-2.86zM5.41 20L4 18.59l7.72-7.72 1.47 1.35L5.41 20z\"/>\n",
              "  </svg>\n",
              "      </button>\n",
              "      \n",
              "  <style>\n",
              "    .colab-df-container {\n",
              "      display:flex;\n",
              "      flex-wrap:wrap;\n",
              "      gap: 12px;\n",
              "    }\n",
              "\n",
              "    .colab-df-convert {\n",
              "      background-color: #E8F0FE;\n",
              "      border: none;\n",
              "      border-radius: 50%;\n",
              "      cursor: pointer;\n",
              "      display: none;\n",
              "      fill: #1967D2;\n",
              "      height: 32px;\n",
              "      padding: 0 0 0 0;\n",
              "      width: 32px;\n",
              "    }\n",
              "\n",
              "    .colab-df-convert:hover {\n",
              "      background-color: #E2EBFA;\n",
              "      box-shadow: 0px 1px 2px rgba(60, 64, 67, 0.3), 0px 1px 3px 1px rgba(60, 64, 67, 0.15);\n",
              "      fill: #174EA6;\n",
              "    }\n",
              "\n",
              "    [theme=dark] .colab-df-convert {\n",
              "      background-color: #3B4455;\n",
              "      fill: #D2E3FC;\n",
              "    }\n",
              "\n",
              "    [theme=dark] .colab-df-convert:hover {\n",
              "      background-color: #434B5C;\n",
              "      box-shadow: 0px 1px 3px 1px rgba(0, 0, 0, 0.15);\n",
              "      filter: drop-shadow(0px 1px 2px rgba(0, 0, 0, 0.3));\n",
              "      fill: #FFFFFF;\n",
              "    }\n",
              "  </style>\n",
              "\n",
              "      <script>\n",
              "        const buttonEl =\n",
              "          document.querySelector('#df-d33fec50-2604-4ea6-afa9-d0ef5852811f button.colab-df-convert');\n",
              "        buttonEl.style.display =\n",
              "          google.colab.kernel.accessAllowed ? 'block' : 'none';\n",
              "\n",
              "        async function convertToInteractive(key) {\n",
              "          const element = document.querySelector('#df-d33fec50-2604-4ea6-afa9-d0ef5852811f');\n",
              "          const dataTable =\n",
              "            await google.colab.kernel.invokeFunction('convertToInteractive',\n",
              "                                                     [key], {});\n",
              "          if (!dataTable) return;\n",
              "\n",
              "          const docLinkHtml = 'Like what you see? Visit the ' +\n",
              "            '<a target=\"_blank\" href=https://colab.research.google.com/notebooks/data_table.ipynb>data table notebook</a>'\n",
              "            + ' to learn more about interactive tables.';\n",
              "          element.innerHTML = '';\n",
              "          dataTable['output_type'] = 'display_data';\n",
              "          await google.colab.output.renderOutput(dataTable, element);\n",
              "          const docLink = document.createElement('div');\n",
              "          docLink.innerHTML = docLinkHtml;\n",
              "          element.appendChild(docLink);\n",
              "        }\n",
              "      </script>\n",
              "    </div>\n",
              "  </div>\n",
              "  "
            ]
          },
          "metadata": {},
          "execution_count": 71
        }
      ]
    },
    {
      "cell_type": "markdown",
      "source": [
        "## PCA and Linear Autoencoder"
      ],
      "metadata": {
        "id": "wS5u0B-yF0AW"
      }
    },
    {
      "cell_type": "code",
      "source": [
        "compar = pd.concat([principa_df,autoencoder_df],axis=1)\n",
        "compar"
      ],
      "metadata": {
        "colab": {
          "base_uri": "https://localhost:8080/",
          "height": 423
        },
        "id": "zOu7BsP_FvXM",
        "outputId": "59faedc7-3a75-4fe9-c922-81fc973fcb65"
      },
      "execution_count": null,
      "outputs": [
        {
          "output_type": "execute_result",
          "data": {
            "text/plain": [
              "          PC1       PC2  0       AE1       AE2  0\n",
              "0   -2.264703 -0.480027  0  1.215764 -1.971988  0\n",
              "1   -2.080961  0.674134  0  0.241622 -2.083807  0\n",
              "2   -2.364229  0.341908  0  0.642424 -2.256798  0\n",
              "3   -2.299384  0.597395  0  0.414155 -2.260023  0\n",
              "4   -2.389842 -0.646835  0  1.408075 -2.043627  0\n",
              "..        ...       ... ..       ...       ... ..\n",
              "145  1.870503 -0.386966  2 -1.016094  1.688686  2\n",
              "146  1.564580  0.896687  2 -1.832860  1.109858  2\n",
              "147  1.521170 -0.269069  2 -0.923232  1.349426  2\n",
              "148  1.372788 -1.011254  2 -0.281011  1.394411  2\n",
              "149  0.960656  0.024332  2 -0.853536  0.780197  2\n",
              "\n",
              "[150 rows x 6 columns]"
            ],
            "text/html": [
              "\n",
              "  <div id=\"df-213a43eb-54ca-45cf-8a65-5a94578305fb\">\n",
              "    <div class=\"colab-df-container\">\n",
              "      <div>\n",
              "<style scoped>\n",
              "    .dataframe tbody tr th:only-of-type {\n",
              "        vertical-align: middle;\n",
              "    }\n",
              "\n",
              "    .dataframe tbody tr th {\n",
              "        vertical-align: top;\n",
              "    }\n",
              "\n",
              "    .dataframe thead th {\n",
              "        text-align: right;\n",
              "    }\n",
              "</style>\n",
              "<table border=\"1\" class=\"dataframe\">\n",
              "  <thead>\n",
              "    <tr style=\"text-align: right;\">\n",
              "      <th></th>\n",
              "      <th>PC1</th>\n",
              "      <th>PC2</th>\n",
              "      <th>0</th>\n",
              "      <th>AE1</th>\n",
              "      <th>AE2</th>\n",
              "      <th>0</th>\n",
              "    </tr>\n",
              "  </thead>\n",
              "  <tbody>\n",
              "    <tr>\n",
              "      <th>0</th>\n",
              "      <td>-2.264703</td>\n",
              "      <td>-0.480027</td>\n",
              "      <td>0</td>\n",
              "      <td>1.215764</td>\n",
              "      <td>-1.971988</td>\n",
              "      <td>0</td>\n",
              "    </tr>\n",
              "    <tr>\n",
              "      <th>1</th>\n",
              "      <td>-2.080961</td>\n",
              "      <td>0.674134</td>\n",
              "      <td>0</td>\n",
              "      <td>0.241622</td>\n",
              "      <td>-2.083807</td>\n",
              "      <td>0</td>\n",
              "    </tr>\n",
              "    <tr>\n",
              "      <th>2</th>\n",
              "      <td>-2.364229</td>\n",
              "      <td>0.341908</td>\n",
              "      <td>0</td>\n",
              "      <td>0.642424</td>\n",
              "      <td>-2.256798</td>\n",
              "      <td>0</td>\n",
              "    </tr>\n",
              "    <tr>\n",
              "      <th>3</th>\n",
              "      <td>-2.299384</td>\n",
              "      <td>0.597395</td>\n",
              "      <td>0</td>\n",
              "      <td>0.414155</td>\n",
              "      <td>-2.260023</td>\n",
              "      <td>0</td>\n",
              "    </tr>\n",
              "    <tr>\n",
              "      <th>4</th>\n",
              "      <td>-2.389842</td>\n",
              "      <td>-0.646835</td>\n",
              "      <td>0</td>\n",
              "      <td>1.408075</td>\n",
              "      <td>-2.043627</td>\n",
              "      <td>0</td>\n",
              "    </tr>\n",
              "    <tr>\n",
              "      <th>...</th>\n",
              "      <td>...</td>\n",
              "      <td>...</td>\n",
              "      <td>...</td>\n",
              "      <td>...</td>\n",
              "      <td>...</td>\n",
              "      <td>...</td>\n",
              "    </tr>\n",
              "    <tr>\n",
              "      <th>145</th>\n",
              "      <td>1.870503</td>\n",
              "      <td>-0.386966</td>\n",
              "      <td>2</td>\n",
              "      <td>-1.016094</td>\n",
              "      <td>1.688686</td>\n",
              "      <td>2</td>\n",
              "    </tr>\n",
              "    <tr>\n",
              "      <th>146</th>\n",
              "      <td>1.564580</td>\n",
              "      <td>0.896687</td>\n",
              "      <td>2</td>\n",
              "      <td>-1.832860</td>\n",
              "      <td>1.109858</td>\n",
              "      <td>2</td>\n",
              "    </tr>\n",
              "    <tr>\n",
              "      <th>147</th>\n",
              "      <td>1.521170</td>\n",
              "      <td>-0.269069</td>\n",
              "      <td>2</td>\n",
              "      <td>-0.923232</td>\n",
              "      <td>1.349426</td>\n",
              "      <td>2</td>\n",
              "    </tr>\n",
              "    <tr>\n",
              "      <th>148</th>\n",
              "      <td>1.372788</td>\n",
              "      <td>-1.011254</td>\n",
              "      <td>2</td>\n",
              "      <td>-0.281011</td>\n",
              "      <td>1.394411</td>\n",
              "      <td>2</td>\n",
              "    </tr>\n",
              "    <tr>\n",
              "      <th>149</th>\n",
              "      <td>0.960656</td>\n",
              "      <td>0.024332</td>\n",
              "      <td>2</td>\n",
              "      <td>-0.853536</td>\n",
              "      <td>0.780197</td>\n",
              "      <td>2</td>\n",
              "    </tr>\n",
              "  </tbody>\n",
              "</table>\n",
              "<p>150 rows × 6 columns</p>\n",
              "</div>\n",
              "      <button class=\"colab-df-convert\" onclick=\"convertToInteractive('df-213a43eb-54ca-45cf-8a65-5a94578305fb')\"\n",
              "              title=\"Convert this dataframe to an interactive table.\"\n",
              "              style=\"display:none;\">\n",
              "        \n",
              "  <svg xmlns=\"http://www.w3.org/2000/svg\" height=\"24px\"viewBox=\"0 0 24 24\"\n",
              "       width=\"24px\">\n",
              "    <path d=\"M0 0h24v24H0V0z\" fill=\"none\"/>\n",
              "    <path d=\"M18.56 5.44l.94 2.06.94-2.06 2.06-.94-2.06-.94-.94-2.06-.94 2.06-2.06.94zm-11 1L8.5 8.5l.94-2.06 2.06-.94-2.06-.94L8.5 2.5l-.94 2.06-2.06.94zm10 10l.94 2.06.94-2.06 2.06-.94-2.06-.94-.94-2.06-.94 2.06-2.06.94z\"/><path d=\"M17.41 7.96l-1.37-1.37c-.4-.4-.92-.59-1.43-.59-.52 0-1.04.2-1.43.59L10.3 9.45l-7.72 7.72c-.78.78-.78 2.05 0 2.83L4 21.41c.39.39.9.59 1.41.59.51 0 1.02-.2 1.41-.59l7.78-7.78 2.81-2.81c.8-.78.8-2.07 0-2.86zM5.41 20L4 18.59l7.72-7.72 1.47 1.35L5.41 20z\"/>\n",
              "  </svg>\n",
              "      </button>\n",
              "      \n",
              "  <style>\n",
              "    .colab-df-container {\n",
              "      display:flex;\n",
              "      flex-wrap:wrap;\n",
              "      gap: 12px;\n",
              "    }\n",
              "\n",
              "    .colab-df-convert {\n",
              "      background-color: #E8F0FE;\n",
              "      border: none;\n",
              "      border-radius: 50%;\n",
              "      cursor: pointer;\n",
              "      display: none;\n",
              "      fill: #1967D2;\n",
              "      height: 32px;\n",
              "      padding: 0 0 0 0;\n",
              "      width: 32px;\n",
              "    }\n",
              "\n",
              "    .colab-df-convert:hover {\n",
              "      background-color: #E2EBFA;\n",
              "      box-shadow: 0px 1px 2px rgba(60, 64, 67, 0.3), 0px 1px 3px 1px rgba(60, 64, 67, 0.15);\n",
              "      fill: #174EA6;\n",
              "    }\n",
              "\n",
              "    [theme=dark] .colab-df-convert {\n",
              "      background-color: #3B4455;\n",
              "      fill: #D2E3FC;\n",
              "    }\n",
              "\n",
              "    [theme=dark] .colab-df-convert:hover {\n",
              "      background-color: #434B5C;\n",
              "      box-shadow: 0px 1px 3px 1px rgba(0, 0, 0, 0.15);\n",
              "      filter: drop-shadow(0px 1px 2px rgba(0, 0, 0, 0.3));\n",
              "      fill: #FFFFFF;\n",
              "    }\n",
              "  </style>\n",
              "\n",
              "      <script>\n",
              "        const buttonEl =\n",
              "          document.querySelector('#df-213a43eb-54ca-45cf-8a65-5a94578305fb button.colab-df-convert');\n",
              "        buttonEl.style.display =\n",
              "          google.colab.kernel.accessAllowed ? 'block' : 'none';\n",
              "\n",
              "        async function convertToInteractive(key) {\n",
              "          const element = document.querySelector('#df-213a43eb-54ca-45cf-8a65-5a94578305fb');\n",
              "          const dataTable =\n",
              "            await google.colab.kernel.invokeFunction('convertToInteractive',\n",
              "                                                     [key], {});\n",
              "          if (!dataTable) return;\n",
              "\n",
              "          const docLinkHtml = 'Like what you see? Visit the ' +\n",
              "            '<a target=\"_blank\" href=https://colab.research.google.com/notebooks/data_table.ipynb>data table notebook</a>'\n",
              "            + ' to learn more about interactive tables.';\n",
              "          element.innerHTML = '';\n",
              "          dataTable['output_type'] = 'display_data';\n",
              "          await google.colab.output.renderOutput(dataTable, element);\n",
              "          const docLink = document.createElement('div');\n",
              "          docLink.innerHTML = docLinkHtml;\n",
              "          element.appendChild(docLink);\n",
              "        }\n",
              "      </script>\n",
              "    </div>\n",
              "  </div>\n",
              "  "
            ]
          },
          "metadata": {},
          "execution_count": 72
        }
      ]
    },
    {
      "cell_type": "code",
      "source": [
        "def plot3clusters(X, title, vtitle):\n",
        "  plt.figure()\n",
        "  colors = ['r', 'g', 'b']\n",
        "  lw = 2\n",
        "\n",
        "  for color, i, target_name in zip(colors, [0, 1, 2], target_names):\n",
        "      plt.scatter(X[y == i, 0], X[y == i, 1], color=color, alpha=1., lw=lw,\n",
        "                  label=target_name)\n",
        "  plt.legend(loc='best', shadow=False, scatterpoints=1)\n",
        "  plt.title(title)  \n",
        "  plt.xlabel(vtitle + \"1\")\n",
        "  plt.ylabel(vtitle + \"2\")\n",
        "  plt.show()"
      ],
      "metadata": {
        "id": "S92VuSP7F4KB"
      },
      "execution_count": null,
      "outputs": []
    },
    {
      "cell_type": "code",
      "source": [
        "plot3clusters(project_x[:,:2], 'PCA', 'PC') \n",
        "plot3clusters(X_encoded[:,:2], 'Linear AE', 'AE')"
      ],
      "metadata": {
        "colab": {
          "base_uri": "https://localhost:8080/",
          "height": 927
        },
        "id": "SQWeetwNF8BL",
        "outputId": "52718de0-8440-46fd-e630-4430cf564883"
      },
      "execution_count": null,
      "outputs": [
        {
          "output_type": "display_data",
          "data": {
            "text/plain": [
              "<Figure size 640x480 with 1 Axes>"
            ],
            "image/png": "[encoded data removed]"
          },
          "metadata": {}
        },
        {
          "output_type": "display_data",
          "data": {
            "text/plain": [
              "<Figure size 640x480 with 1 Axes>"
            ],
            "image/png": "[encoded data removed]"
          },
          "metadata": {}
        }
      ]
    },
    {
      "cell_type": "code",
      "source": [],
      "metadata": {
        "id": "MciRQfulF-F_"
      },
      "execution_count": null,
      "outputs": []
    },
    {
      "cell_type": "markdown",
      "source": [
        "# Implementing an Autoencoder in PyTorch"
      ],
      "metadata": {
        "id": "DuGQvwlnP5OS"
      }
    },
    {
      "cell_type": "markdown",
      "source": [
        "## Setup"
      ],
      "metadata": {
        "id": "HPBF8ZmFQEEZ"
      }
    },
    {
      "cell_type": "code",
      "execution_count": null,
      "metadata": {
        "id": "0jFlPNYMDzOC"
      },
      "outputs": [],
      "source": [
        "import matplotlib.pyplot as plt\n",
        "import numpy as np\n",
        "import torch\n",
        "import torch.nn as nn\n",
        "import torch.optim as optim\n",
        "import torchvision"
      ]
    },
    {
      "cell_type": "markdown",
      "source": [
        "## Set our seed and other configurations for reproducibility."
      ],
      "metadata": {
        "id": "KhJ2DjySP_zY"
      }
    },
    {
      "cell_type": "code",
      "source": [
        "# Use GPU if available \n",
        "device = 'cuda' if torch.cuda.is_available() else 'cpu'\n",
        "seed = 42\n",
        "torch.manual_seed(seed)\n",
        "torch.backends.cudnn.benchmark = False\n",
        "torch.backends.cudnn.deterministic = True"
      ],
      "metadata": {
        "id": "wtYOij97D5_c"
      },
      "execution_count": null,
      "outputs": []
    },
    {
      "cell_type": "code",
      "source": [
        "from six.moves import urllib\n",
        "opener = urllib.request.build_opener()\n",
        "opener.addheaders = [('User-agent', 'Mozilla/5.0')]\n",
        "urllib.request.install_opener(opener)"
      ],
      "metadata": {
        "id": "7iTWrMn1D-iW"
      },
      "execution_count": null,
      "outputs": []
    },
    {
      "cell_type": "markdown",
      "source": [
        "## We set the batch size, the number of training epochs, and the learning rate."
      ],
      "metadata": {
        "id": "CGHagne7QQ2q"
      }
    },
    {
      "cell_type": "code",
      "source": [
        "batch_size = 64\n",
        "learning_rate = 1e-3"
      ],
      "metadata": {
        "id": "8z6itbgTEjHT"
      },
      "execution_count": null,
      "outputs": []
    },
    {
      "cell_type": "markdown",
      "source": [
        "## Dataset"
      ],
      "metadata": {
        "id": "f7yiPjbTQbGQ"
      }
    },
    {
      "cell_type": "markdown",
      "source": [
        "#### We load our MNIST dataset using the torchvision package."
      ],
      "metadata": {
        "id": "XpNjMzf3Qhyx"
      }
    },
    {
      "cell_type": "code",
      "source": [
        "import torch\n",
        "import numpy as np\n",
        "from torchvision import datasets\n",
        "import torchvision.transforms as transforms\n",
        "\n",
        "# convert data to torch.FloatTensor\n",
        "transform = transforms.ToTensor()\n",
        "\n",
        "# load the training and test datasets\n",
        "train_data = datasets.MNIST(root='~/.pytorch/MNIST_data/', train=True,\n",
        "                                   download=True, transform=transform)\n",
        "test_data = datasets.MNIST(root='~/.pytorch/MNIST_data/', train=False,\n",
        "                                  download=True, transform=transform)\n",
        "\n",
        "# Create training and test dataloaders\n",
        "num_workers = 0\n",
        "# how many samples per batch to load\n",
        "batch_size = 64\n",
        "\n",
        "# prepare data loaders\n",
        "train_loader = torch.utils.data.DataLoader(train_data, batch_size=batch_size, num_workers=num_workers)\n",
        "test_loader = torch.utils.data.DataLoader(test_data, batch_size=batch_size, num_workers=num_workers)"
      ],
      "metadata": {
        "id": "z1LHrkPaTikb"
      },
      "execution_count": null,
      "outputs": []
    },
    {
      "cell_type": "code",
      "source": [
        "examples = iter(train_loader)\n",
        "example_data, example_targets = next(examples)\n",
        "print(example_data.shape)\n",
        "print(example_targets)"
      ],
      "metadata": {
        "colab": {
          "base_uri": "https://localhost:8080/"
        },
        "id": "dsZhN65GEQ6x",
        "outputId": "2940fe27-f996-4f52-8c84-b4c803dea48d"
      },
      "execution_count": null,
      "outputs": [
        {
          "output_type": "stream",
          "name": "stdout",
          "text": [
            "torch.Size([64, 1, 28, 28])\n",
            "tensor([5, 0, 4, 1, 9, 2, 1, 3, 1, 4, 3, 5, 3, 6, 1, 7, 2, 8, 6, 9, 4, 0, 9, 1,\n",
            "        1, 2, 4, 3, 2, 7, 3, 8, 6, 9, 0, 5, 6, 0, 7, 6, 1, 8, 7, 9, 3, 9, 8, 5,\n",
            "        9, 3, 3, 0, 7, 4, 9, 8, 0, 9, 4, 1, 4, 4, 6, 0])\n"
          ]
        }
      ]
    },
    {
      "cell_type": "code",
      "source": [
        "dataiter = iter(train_loader)\n",
        "images,labels = next(dataiter)\n",
        "print(torch.min(images), torch.max(images))"
      ],
      "metadata": {
        "colab": {
          "base_uri": "https://localhost:8080/"
        },
        "id": "nmkLpq0-EsRj",
        "outputId": "b1284fb0-04c1-4744-c8d8-9544f256e4d7"
      },
      "execution_count": null,
      "outputs": [
        {
          "output_type": "stream",
          "name": "stdout",
          "text": [
            "tensor(0.) tensor(1.)\n"
          ]
        }
      ]
    },
    {
      "cell_type": "code",
      "source": [
        "for i in range(6):\n",
        "    plt.subplot(2,3,i+1)\n",
        "    plt.imshow(example_data[i][0], cmap='gray')\n",
        "plt.show()"
      ],
      "metadata": {
        "colab": {
          "base_uri": "https://localhost:8080/",
          "height": 411
        },
        "id": "ZWIu5whKEw7M",
        "outputId": "ca4b64a1-5187-4f49-803e-b9ba2b54e609"
      },
      "execution_count": null,
      "outputs": [
        {
          "output_type": "display_data",
          "data": {
            "text/plain": [
              "<Figure size 640x480 with 6 Axes>"
            ],
            "image/png": "[encoded data removed]"
          },
          "metadata": {}
        }
      ]
    },
    {
      "cell_type": "markdown",
      "source": [
        "# Denoising Autoencoder"
      ],
      "metadata": {
        "id": "Qv3MQGmJRlfv"
      }
    },
    {
      "cell_type": "markdown",
      "source": [
        "##### Using sigmoid as activation function of the output layer"
      ],
      "metadata": {
        "id": "nE5zf6CEQuXL"
      }
    },
    {
      "cell_type": "code",
      "source": [
        "class AE(nn.Module):\n",
        "    def __init__(self, **kwargs):\n",
        "        super().__init__()\n",
        "        self.encoder_hidden_layer = nn.Linear(\n",
        "            in_features=kwargs[\"input_shape\"], out_features=128\n",
        "        )\n",
        "        self.encoder_output_layer = nn.Linear(\n",
        "            in_features=128, out_features=64\n",
        "        )\n",
        "        self.decoder_hidden_layer = nn.Linear(\n",
        "            in_features=64, out_features=128\n",
        "        )\n",
        "        self.decoder_output_layer = nn.Linear(\n",
        "            in_features=128, out_features=kwargs[\"input_shape\"]\n",
        "        )\n",
        "\n",
        "    def forward(self, features):\n",
        "        out1 = self.encoder_hidden_layer(features)\n",
        "        activation = torch.relu(out1)\n",
        "        out2 = self.encoder_output_layer(activation)\n",
        "        activation1 = torch.sigmoid(out2)\n",
        "        out3 = self.decoder_hidden_layer(activation1)\n",
        "        activation2 = torch.relu(out3)\n",
        "        out4 = self.decoder_output_layer(activation2)\n",
        "        reconstructed = torch.sigmoid(out4)\n",
        "        return reconstructed"
      ],
      "metadata": {
        "id": "51iPuTWgE0oj"
      },
      "execution_count": null,
      "outputs": []
    },
    {
      "cell_type": "markdown",
      "source": [
        "#### MSE used as metric"
      ],
      "metadata": {
        "id": "iBEbMt4vRHoK"
      }
    },
    {
      "cell_type": "markdown",
      "source": [
        "Before using our defined autoencoder class, we have the following things to do: 1. We configure which device we want to run on. 2. We instantiate an AE object. 3. We define our optimizer. 4. We define our reconstruction loss."
      ],
      "metadata": {
        "id": "B051xMHwRCty"
      }
    },
    {
      "cell_type": "code",
      "source": [
        "#  use gpu if available\n",
        "device = \"cuda\" if torch.cuda.is_available() else \"cpu\"\n",
        "\n",
        "# create a model from `AE` autoencoder class\n",
        "# load it to the specified device, either gpu or cpu\n",
        "model = AE(input_shape=784).to(device)\n",
        "\n",
        "# create an optimizer object\n",
        "# Adam optimizer with learning rate 1e-3\n",
        "optimizer = optim.Adam(model.parameters(), lr=learning_rate)\n",
        "\n",
        "# mean-squared error loss\n",
        "criterion = nn.MSELoss()"
      ],
      "metadata": {
        "id": "z71nrR95FBr4"
      },
      "execution_count": null,
      "outputs": []
    },
    {
      "cell_type": "markdown",
      "source": [
        "### train the model"
      ],
      "metadata": {
        "id": "xcdrtUEiN6ld"
      }
    },
    {
      "cell_type": "code",
      "source": [
        "#number of epochs to train the model\n",
        "n_epochs = 20\n",
        "\n",
        "# for adding noise to images\n",
        "noise_factor=0.5\n",
        "loss =[]\n",
        "for epoch in range(1, n_epochs+1):\n",
        "    # monitor training loss\n",
        "    \n",
        "    loss1 = []\n",
        "    ###################\n",
        "    # train the model #\n",
        "    ###################\n",
        "    #for data in train_loader:\n",
        "    for batch_features, _ in train_loader:\n",
        "        # _ stands in for labels, here\n",
        "        # no need to flatten images\n",
        "        #images, _ = data\n",
        "        batch_features = batch_features.view(-1, 784).to(device)\n",
        "        \n",
        "        ## add random noise to the input images\n",
        "        \n",
        "        #noisy_imgs = batch_features + noise_factor * torch.randn(*batch_features.shape)\n",
        "\n",
        "        noisy_imgs = batch_features + noise_factor * torch.normal(mean=0, std=noise_factor, size=batch_features.shape).to(device)\n",
        "        # Clip the images to be between 0 and 1\n",
        "        noisy_imgs = torch.clip(noisy_imgs, 0., 1.)\n",
        "                \n",
        "        # clear the gradients of all optimized variables\n",
        "        optimizer.zero_grad()\n",
        "        ## forward pass: compute predicted outputs by passing *noisy* images to the model\n",
        "        outputs = model(noisy_imgs)\n",
        "        # calculate the loss\n",
        "        # the \"target\" is still the original, not-noisy images\n",
        "        train_loss = criterion(outputs, batch_features)\n",
        "        # backward pass: compute gradient of the loss with respect to model parameters\n",
        "        train_loss.backward()\n",
        "        # perform a single optimization step (parameter update)\n",
        "        optimizer.step()\n",
        "        # update running training loss\n",
        "        #train_loss += loss.item()*batch_features.size(0)\n",
        "        loss1.append(train_loss.detach())  \n",
        "    # print avg training statistics \n",
        "    #train_loss = train_loss/len(train_loader)\n",
        "    loss.append(np.mean(loss1))\n",
        "    # print('Epoch: {} \\tTraining Loss: {:.6f}'.format(\n",
        "    #     epoch, \n",
        "    #     train_loss\n",
        "    #     ))"
      ],
      "metadata": {
        "id": "NlVsClGizPR-"
      },
      "execution_count": null,
      "outputs": []
    },
    {
      "cell_type": "code",
      "source": [
        "plt.plot(loss)"
      ],
      "metadata": {
        "colab": {
          "base_uri": "https://localhost:8080/",
          "height": 448
        },
        "id": "-vb83ege6sEF",
        "outputId": "7a043576-8155-4f3b-cf6f-a2a01dc01a26"
      },
      "execution_count": null,
      "outputs": [
        {
          "output_type": "execute_result",
          "data": {
            "text/plain": [
              "[<matplotlib.lines.Line2D at 0x7f0c4a1f8550>]"
            ]
          },
          "metadata": {},
          "execution_count": 97
        },
        {
          "output_type": "display_data",
          "data": {
            "text/plain": [
              "<Figure size 640x480 with 1 Axes>"
            ],
            "image/png": "[encoded data removed]"
          },
          "metadata": {}
        }
      ]
    },
    {
      "cell_type": "code",
      "source": [
        "#number of epochs to train the model\n",
        "n_epochs = 20\n",
        "\n",
        "# for adding noise to images\n",
        "noise_factor=0.5\n",
        "\n",
        "for epoch in range(1, n_epochs+1):\n",
        "    # monitor training loss\n",
        "    train_loss = 0.0\n",
        "    \n",
        "    ###################\n",
        "    # train the model #\n",
        "    ###################\n",
        "    #for data in train_loader:\n",
        "    for batch_features, _ in train_loader:\n",
        "        # _ stands in for labels, here\n",
        "        # no need to flatten images\n",
        "        #images, _ = data\n",
        "        batch_features = batch_features.view(-1, 784).to(device)\n",
        "        \n",
        "        ## add random noise to the input images\n",
        "        \n",
        "        #noisy_imgs = batch_features + noise_factor * torch.randn(*batch_features.shape)\n",
        "\n",
        "        noisy_imgs = batch_features + noise_factor * torch.normal(mean=0, std=noise_factor, size=batch_features.shape).to(device)\n",
        "        # Clip the images to be between 0 and 1\n",
        "        noisy_imgs = torch.clip(noisy_imgs, 0., 1.)\n",
        "                \n",
        "        # clear the gradients of all optimized variables\n",
        "        optimizer.zero_grad()\n",
        "        ## forward pass: compute predicted outputs by passing *noisy* images to the model\n",
        "        outputs = model(noisy_imgs)\n",
        "        # calculate the loss\n",
        "        # the \"target\" is still the original, not-noisy images\n",
        "        loss = criterion(outputs, batch_features)\n",
        "        # backward pass: compute gradient of the loss with respect to model parameters\n",
        "        loss.backward()\n",
        "        # perform a single optimization step (parameter update)\n",
        "        optimizer.step()\n",
        "        # update running training loss\n",
        "        train_loss += loss.item()*batch_features.size(0)\n",
        "            \n",
        "    # print avg training statistics \n",
        "    train_loss = train_loss/len(train_loader)\n",
        "    print('Epoch: {} \\tTraining Loss: {:.6f}'.format(\n",
        "        epoch, \n",
        "        train_loss\n",
        "        ))"
      ],
      "metadata": {
        "colab": {
          "base_uri": "https://localhost:8080/"
        },
        "id": "hVQNForLFFny",
        "outputId": "b71e3a42-65f9-4e18-b81d-9f60ba84aa0a"
      },
      "execution_count": null,
      "outputs": [
        {
          "output_type": "stream",
          "name": "stdout",
          "text": [
            "Epoch: 1 \tTraining Loss: 0.723443\n",
            "Epoch: 2 \tTraining Loss: 0.712692\n",
            "Epoch: 3 \tTraining Loss: 0.701980\n",
            "Epoch: 4 \tTraining Loss: 0.693461\n",
            "Epoch: 5 \tTraining Loss: 0.681964\n",
            "Epoch: 6 \tTraining Loss: 0.671410\n",
            "Epoch: 7 \tTraining Loss: 0.662719\n",
            "Epoch: 8 \tTraining Loss: 0.652874\n",
            "Epoch: 9 \tTraining Loss: 0.644701\n",
            "Epoch: 10 \tTraining Loss: 0.636521\n",
            "Epoch: 11 \tTraining Loss: 0.629714\n",
            "Epoch: 12 \tTraining Loss: 0.622987\n",
            "Epoch: 13 \tTraining Loss: 0.617398\n",
            "Epoch: 14 \tTraining Loss: 0.611846\n",
            "Epoch: 15 \tTraining Loss: 0.606458\n",
            "Epoch: 16 \tTraining Loss: 0.601963\n",
            "Epoch: 17 \tTraining Loss: 0.597692\n",
            "Epoch: 18 \tTraining Loss: 0.594235\n",
            "Epoch: 19 \tTraining Loss: 0.589663\n",
            "Epoch: 20 \tTraining Loss: 0.587039\n"
          ]
        }
      ]
    },
    {
      "cell_type": "markdown",
      "source": [
        "####  plot the first ten input images and then reconstructed images"
      ],
      "metadata": {
        "id": "zIdkQBAeRauY"
      }
    },
    {
      "cell_type": "code",
      "source": [
        "# obtain one batch of test images\n",
        "dataiter = iter(test_loader)\n",
        "images, labels = next(dataiter)\n",
        "images = images.view(-1, 784).to(device)\n",
        "# add noise to the test images\n",
        "#noisy_imgs = images + noise_factor * torch.randn(*images.shape)\n",
        "noisy_imgs = images + torch.normal(mean=0, std=noise_factor, size=images.shape).to(device)\n",
        "noisy_imgs = torch.clip(noisy_imgs, 0., 1.)\n",
        "\n",
        "# get sample outputs\n",
        "output = model(noisy_imgs)\n",
        "# prep images for display\n",
        "noisy_imgs = noisy_imgs.cpu().numpy()\n",
        "\n",
        "# output is resized into a batch of iages\n",
        "output = output.view(batch_size, 1, 28, 28)\n",
        "# use detach when it's an output that requires_grad\n",
        "output = output.cpu().detach().numpy()\n",
        "\n",
        "# plot the first ten input images and then reconstructed images\n",
        "fig, axes = plt.subplots(nrows=2, ncols=10, sharex=True, sharey=True, figsize=(25,4))\n",
        "\n",
        "# input images on top row, reconstructions on bottom\n",
        "for noisy_imgs, row in zip([noisy_imgs, output], axes):\n",
        "    for img, ax in zip(noisy_imgs, row):\n",
        "        #print(np.squeeze(img).shape)\n",
        "        #print(img)\n",
        "        #print(row.shape)\n",
        "        ax.imshow(img.reshape((28, 28)), cmap='gray')\n",
        "        ax.get_xaxis().set_visible(False)\n",
        "        ax.get_yaxis().set_visible(False)"
      ],
      "metadata": {
        "colab": {
          "base_uri": "https://localhost:8080/",
          "height": 231
        },
        "id": "vSSvmw1RJIVI",
        "outputId": "ea5b623d-3509-43a9-a8e1-33b15549e445"
      },
      "execution_count": null,
      "outputs": [
        {
          "output_type": "display_data",
          "data": {
            "text/plain": [
              "<Figure size 2500x400 with 20 Axes>"
            ],
            "image/png": "[encoded data removed]"
          },
          "metadata": {}
        }
      ]
    },
    {
      "cell_type": "markdown",
      "source": [
        "# peak signal-to-noise ratio (PSNR) "
      ],
      "metadata": {
        "id": "AKgufLlTlSve"
      }
    },
    {
      "cell_type": "markdown",
      "source": [
        "The term peak signal-to-noise ratio (PSNR) is an expression for the ratio between the maximum possible value (power) of a signal and the power of distorting noise that affects the quality of its representation.\n",
        "\n",
        "\n",
        "Typical values for the PSNR in lossy image and video compression are between 30 and 50 dB, where higher is better. Values over 40 dB are normally considered very good and those below 20 dB are normally unacceptable.\n",
        "\n",
        "$$ PSNR = 10 \\log_{10} (\\frac{MAX^2_I}{MSE})$$  \n",
        "\n",
        "$$ PSNR = 20 \\log_{10} (\\frac{MAX_I}{\\sqrt{MSE}})$$ \\\\\n",
        "\n",
        "Here, MAXI is the maximum possible pixel value of the image. When the pixels are represented using 8 bits per sample, this is 255. More generally, when samples are represented using linear PCM with B bits per sample, MAXI is $2^B − 1$. \\\\\n",
        "\n",
        "With $MAX_I=2^8 − 1$ in our case."
      ],
      "metadata": {
        "id": "bxtCesQ0laAh"
      }
    },
    {
      "cell_type": "code",
      "source": [
        "total_mse = 0.0\n",
        "\n",
        "with torch.no_grad():\n",
        "    for batch_features, _ in test_loader:\n",
        "        # flatten the batch of images\n",
        "        batch_features = batch_features.view(-1, 784).to(device)\n",
        "        \n",
        "        # add noise to the batch of images\n",
        "        noisy_imgs = batch_features + noise_factor * torch.normal(mean=0, std=noise_factor, size=batch_features.shape).to(device)\n",
        "        noisy_imgs = torch.clip(noisy_imgs, 0., 1.)\n",
        "        \n",
        "        # obtain the denoised output images\n",
        "        outputs = model(noisy_imgs)\n",
        "        \n",
        "        total_mse += ((outputs - batch_features)**2).sum().item()\n",
        "        \n",
        "# calculate the average loss and MSE over all batches\n",
        "avg_mse = total_mse / len(test_loader.dataset)\n",
        "\n",
        "# calculate the PSNR as a measure of accuracy\n",
        "psnr = 20 * np.log10(255 / np.sqrt(avg_mse))\n",
        "\n",
        "print(\"PSNR: {:.2f} db\".format(psnr))\n"
      ],
      "metadata": {
        "colab": {
          "base_uri": "https://localhost:8080/"
        },
        "id": "RlMolHX98qiX",
        "outputId": "20383fc2-5fec-4bb3-f7ae-e00b6f9b63ee"
      },
      "execution_count": null,
      "outputs": [
        {
          "output_type": "stream",
          "name": "stdout",
          "text": [
            "PSNR: 39.52 db\n"
          ]
        }
      ]
    },
    {
      "cell_type": "markdown",
      "source": [
        "# Contractive AutoEncoder"
      ],
      "metadata": {
        "id": "k4gqQY7SRtLu"
      }
    },
    {
      "cell_type": "markdown",
      "source": [
        "Contractive provides the implementation of the auto-encoder with a loss of 2 terms: (1) Reconstruction, (2) Contraction or Jacobian of encoder \n",
        "\n",
        "$$J =\\sum_{x \\in \\ D_n} L(x,g(f(x))+ Λ \\lVert J_f (x) \\rVert^2_F  $$\n",
        "\n",
        "With \\\\\n",
        "$f$ : encoding function \\\\\n",
        "$g$ : decoding function \\\\\n",
        "L: MSE in our case \\\\\n",
        "$$ \\lVert J_f (x) \\rVert^2_F = \\sum_{i,j} (\\frac{∂h_j(x)}{∂ x_i})^2$$\n",
        "\n",
        "With \\\\\n",
        " x: input vector \\\\\n",
        " h: encoding vector \\\\\n",
        "\n",
        "$\\textbf{Implementation details and Jacobian calculations}$\n",
        "\n",
        "1 layer of sigmoid\n",
        "\n",
        "$z_j=W_ix_i+b_j$\n",
        "\n",
        "$h_j=sigmoid(z_j) = \\sigma(z_j) $\n",
        "\n",
        "\n",
        "Compute $\\frac{∂ h_j}{∂ x_i}$\n",
        "\n",
        "$$\\frac{∂ h_j}{∂ x_i}=\\frac{∂ σ(z_j)}{∂ x_i}= \\frac{∂ σ(z_j)}{∂ z_j} × \\frac{∂ z_j}{∂ x_i}$$\n",
        "\n",
        "$$=σ(z_j) (1-σ(z_j))w_i$$\n",
        "\n",
        "$$\\frac{∂ h_j}{∂ x_i}=h_j (1-h_j)w_i$$\n",
        "\n",
        "$\\lVert J_f (x) \\rVert^2_F= \\sum_{i,j} \\frac{∂ h_j}{∂ x_i}=\\sum_{i,j} [h_j (1-h_j)] ^2 [w^T_{ji}]^2 $\n",
        "\n",
        "Therefore\n",
        "In the case of a sigmoid nonlinearity, the penalty on\n",
        "the Jacobian norm has the following simple expression:\n",
        "\n",
        "$$\\lVert J_f (x) \\rVert^2_F= \\sum_{j=1}^{d_h} [h_j (1-h_j)] ^2 \\sum_{i=1}^{dx} [w^T_{ji}]^2$$\n",
        "\n",
        "with\n",
        "$d_h$: number of hidden dimension of the encoding layer \\\\\n",
        "$d_x$ : number of input dimension \\\\\n",
        "$w$ is of shape $[d_h , d_x]$"
      ],
      "metadata": {
        "id": "GKFQYE9XMsTe"
      }
    },
    {
      "cell_type": "markdown",
      "source": [
        "## Using sigmoid as activation function of the output layer"
      ],
      "metadata": {
        "id": "Eq1Pp4KwSn7R"
      }
    },
    {
      "cell_type": "markdown",
      "source": [
        "# AutoEncoder (Overcomplete) without Contractive"
      ],
      "metadata": {
        "id": "9iUA6xHXwfZE"
      }
    },
    {
      "cell_type": "code",
      "source": [
        "class AE(nn.Module):\n",
        "    def __init__(self, input_dim, hidden_dim):\n",
        "        super().__init__()\n",
        "        self.input_dim = input_dim\n",
        "        self.hidden_dim = hidden_dim\n",
        "        \n",
        "        self.encoder = nn.Sequential(\n",
        "            nn.Linear(input_dim, hidden_dim),\n",
        "            nn.Sigmoid()\n",
        "        )\n",
        "        \n",
        "        self.decoder = nn.Sequential(\n",
        "            nn.Linear(hidden_dim, input_dim),\n",
        "            nn.Sigmoid()\n",
        "        )\n",
        "        \n",
        "        \n",
        "    def forward(self, x):\n",
        "      out = self.encoder(x)\n",
        "      x_recon = self.decoder(out)\n",
        "      return x_recon "
      ],
      "metadata": {
        "id": "w5e5C4WW4T_u"
      },
      "execution_count": null,
      "outputs": []
    },
    {
      "cell_type": "markdown",
      "source": [
        "# Hyperparameter"
      ],
      "metadata": {
        "id": "ZqDbl5uA8dIy"
      }
    },
    {
      "cell_type": "code",
      "source": [
        "# Example usage\n",
        "input_dim = 784 # number of input features\n",
        "hidden_dim = 800 # number of neurons in the hidden layer\n",
        "num_epochs = 20 # number of training epochs\n",
        "batch_size = 64 # batch size for training"
      ],
      "metadata": {
        "id": "xRLKD-vi8YPw"
      },
      "execution_count": null,
      "outputs": []
    },
    {
      "cell_type": "markdown",
      "source": [
        "# MSE used as metric\n",
        "Before using our defined autoencoder class, we have the following things to do: 1. We configure which device we want to run on. 2. We instantiate an AE object. 3. We define our optimizer. 4. We define our reconstruction loss."
      ],
      "metadata": {
        "id": "Hwg8c3LyMzGL"
      }
    },
    {
      "cell_type": "code",
      "source": [
        "#  use gpu if available\n",
        "device = torch.device(\"cuda\" if torch.cuda.is_available() else \"cpu\")\n",
        "\n",
        "# create a model from `AE` autoencoder class\n",
        "# load it to the specified device, either gpu or cpu\n",
        "model = AE(input_dim, hidden_dim).to(device)\n",
        "\n",
        "# create an optimizer object\n",
        "# Adam optimizer with learning rate 1e-3\n",
        "optimizer = optim.Adam(model.parameters(), lr=learning_rate)\n",
        "\n",
        "# mean-squared error loss\n",
        "criterion = nn.MSELoss()"
      ],
      "metadata": {
        "id": "UrhV64jE5cuN"
      },
      "execution_count": null,
      "outputs": []
    },
    {
      "cell_type": "markdown",
      "source": [
        "### Train the model"
      ],
      "metadata": {
        "id": "_q5kthacNmxy"
      }
    },
    {
      "cell_type": "code",
      "source": [
        "loss =[]\n",
        "for epoch in range(num_epochs):\n",
        "    loss1 = []\n",
        "    for batch_features, _ in train_loader:\n",
        "        # reshape mini-batch data to [N, 784] matrix\n",
        "        # load it to the active device\n",
        "        batch_features = batch_features.view(-1, 784).to(device)\n",
        "        \n",
        "        # reset the gradients back to zero\n",
        "        # PyTorch accumulates gradients on subsequent backward passes\n",
        "        optimizer.zero_grad()\n",
        "        \n",
        "        # compute reconstructions\n",
        "        outputs = model(batch_features)\n",
        "        \n",
        "        # compute training reconstruction loss\n",
        "        train_loss = criterion(outputs, batch_features)\n",
        "        \n",
        "        # compute accumulated gradients\n",
        "        train_loss.backward()\n",
        "        \n",
        "        # perform parameter update based on current gradients\n",
        "        optimizer.step()\n",
        "        \n",
        "        # add the mini-batch training loss to epoch loss\n",
        "        #loss += train_loss.item()\n",
        "        loss1.append(train_loss.detach()) \n",
        "    \n",
        "    # compute the epoch training loss\n",
        "    #loss = loss / len(train_loader)\n",
        "    loss.append(np.mean(loss1))\n",
        "    # display the epoch training loss\n",
        "    # print(\"epoch : {}/{}, recon loss = {:.8f}\".format(epoch + 1, num_epochs, loss))"
      ],
      "metadata": {
        "id": "CH9PwzCI8ql8"
      },
      "execution_count": null,
      "outputs": []
    },
    {
      "cell_type": "code",
      "source": [
        "plt.plot(loss)"
      ],
      "metadata": {
        "colab": {
          "base_uri": "https://localhost:8080/",
          "height": 448
        },
        "id": "bXJ_SiSWARuD",
        "outputId": "81cb342e-2fef-4f9d-c2bd-eb9c668b47d9"
      },
      "execution_count": null,
      "outputs": [
        {
          "output_type": "execute_result",
          "data": {
            "text/plain": [
              "[<matplotlib.lines.Line2D at 0x7f0c36872d00>]"
            ]
          },
          "metadata": {},
          "execution_count": 105
        },
        {
          "output_type": "display_data",
          "data": {
            "text/plain": [
              "<Figure size 640x480 with 1 Axes>"
            ],
            "image/png": "[encoded data removed]"
          },
          "metadata": {}
        }
      ]
    },
    {
      "cell_type": "code",
      "source": [
        "for epoch in range(num_epochs):\n",
        "    loss = 0\n",
        "    for batch_features, _ in train_loader:\n",
        "        # reshape mini-batch data to [N, 784] matrix\n",
        "        # load it to the active device\n",
        "        batch_features = batch_features.view(-1, 784).to(device)\n",
        "        \n",
        "        # reset the gradients back to zero\n",
        "        # PyTorch accumulates gradients on subsequent backward passes\n",
        "        optimizer.zero_grad()\n",
        "        \n",
        "        # compute reconstructions\n",
        "        outputs = model(batch_features)\n",
        "        \n",
        "        # compute training reconstruction loss\n",
        "        train_loss = criterion(outputs, batch_features)\n",
        "        \n",
        "        # compute accumulated gradients\n",
        "        train_loss.backward()\n",
        "        \n",
        "        # perform parameter update based on current gradients\n",
        "        optimizer.step()\n",
        "        \n",
        "        # add the mini-batch training loss to epoch loss\n",
        "        loss += train_loss.item()\n",
        "    \n",
        "    # compute the epoch training loss\n",
        "    loss = loss / len(train_loader)\n",
        "    \n",
        "    # display the epoch training loss\n",
        "    print(\"epoch : {}/{}, recon loss = {:.8f}\".format(epoch + 1, num_epochs, loss))"
      ],
      "metadata": {
        "colab": {
          "base_uri": "https://localhost:8080/"
        },
        "id": "olMfqyxO6AL2",
        "outputId": "a0b10901-4389-4825-dfb6-959fb039f402"
      },
      "execution_count": null,
      "outputs": [
        {
          "output_type": "stream",
          "name": "stdout",
          "text": [
            "epoch : 1/20, recon loss = 0.00067629\n",
            "epoch : 2/20, recon loss = 0.00066246\n",
            "epoch : 3/20, recon loss = 0.00065055\n",
            "epoch : 4/20, recon loss = 0.00063989\n",
            "epoch : 5/20, recon loss = 0.00063069\n",
            "epoch : 6/20, recon loss = 0.00062221\n",
            "epoch : 7/20, recon loss = 0.00061450\n",
            "epoch : 8/20, recon loss = 0.00060807\n",
            "epoch : 9/20, recon loss = 0.00060187\n",
            "epoch : 10/20, recon loss = 0.00059609\n",
            "epoch : 11/20, recon loss = 0.00059087\n",
            "epoch : 12/20, recon loss = 0.00058618\n",
            "epoch : 13/20, recon loss = 0.00058172\n",
            "epoch : 14/20, recon loss = 0.00057786\n",
            "epoch : 15/20, recon loss = 0.00057450\n",
            "epoch : 16/20, recon loss = 0.00057106\n",
            "epoch : 17/20, recon loss = 0.00056796\n",
            "epoch : 18/20, recon loss = 0.00056458\n",
            "epoch : 19/20, recon loss = 0.00056177\n",
            "epoch : 20/20, recon loss = 0.00055946\n"
          ]
        }
      ]
    },
    {
      "cell_type": "markdown",
      "source": [
        "### Test model"
      ],
      "metadata": {
        "id": "8R-uGIWP8rP6"
      }
    },
    {
      "cell_type": "code",
      "source": [
        "with torch.no_grad():\n",
        "    for batch_features in test_loader:\n",
        "        batch_features = batch_features[0]\n",
        "        test_examples = batch_features.view(-1, 784).to(device)\n",
        "        reconstruction = model(test_examples)\n",
        "        break\n",
        "\n",
        "with torch.no_grad():\n",
        "    number = 10\n",
        "    plt.figure(figsize=(20, 4))\n",
        "    for index in range(number):\n",
        "        # display original\n",
        "        ax = plt.subplot(2, number, index + 1)\n",
        "        plt.imshow(test_examples[index].cpu().numpy().reshape(28, 28))\n",
        "        plt.gray()\n",
        "        ax.get_xaxis().set_visible(False)\n",
        "        ax.get_yaxis().set_visible(False)\n",
        "\n",
        "        # display reconstruction\n",
        "        ax = plt.subplot(2, number, index + 1 + number)\n",
        "        plt.imshow(reconstruction[index].cpu().numpy().reshape(28, 28))\n",
        "        plt.gray()\n",
        "        ax.get_xaxis().set_visible(False)\n",
        "        ax.get_yaxis().set_visible(False)\n",
        "    plt.show()"
      ],
      "metadata": {
        "colab": {
          "base_uri": "https://localhost:8080/",
          "height": 273
        },
        "id": "WJdl_by46g2u",
        "outputId": "61afb2b9-04c2-4ed0-9009-dbf4c1812bf9"
      },
      "execution_count": null,
      "outputs": [
        {
          "output_type": "display_data",
          "data": {
            "text/plain": [
              "<Figure size 2000x400 with 20 Axes>"
            ],
            "image/png": "[encoded data removed]"
          },
          "metadata": {}
        }
      ]
    },
    {
      "cell_type": "markdown",
      "source": [
        "## peak signal-to-noise ratio (PSNR)"
      ],
      "metadata": {
        "id": "i7kiqv8HL2mS"
      }
    },
    {
      "cell_type": "code",
      "source": [
        "import torch\n",
        "\n",
        "def psnr_scae(model, test_loader):\n",
        "    model.eval()\n",
        "    mse_sum = 0\n",
        "    num_examples = 0\n",
        "    with torch.no_grad():\n",
        "        for data, _ in test_loader:\n",
        "            x = data.view(data.size(0), -1).to(device)\n",
        "            x_recon = model(x)\n",
        "            mse_sum += torch.sum((x - x_recon) ** 2)\n",
        "            num_examples += x.size(0)\n",
        "    mse = mse_sum / num_examples\n",
        "    psnr = 20 * torch.log10(torch.tensor(255.0).to(device)).to(device) - 10 * torch.log10(mse).to(device)\n",
        "    return psnr.item()\n",
        "psnr=psnr_scae(model, test_loader)\n",
        "print('PSNR: {:.2f} dB'.format(psnr))"
      ],
      "metadata": {
        "colab": {
          "base_uri": "https://localhost:8080/"
        },
        "id": "7ViGMytD9ADo",
        "outputId": "92531517-ed95-48b7-d5b8-f6546afe2701"
      },
      "execution_count": null,
      "outputs": [
        {
          "output_type": "stream",
          "name": "stdout",
          "text": [
            "PSNR: 50.49 dB\n"
          ]
        }
      ]
    },
    {
      "cell_type": "markdown",
      "source": [
        "## Contractive (Overcomplete) AutoEncoder"
      ],
      "metadata": {
        "id": "86THytp9w_Pt"
      }
    },
    {
      "cell_type": "code",
      "source": [
        "class ContractiveAutoencoder(nn.Module):\n",
        "    def __init__(self, input_dim, hidden_dim, contractive_coeff=1e-4):\n",
        "        super(ContractiveAutoencoder, self).__init__()\n",
        "        self.input_dim = input_dim\n",
        "        self.hidden_dim = hidden_dim\n",
        "        self.contractive_coeff = contractive_coeff\n",
        "        \n",
        "        self.encoder = nn.Sequential(\n",
        "            nn.Linear(input_dim, hidden_dim),\n",
        "            nn.Sigmoid()\n",
        "        )\n",
        "        \n",
        "        self.decoder = nn.Sequential(\n",
        "            nn.Linear(hidden_dim, input_dim),\n",
        "            nn.Sigmoid()\n",
        "        )\n",
        "        \n",
        "        \n",
        "    def forward(self, x):\n",
        "      h = self.encoder(x)\n",
        "      x_recon = self.decoder(h)\n",
        "      return x_recon, h.view(-1, self.hidden_dim, 1).expand(-1, -1, self.input_dim)\n",
        "\n",
        "    def contractive_loss(self, x, x_recon, h):\n",
        "      mse = nn.MSELoss()(x, x_recon)\n",
        "      dh_dx = h * (1 - h) # derivative of the sigmoid activation function\n",
        "      w = self.encoder[0].weight\n",
        "      contractive = torch.sum(dh_dx**2 * torch.sum(w**2, dim=0), dim=0)\n",
        "      return mse + self.contractive_coeff * contractive.mean()"
      ],
      "metadata": {
        "id": "ilKL8zvDFAXl"
      },
      "execution_count": null,
      "outputs": []
    },
    {
      "cell_type": "markdown",
      "source": [
        "## MSE used as metric\n",
        "Before using our defined autoencoder class, we have the following things to do:  1. We instantiate an ContractiveAutoencoder object. 2. We define our optimizer. 3. We define our reconstruction loss."
      ],
      "metadata": {
        "id": "aXRhfIRFM8NH"
      }
    },
    {
      "cell_type": "code",
      "source": [
        "# Create CAE model\n",
        "model1 = ContractiveAutoencoder(input_dim, hidden_dim).to(device)\n",
        "\n",
        "# Define optimizer and loss function\n",
        "optimizer = optim.Adam(model1.parameters())\n",
        "criterion = model1.contractive_loss"
      ],
      "metadata": {
        "id": "D0EOMsP_pdPJ"
      },
      "execution_count": null,
      "outputs": []
    },
    {
      "cell_type": "markdown",
      "source": [
        "## Train the model"
      ],
      "metadata": {
        "id": "MJ5Il8pzNUVx"
      }
    },
    {
      "cell_type": "code",
      "source": [
        "# Train the model\n",
        "for epoch in range(num_epochs):\n",
        "    train_loss = 0\n",
        "    for batch_idx, (data, _) in enumerate(train_loader):\n",
        "        optimizer.zero_grad()\n",
        "        x = data.view(data.size(0), -1).to(device)\n",
        "        x_recon, h = model1(x)\n",
        "        #print(x.shape)\n",
        "        #print(x_recon.shape)\n",
        "        #print(z.shape)\n",
        "        loss = criterion(x, x_recon, h)\n",
        "        loss.backward()\n",
        "        optimizer.step()\n",
        "        train_loss += loss.item()\n",
        "    print('Epoch: {} Train loss: {:.4f}'.format(epoch, train_loss / len(train_loader)))"
      ],
      "metadata": {
        "colab": {
          "base_uri": "https://localhost:8080/"
        },
        "id": "6VAMWWgaKANs",
        "outputId": "da66435e-11ae-4db1-e322-aec804b8c765"
      },
      "execution_count": null,
      "outputs": [
        {
          "output_type": "stream",
          "name": "stdout",
          "text": [
            "Epoch: 0 Train loss: 0.0236\n",
            "Epoch: 1 Train loss: 0.0073\n",
            "Epoch: 2 Train loss: 0.0051\n",
            "Epoch: 3 Train loss: 0.0041\n",
            "Epoch: 4 Train loss: 0.0036\n",
            "Epoch: 5 Train loss: 0.0032\n",
            "Epoch: 6 Train loss: 0.0029\n",
            "Epoch: 7 Train loss: 0.0027\n",
            "Epoch: 8 Train loss: 0.0025\n",
            "Epoch: 9 Train loss: 0.0024\n",
            "Epoch: 10 Train loss: 0.0023\n",
            "Epoch: 11 Train loss: 0.0022\n",
            "Epoch: 12 Train loss: 0.0021\n",
            "Epoch: 13 Train loss: 0.0021\n",
            "Epoch: 14 Train loss: 0.0020\n",
            "Epoch: 15 Train loss: 0.0019\n",
            "Epoch: 16 Train loss: 0.0019\n",
            "Epoch: 17 Train loss: 0.0019\n",
            "Epoch: 18 Train loss: 0.0018\n",
            "Epoch: 19 Train loss: 0.0018\n"
          ]
        }
      ]
    },
    {
      "cell_type": "markdown",
      "source": [
        "## Show original and reconstructed images"
      ],
      "metadata": {
        "id": "YeOg8zgMMdi6"
      }
    },
    {
      "cell_type": "code",
      "source": [
        "# Set model to evaluation mode\n",
        "plt.figure(figsize=(15, 2))\n",
        "\n",
        "model1.eval()\n",
        "\n",
        "# Reconstruct test images\n",
        "with torch.no_grad():\n",
        "    for data, _ in test_loader:\n",
        "        x = data.view(data.size(0), -1).to(device)\n",
        "        x_recon, z = model1(x)\n",
        "        recon_images = x_recon.view(-1, 1, 28, 28).to(device)\n",
        "        original_images = x.view(-1, 1, 28, 28).to(device)\n",
        "        # Show original and reconstructed images\n",
        "        for i in range(10):\n",
        "            plt.subplot(2, 10, i + 1)\n",
        "            plt.imshow(original_images[i].squeeze().cpu().numpy(), cmap='gray')\n",
        "            plt.axis('off')\n",
        "            plt.subplot(2, 10, i + 11)\n",
        "            plt.imshow(recon_images[i].squeeze().cpu().numpy(), cmap='gray')\n",
        "            plt.axis('off')\n",
        "        plt.show()\n",
        "        break"
      ],
      "metadata": {
        "colab": {
          "base_uri": "https://localhost:8080/",
          "height": 191
        },
        "id": "e9FapgQMKEQP",
        "outputId": "2fed3c66-d69a-4287-c141-ffd4253809c0"
      },
      "execution_count": null,
      "outputs": [
        {
          "output_type": "display_data",
          "data": {
            "text/plain": [
              "<Figure size 1500x200 with 20 Axes>"
            ],
            "image/png": "[encoded data removed]"
          },
          "metadata": {}
        }
      ]
    },
    {
      "cell_type": "markdown",
      "source": [
        "## peak signal-to-noise ratio (PSNR)"
      ],
      "metadata": {
        "id": "i1e3prQsMWoF"
      }
    },
    {
      "cell_type": "code",
      "source": [
        "import torch\n",
        "\n",
        "def psnr_cae(model, test_loader):\n",
        "    model.eval()\n",
        "    mse_sum = 0\n",
        "    num_examples = 0\n",
        "    with torch.no_grad():\n",
        "        for data, _ in test_loader:\n",
        "            x = data.view(data.size(0), -1).to(device)\n",
        "            x_recon, _ = model(x)\n",
        "            mse_sum += torch.sum((x - x_recon) ** 2)\n",
        "            num_examples += x.size(0)\n",
        "    mse = mse_sum / num_examples\n",
        "    psnr = 20 * torch.log10(torch.tensor(255.0).to(device)).to(device) - 10 * torch.log10(mse).to(device)\n",
        "    return psnr.item()\n",
        "pnsr=psnr_cae(model1, test_loader)\n",
        "print('PSNR: {:.2f} dB'.format(psnr))"
      ],
      "metadata": {
        "id": "YM9WYXF-UImR",
        "colab": {
          "base_uri": "https://localhost:8080/"
        },
        "outputId": "2f2b4db3-14d3-4821-a8e6-d5bacabdd047"
      },
      "execution_count": null,
      "outputs": [
        {
          "output_type": "stream",
          "name": "stdout",
          "text": [
            "PSNR: 49.68 dB\n"
          ]
        }
      ]
    },
    {
      "cell_type": "code",
      "source": [],
      "metadata": {
        "id": "ZM5DArS9qgwA"
      },
      "execution_count": null,
      "outputs": []
    }
  ]
}